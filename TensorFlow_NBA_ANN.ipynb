{
  "nbformat": 4,
  "nbformat_minor": 0,
  "metadata": {
    "colab": {
      "name": "Copy of TensorFlow NBA ANN",
      "provenance": [],
      "collapsed_sections": [],
      "include_colab_link": true
    },
    "kernelspec": {
      "name": "python3",
      "display_name": "Python 3"
    }
  },
  "cells": [
    {
      "cell_type": "markdown",
      "metadata": {
        "id": "view-in-github",
        "colab_type": "text"
      },
      "source": [
        "<a href=\"https://colab.research.google.com/github/frankwillard/NBA-Web-Scraper-And-ANN/blob/main/TensorFlow_NBA_ANN.ipynb\" target=\"_parent\"><img src=\"https://colab.research.google.com/assets/colab-badge.svg\" alt=\"Open In Colab\"/></a>"
      ]
    },
    {
      "cell_type": "markdown",
      "metadata": {
        "id": "lP6JLo1tGNBg"
      },
      "source": [
        "# TensorFlow NBA Champion Neural Network"
      ]
    },
    {
      "cell_type": "markdown",
      "source": [
        "Inspired by the TensorFlow tutorial on working with Imbalanced Data\n",
        "\n",
        "https://www.tensorflow.org/tutorials/structured_data/imbalanced_data"
      ],
      "metadata": {
        "id": "aDVOeqwsNKFS"
      }
    },
    {
      "cell_type": "markdown",
      "metadata": {
        "id": "gWZyYmS_UE_L"
      },
      "source": [
        "### Importing the libraries"
      ]
    },
    {
      "cell_type": "code",
      "metadata": {
        "id": "MxkJoQBkUIHC"
      },
      "source": [
        "import numpy as np\n",
        "import pandas as pd\n",
        "import tensorflow as tf"
      ],
      "execution_count": 41,
      "outputs": []
    },
    {
      "cell_type": "code",
      "metadata": {
        "id": "ZaTwK7ojXr2F",
        "colab": {
          "base_uri": "https://localhost:8080/",
          "height": 35
        },
        "outputId": "d0362831-07e2-46bc-ae79-63b393f8a015"
      },
      "source": [
        "tf.__version__"
      ],
      "execution_count": 42,
      "outputs": [
        {
          "output_type": "execute_result",
          "data": {
            "text/plain": [
              "'2.8.0'"
            ],
            "application/vnd.google.colaboratory.intrinsic+json": {
              "type": "string"
            }
          },
          "metadata": {},
          "execution_count": 42
        }
      ]
    },
    {
      "cell_type": "markdown",
      "metadata": {
        "id": "1E0Q3aoKUCRX"
      },
      "source": [
        "## Part 1 - Data Preprocessing"
      ]
    },
    {
      "cell_type": "markdown",
      "metadata": {
        "id": "cKWAkFVGUU0Z"
      },
      "source": [
        "### Importing and viewing the dataset"
      ]
    },
    {
      "cell_type": "code",
      "metadata": {
        "id": "R4u86ru5OgPR",
        "colab": {
          "base_uri": "https://localhost:8080/",
          "height": 280
        },
        "outputId": "2ed797ef-895a-4634-a812-6220dd59f884"
      },
      "source": [
        "dataset = pd.read_csv('nba_team_advanced_data.csv')\n",
        "dataset.head()"
      ],
      "execution_count": 43,
      "outputs": [
        {
          "output_type": "execute_result",
          "data": {
            "text/plain": [
              "     Year                 Team   Age     W     L    PW    PL   MOV   SOS  \\\n",
              "0  1990.0        Atlanta Hawks  28.6  41.0  41.0  44.0  38.0  1.02 -0.39   \n",
              "1  1990.0       Boston Celtics  30.2  52.0  30.0  51.0  31.0  3.99 -0.76   \n",
              "2  1990.0    Charlotte Hornets  25.6  19.0  63.0  21.0  61.0 -7.82  0.81   \n",
              "3  1990.0        Chicago Bulls  26.1  55.0  27.0  50.0  32.0  3.26 -0.51   \n",
              "4  1990.0  Cleveland Cavaliers  26.1  42.0  40.0  40.0  42.0 -0.30 -0.31   \n",
              "\n",
              "    SRS  ...  DRB%  DFT/FGA                  Arena   Attend.  Playoffs  \\\n",
              "0  0.64  ...  65.5    0.254          Omni Coliseum  573711.0         N   \n",
              "1  3.23  ...  72.1    0.223          Boston Garden  611537.0         Y   \n",
              "2 -7.00  ...  67.5    0.269     Charlotte Coliseum  979941.0         N   \n",
              "3  2.74  ...  68.1    0.262        Chicago Stadium  752564.0         Y   \n",
              "4 -0.62  ...  67.7    0.202  Coliseum at Richfield  695710.0         Y   \n",
              "\n",
              "       W/L%  Losing_season  Champion  won_last  won_last_3  \n",
              "0  0.500000              N         N         N           N  \n",
              "1  0.634146              N         N         N           N  \n",
              "2  0.231707              Y         N         N           N  \n",
              "3  0.670732              N         N         N           N  \n",
              "4  0.512195              N         N         N           N  \n",
              "\n",
              "[5 rows x 33 columns]"
            ],
            "text/html": [
              "\n",
              "  <div id=\"df-77201392-d16c-4e41-8e42-9d07da79b1e9\">\n",
              "    <div class=\"colab-df-container\">\n",
              "      <div>\n",
              "<style scoped>\n",
              "    .dataframe tbody tr th:only-of-type {\n",
              "        vertical-align: middle;\n",
              "    }\n",
              "\n",
              "    .dataframe tbody tr th {\n",
              "        vertical-align: top;\n",
              "    }\n",
              "\n",
              "    .dataframe thead th {\n",
              "        text-align: right;\n",
              "    }\n",
              "</style>\n",
              "<table border=\"1\" class=\"dataframe\">\n",
              "  <thead>\n",
              "    <tr style=\"text-align: right;\">\n",
              "      <th></th>\n",
              "      <th>Year</th>\n",
              "      <th>Team</th>\n",
              "      <th>Age</th>\n",
              "      <th>W</th>\n",
              "      <th>L</th>\n",
              "      <th>PW</th>\n",
              "      <th>PL</th>\n",
              "      <th>MOV</th>\n",
              "      <th>SOS</th>\n",
              "      <th>SRS</th>\n",
              "      <th>...</th>\n",
              "      <th>DRB%</th>\n",
              "      <th>DFT/FGA</th>\n",
              "      <th>Arena</th>\n",
              "      <th>Attend.</th>\n",
              "      <th>Playoffs</th>\n",
              "      <th>W/L%</th>\n",
              "      <th>Losing_season</th>\n",
              "      <th>Champion</th>\n",
              "      <th>won_last</th>\n",
              "      <th>won_last_3</th>\n",
              "    </tr>\n",
              "  </thead>\n",
              "  <tbody>\n",
              "    <tr>\n",
              "      <th>0</th>\n",
              "      <td>1990.0</td>\n",
              "      <td>Atlanta Hawks</td>\n",
              "      <td>28.6</td>\n",
              "      <td>41.0</td>\n",
              "      <td>41.0</td>\n",
              "      <td>44.0</td>\n",
              "      <td>38.0</td>\n",
              "      <td>1.02</td>\n",
              "      <td>-0.39</td>\n",
              "      <td>0.64</td>\n",
              "      <td>...</td>\n",
              "      <td>65.5</td>\n",
              "      <td>0.254</td>\n",
              "      <td>Omni Coliseum</td>\n",
              "      <td>573711.0</td>\n",
              "      <td>N</td>\n",
              "      <td>0.500000</td>\n",
              "      <td>N</td>\n",
              "      <td>N</td>\n",
              "      <td>N</td>\n",
              "      <td>N</td>\n",
              "    </tr>\n",
              "    <tr>\n",
              "      <th>1</th>\n",
              "      <td>1990.0</td>\n",
              "      <td>Boston Celtics</td>\n",
              "      <td>30.2</td>\n",
              "      <td>52.0</td>\n",
              "      <td>30.0</td>\n",
              "      <td>51.0</td>\n",
              "      <td>31.0</td>\n",
              "      <td>3.99</td>\n",
              "      <td>-0.76</td>\n",
              "      <td>3.23</td>\n",
              "      <td>...</td>\n",
              "      <td>72.1</td>\n",
              "      <td>0.223</td>\n",
              "      <td>Boston Garden</td>\n",
              "      <td>611537.0</td>\n",
              "      <td>Y</td>\n",
              "      <td>0.634146</td>\n",
              "      <td>N</td>\n",
              "      <td>N</td>\n",
              "      <td>N</td>\n",
              "      <td>N</td>\n",
              "    </tr>\n",
              "    <tr>\n",
              "      <th>2</th>\n",
              "      <td>1990.0</td>\n",
              "      <td>Charlotte Hornets</td>\n",
              "      <td>25.6</td>\n",
              "      <td>19.0</td>\n",
              "      <td>63.0</td>\n",
              "      <td>21.0</td>\n",
              "      <td>61.0</td>\n",
              "      <td>-7.82</td>\n",
              "      <td>0.81</td>\n",
              "      <td>-7.00</td>\n",
              "      <td>...</td>\n",
              "      <td>67.5</td>\n",
              "      <td>0.269</td>\n",
              "      <td>Charlotte Coliseum</td>\n",
              "      <td>979941.0</td>\n",
              "      <td>N</td>\n",
              "      <td>0.231707</td>\n",
              "      <td>Y</td>\n",
              "      <td>N</td>\n",
              "      <td>N</td>\n",
              "      <td>N</td>\n",
              "    </tr>\n",
              "    <tr>\n",
              "      <th>3</th>\n",
              "      <td>1990.0</td>\n",
              "      <td>Chicago Bulls</td>\n",
              "      <td>26.1</td>\n",
              "      <td>55.0</td>\n",
              "      <td>27.0</td>\n",
              "      <td>50.0</td>\n",
              "      <td>32.0</td>\n",
              "      <td>3.26</td>\n",
              "      <td>-0.51</td>\n",
              "      <td>2.74</td>\n",
              "      <td>...</td>\n",
              "      <td>68.1</td>\n",
              "      <td>0.262</td>\n",
              "      <td>Chicago Stadium</td>\n",
              "      <td>752564.0</td>\n",
              "      <td>Y</td>\n",
              "      <td>0.670732</td>\n",
              "      <td>N</td>\n",
              "      <td>N</td>\n",
              "      <td>N</td>\n",
              "      <td>N</td>\n",
              "    </tr>\n",
              "    <tr>\n",
              "      <th>4</th>\n",
              "      <td>1990.0</td>\n",
              "      <td>Cleveland Cavaliers</td>\n",
              "      <td>26.1</td>\n",
              "      <td>42.0</td>\n",
              "      <td>40.0</td>\n",
              "      <td>40.0</td>\n",
              "      <td>42.0</td>\n",
              "      <td>-0.30</td>\n",
              "      <td>-0.31</td>\n",
              "      <td>-0.62</td>\n",
              "      <td>...</td>\n",
              "      <td>67.7</td>\n",
              "      <td>0.202</td>\n",
              "      <td>Coliseum at Richfield</td>\n",
              "      <td>695710.0</td>\n",
              "      <td>Y</td>\n",
              "      <td>0.512195</td>\n",
              "      <td>N</td>\n",
              "      <td>N</td>\n",
              "      <td>N</td>\n",
              "      <td>N</td>\n",
              "    </tr>\n",
              "  </tbody>\n",
              "</table>\n",
              "<p>5 rows × 33 columns</p>\n",
              "</div>\n",
              "      <button class=\"colab-df-convert\" onclick=\"convertToInteractive('df-77201392-d16c-4e41-8e42-9d07da79b1e9')\"\n",
              "              title=\"Convert this dataframe to an interactive table.\"\n",
              "              style=\"display:none;\">\n",
              "        \n",
              "  <svg xmlns=\"http://www.w3.org/2000/svg\" height=\"24px\"viewBox=\"0 0 24 24\"\n",
              "       width=\"24px\">\n",
              "    <path d=\"M0 0h24v24H0V0z\" fill=\"none\"/>\n",
              "    <path d=\"M18.56 5.44l.94 2.06.94-2.06 2.06-.94-2.06-.94-.94-2.06-.94 2.06-2.06.94zm-11 1L8.5 8.5l.94-2.06 2.06-.94-2.06-.94L8.5 2.5l-.94 2.06-2.06.94zm10 10l.94 2.06.94-2.06 2.06-.94-2.06-.94-.94-2.06-.94 2.06-2.06.94z\"/><path d=\"M17.41 7.96l-1.37-1.37c-.4-.4-.92-.59-1.43-.59-.52 0-1.04.2-1.43.59L10.3 9.45l-7.72 7.72c-.78.78-.78 2.05 0 2.83L4 21.41c.39.39.9.59 1.41.59.51 0 1.02-.2 1.41-.59l7.78-7.78 2.81-2.81c.8-.78.8-2.07 0-2.86zM5.41 20L4 18.59l7.72-7.72 1.47 1.35L5.41 20z\"/>\n",
              "  </svg>\n",
              "      </button>\n",
              "      \n",
              "  <style>\n",
              "    .colab-df-container {\n",
              "      display:flex;\n",
              "      flex-wrap:wrap;\n",
              "      gap: 12px;\n",
              "    }\n",
              "\n",
              "    .colab-df-convert {\n",
              "      background-color: #E8F0FE;\n",
              "      border: none;\n",
              "      border-radius: 50%;\n",
              "      cursor: pointer;\n",
              "      display: none;\n",
              "      fill: #1967D2;\n",
              "      height: 32px;\n",
              "      padding: 0 0 0 0;\n",
              "      width: 32px;\n",
              "    }\n",
              "\n",
              "    .colab-df-convert:hover {\n",
              "      background-color: #E2EBFA;\n",
              "      box-shadow: 0px 1px 2px rgba(60, 64, 67, 0.3), 0px 1px 3px 1px rgba(60, 64, 67, 0.15);\n",
              "      fill: #174EA6;\n",
              "    }\n",
              "\n",
              "    [theme=dark] .colab-df-convert {\n",
              "      background-color: #3B4455;\n",
              "      fill: #D2E3FC;\n",
              "    }\n",
              "\n",
              "    [theme=dark] .colab-df-convert:hover {\n",
              "      background-color: #434B5C;\n",
              "      box-shadow: 0px 1px 3px 1px rgba(0, 0, 0, 0.15);\n",
              "      filter: drop-shadow(0px 1px 2px rgba(0, 0, 0, 0.3));\n",
              "      fill: #FFFFFF;\n",
              "    }\n",
              "  </style>\n",
              "\n",
              "      <script>\n",
              "        const buttonEl =\n",
              "          document.querySelector('#df-77201392-d16c-4e41-8e42-9d07da79b1e9 button.colab-df-convert');\n",
              "        buttonEl.style.display =\n",
              "          google.colab.kernel.accessAllowed ? 'block' : 'none';\n",
              "\n",
              "        async function convertToInteractive(key) {\n",
              "          const element = document.querySelector('#df-77201392-d16c-4e41-8e42-9d07da79b1e9');\n",
              "          const dataTable =\n",
              "            await google.colab.kernel.invokeFunction('convertToInteractive',\n",
              "                                                     [key], {});\n",
              "          if (!dataTable) return;\n",
              "\n",
              "          const docLinkHtml = 'Like what you see? Visit the ' +\n",
              "            '<a target=\"_blank\" href=https://colab.research.google.com/notebooks/data_table.ipynb>data table notebook</a>'\n",
              "            + ' to learn more about interactive tables.';\n",
              "          element.innerHTML = '';\n",
              "          dataTable['output_type'] = 'display_data';\n",
              "          await google.colab.output.renderOutput(dataTable, element);\n",
              "          const docLink = document.createElement('div');\n",
              "          docLink.innerHTML = docLinkHtml;\n",
              "          element.appendChild(docLink);\n",
              "        }\n",
              "      </script>\n",
              "    </div>\n",
              "  </div>\n",
              "  "
            ]
          },
          "metadata": {},
          "execution_count": 43
        }
      ]
    },
    {
      "cell_type": "code",
      "source": [
        "dataset = dataset[dataset[\"Playoffs\"] == \"Y\"]"
      ],
      "metadata": {
        "id": "Bet5vY9VT78J"
      },
      "execution_count": 44,
      "outputs": []
    },
    {
      "cell_type": "code",
      "metadata": {
        "id": "sYSbD6jnOgw3"
      },
      "source": [
        "dataset = dataset.drop(columns=['Playoffs', 'Losing_season', 'Arena', 'L', 'W', 'PW', 'PL', 'Attend.'])"
      ],
      "execution_count": 45,
      "outputs": []
    },
    {
      "cell_type": "code",
      "metadata": {
        "colab": {
          "base_uri": "https://localhost:8080/"
        },
        "id": "-F2I-PxLOiPF",
        "outputId": "63d21f32-824c-4656-a635-7d9ab61edeba"
      },
      "source": [
        "dataset.columns"
      ],
      "execution_count": 46,
      "outputs": [
        {
          "output_type": "execute_result",
          "data": {
            "text/plain": [
              "Index(['Year', 'Team', 'Age', 'MOV', 'SOS', 'SRS', 'ORtg', 'DRtg', 'NRtg',\n",
              "       'Pace', 'FTr', '3PAr', 'TS%', 'OeFG%', 'OTOV%', 'ORB%', 'OFT/FGA',\n",
              "       'DeFG%', 'DTOV%', 'DRB%', 'DFT/FGA', 'W/L%', 'Champion', 'won_last',\n",
              "       'won_last_3'],\n",
              "      dtype='object')"
            ]
          },
          "metadata": {},
          "execution_count": 46
        }
      ]
    },
    {
      "cell_type": "code",
      "metadata": {
        "id": "MXUkhkMfU4wq"
      },
      "source": [
        "#Drop Year, Champion, Team\n",
        "X = dataset.iloc[:, ~ dataset.columns.isin(['Year', 'Champion', 'Team'])]\n",
        "y = dataset.loc[:, dataset.columns == 'Champion'].values\n",
        "y = np.array([0 if val == \"N\" else 1 for val in y])"
      ],
      "execution_count": 47,
      "outputs": []
    },
    {
      "cell_type": "markdown",
      "source": [
        "### Identifying Class Imbalance"
      ],
      "metadata": {
        "id": "-r2Ar8zj2_Ys"
      }
    },
    {
      "cell_type": "code",
      "source": [
        "neg, pos = np.bincount(y)\n",
        "total = neg + pos\n",
        "print('Examples:\\n    Total: {}\\n    Positive: {} ({:.2f}% of total)\\n'.format(\n",
        "    total, pos, 100 * pos / total))"
      ],
      "metadata": {
        "colab": {
          "base_uri": "https://localhost:8080/"
        },
        "id": "nujt14853DfG",
        "outputId": "ae313410-523f-4b48-c533-466537fba9df"
      },
      "execution_count": 48,
      "outputs": [
        {
          "output_type": "stream",
          "name": "stdout",
          "text": [
            "Examples:\n",
            "    Total: 512\n",
            "    Positive: 32 (6.25% of total)\n",
            "\n"
          ]
        }
      ]
    },
    {
      "cell_type": "markdown",
      "source": [
        "### Encode Categorical Values"
      ],
      "metadata": {
        "id": "GNdkhMHZ8KGq"
      }
    },
    {
      "cell_type": "code",
      "source": [
        "from sklearn.compose import ColumnTransformer\n",
        "from sklearn.preprocessing import OneHotEncoder\n",
        "#3 because want to one hot encode State variable\n",
        "ct = ColumnTransformer(transformers=[('encoder', OneHotEncoder(), ['won_last', 'won_last_3'])], remainder='passthrough')\n",
        "X = np.array(ct.fit_transform(X))"
      ],
      "metadata": {
        "id": "QVFiJPGu8IGK"
      },
      "execution_count": 49,
      "outputs": []
    },
    {
      "cell_type": "markdown",
      "metadata": {
        "id": "vHol938cW8zd"
      },
      "source": [
        "### Splitting the dataset into the Training set and Test set"
      ]
    },
    {
      "cell_type": "code",
      "metadata": {
        "id": "gqFnPtBAvNrC"
      },
      "source": [
        "from sklearn.model_selection import train_test_split"
      ],
      "execution_count": 50,
      "outputs": []
    },
    {
      "cell_type": "code",
      "metadata": {
        "id": "-00s7JC4uXFT"
      },
      "source": [
        "X_train, X_val, y_train, y_val = train_test_split(X, y,train_size=0.75, test_size=0.25, random_state=7)"
      ],
      "execution_count": 51,
      "outputs": []
    },
    {
      "cell_type": "markdown",
      "metadata": {
        "id": "RE_FcHyfV3TQ"
      },
      "source": [
        "### Feature Scaling"
      ]
    },
    {
      "cell_type": "code",
      "metadata": {
        "id": "ViCrE00rV8Sk"
      },
      "source": [
        "from sklearn.preprocessing import StandardScaler\n",
        "sc = StandardScaler()\n",
        "X_train = sc.fit_transform(X_train)\n",
        "X_val = sc.transform(X_val)\n",
        "#X_test = sc.transform(X_test)"
      ],
      "execution_count": 52,
      "outputs": []
    },
    {
      "cell_type": "markdown",
      "source": [
        "### Checking Dimensions of Inputs"
      ],
      "metadata": {
        "id": "wM5bSTVXNbCl"
      }
    },
    {
      "cell_type": "code",
      "source": [
        "print('Training labels shape:', y_train.shape)\n",
        "print('Validation labels shape:', y_val.shape)\n",
        "\n",
        "print('Training features shape:', X_train.shape)\n",
        "print('Validation features shape:', X_val.shape)"
      ],
      "metadata": {
        "colab": {
          "base_uri": "https://localhost:8080/"
        },
        "id": "Ew3CfSe44v7y",
        "outputId": "81273507-0da5-479e-894e-f0bd78a148b7"
      },
      "execution_count": 53,
      "outputs": [
        {
          "output_type": "stream",
          "name": "stdout",
          "text": [
            "Training labels shape: (384,)\n",
            "Validation labels shape: (128,)\n",
            "Training features shape: (384, 24)\n",
            "Validation features shape: (128, 24)\n"
          ]
        }
      ]
    },
    {
      "cell_type": "markdown",
      "metadata": {
        "id": "-zfEzkRVXIwF"
      },
      "source": [
        "## Part 2 - Building the Baseline ANN"
      ]
    },
    {
      "cell_type": "markdown",
      "source": [
        "### Setting Model Hyperparameters"
      ],
      "metadata": {
        "id": "toAc1E9t9LFE"
      }
    },
    {
      "cell_type": "code",
      "source": [
        "METRICS = [\n",
        "      tf.keras.metrics.TruePositives(name='tp'),\n",
        "      tf.keras.metrics.FalsePositives(name='fp'),\n",
        "      tf.keras.metrics.TrueNegatives(name='tn'),\n",
        "      tf.keras.metrics.FalseNegatives(name='fn'), \n",
        "      tf.keras.metrics.BinaryAccuracy(name='accuracy'),\n",
        "      tf.keras.metrics.Precision(name='precision'),\n",
        "      tf.keras.metrics.Recall(name='recall'),\n",
        "      tf.keras.metrics.AUC(name='auc'),\n",
        "      tf.keras.metrics.AUC(name='prc', curve='PR'), # precision-recall curve\n",
        "]"
      ],
      "metadata": {
        "id": "oIPgmSnA5AiY"
      },
      "execution_count": 54,
      "outputs": []
    },
    {
      "cell_type": "code",
      "source": [
        "opt = tf.keras.optimizers.Adam()\n",
        "loss = tf.keras.losses.BinaryCrossentropy()\n",
        "input_shape = X_train.shape[-1]"
      ],
      "metadata": {
        "id": "mea1SUyz6X_e"
      },
      "execution_count": 55,
      "outputs": []
    },
    {
      "cell_type": "code",
      "source": [
        "#!pip install tensorflow_addons\n",
        "#import tensorflow_addons as tfa\n",
        "#fl = tfa.losses.SigmoidFocalCrossEntropy(alpha=0.0001, gamma=2.0)"
      ],
      "metadata": {
        "id": "-SQpQLXd6mak"
      },
      "execution_count": 56,
      "outputs": []
    },
    {
      "cell_type": "code",
      "metadata": {
        "id": "HvynHebBz3KO"
      },
      "source": [
        "tf.random.set_seed(0)"
      ],
      "execution_count": 57,
      "outputs": []
    },
    {
      "cell_type": "markdown",
      "metadata": {
        "id": "KvdeScabXtlB"
      },
      "source": [
        "### Building the Model"
      ]
    },
    {
      "cell_type": "code",
      "source": [
        "def create_model(input_shape = input_shape, metrics=METRICS, optimizer= opt, loss_function = loss, output_bias=None):\n",
        "  if output_bias is not None:\n",
        "    output_bias = tf.keras.initializers.Constant(output_bias)\n",
        "  ann = tf.keras.models.Sequential()\n",
        "  ann.add(tf.keras.layers.Dense(input_shape = (input_shape, ), units=200, activation='relu'))\n",
        "  ann.add(tf.keras.layers.BatchNormalization())\n",
        "  ann.add(tf.keras.layers.Dropout(0.4))\n",
        "  ann.add(tf.keras.layers.Dense(units=100, activation='relu'))\n",
        "  ann.add(tf.keras.layers.BatchNormalization())\n",
        "  ann.add(tf.keras.layers.Dropout(0.4))\n",
        "  ann.add(tf.keras.layers.Dense(units=1, activation='sigmoid', bias_initializer = output_bias))\n",
        "  ann.compile(optimizer = opt, loss = loss_function, metrics=metrics)\n",
        "  return ann"
      ],
      "metadata": {
        "id": "L3nGOivi5X4C"
      },
      "execution_count": 58,
      "outputs": []
    },
    {
      "cell_type": "markdown",
      "metadata": {
        "id": "JT4u2S1_Y4WG"
      },
      "source": [
        "### Further Defining Model Hyperparameters"
      ]
    },
    {
      "cell_type": "code",
      "metadata": {
        "id": "4YRyzW-X2uAl"
      },
      "source": [
        "EPOCHS = 200\n",
        "BATCH_SIZE = 16\n",
        "val_data = (X_val, y_val)\n",
        "\n",
        "earlystopping = tf.keras.callbacks.EarlyStopping(monitor =\"val_prc\", \n",
        "                                        mode =\"max\", patience = 5, \n",
        "                                        restore_best_weights = True)"
      ],
      "execution_count": 59,
      "outputs": []
    },
    {
      "cell_type": "markdown",
      "source": [
        "### Defining an Initial Bias (Based on the Log Odds of the Response Variable)"
      ],
      "metadata": {
        "id": "-8LiF2ArNmZh"
      }
    },
    {
      "cell_type": "code",
      "source": [
        "initial_bias = np.log([pos/neg])"
      ],
      "metadata": {
        "id": "z6JAlZK67zAF"
      },
      "execution_count": 60,
      "outputs": []
    },
    {
      "cell_type": "markdown",
      "source": [
        "### Summarizing the Model"
      ],
      "metadata": {
        "id": "sjFUoiyVNteU"
      }
    },
    {
      "cell_type": "code",
      "source": [
        "model = create_model(output_bias = initial_bias)\n",
        "model.summary()"
      ],
      "metadata": {
        "colab": {
          "base_uri": "https://localhost:8080/"
        },
        "id": "H6w51hwG7Kqd",
        "outputId": "a47f9e85-c0ff-40fe-f894-b521942d52d5"
      },
      "execution_count": 61,
      "outputs": [
        {
          "output_type": "stream",
          "name": "stdout",
          "text": [
            "Model: \"sequential\"\n",
            "_________________________________________________________________\n",
            " Layer (type)                Output Shape              Param #   \n",
            "=================================================================\n",
            " dense (Dense)               (None, 200)               5000      \n",
            "                                                                 \n",
            " batch_normalization (BatchN  (None, 200)              800       \n",
            " ormalization)                                                   \n",
            "                                                                 \n",
            " dropout (Dropout)           (None, 200)               0         \n",
            "                                                                 \n",
            " dense_1 (Dense)             (None, 100)               20100     \n",
            "                                                                 \n",
            " batch_normalization_1 (Batc  (None, 100)              400       \n",
            " hNormalization)                                                 \n",
            "                                                                 \n",
            " dropout_1 (Dropout)         (None, 100)               0         \n",
            "                                                                 \n",
            " dense_2 (Dense)             (None, 1)                 101       \n",
            "                                                                 \n",
            "=================================================================\n",
            "Total params: 26,401\n",
            "Trainable params: 25,801\n",
            "Non-trainable params: 600\n",
            "_________________________________________________________________\n"
          ]
        }
      ]
    },
    {
      "cell_type": "markdown",
      "source": [
        "### Saving the Initial Weights"
      ],
      "metadata": {
        "id": "kmGPhPkoNvqd"
      }
    },
    {
      "cell_type": "code",
      "source": [
        "import tempfile\n",
        "import os"
      ],
      "metadata": {
        "id": "nxhLAAC38Jq7"
      },
      "execution_count": 62,
      "outputs": []
    },
    {
      "cell_type": "code",
      "source": [
        "initial_weights = os.path.join(tempfile.mkdtemp(), 'initial_weights')\n",
        "model.save_weights(initial_weights)"
      ],
      "metadata": {
        "id": "eTn36lS-8GqY"
      },
      "execution_count": 63,
      "outputs": []
    },
    {
      "cell_type": "markdown",
      "source": [
        "### Determining the Effectiveness of Log Odds Bias"
      ],
      "metadata": {
        "id": "UE42OvRONzvA"
      }
    },
    {
      "cell_type": "code",
      "source": [
        "model = create_model()\n",
        "model.load_weights(initial_weights)\n",
        "#KEY DIFFERENCE- 0 BIAS\n",
        "model.layers[-1].bias.assign([0.0])\n",
        "zero_bias_history = model.fit(\n",
        "    X_train,\n",
        "    y_train,\n",
        "    batch_size=BATCH_SIZE,\n",
        "    epochs=20,\n",
        "    validation_data=val_data, \n",
        "    verbose=0)"
      ],
      "metadata": {
        "id": "0owYoiDZ8SkQ"
      },
      "execution_count": 64,
      "outputs": []
    },
    {
      "cell_type": "code",
      "source": [
        "model = create_model()\n",
        "model.load_weights(initial_weights)\n",
        "careful_bias_history = model.fit(\n",
        "    X_train,\n",
        "    y_train,\n",
        "    batch_size=BATCH_SIZE,\n",
        "    epochs=20,\n",
        "    validation_data=val_data, \n",
        "    verbose=0)"
      ],
      "metadata": {
        "id": "t1XoNtLJ8S0L"
      },
      "execution_count": 65,
      "outputs": []
    },
    {
      "cell_type": "markdown",
      "source": [
        "#### Plotting the Losses"
      ],
      "metadata": {
        "id": "GzmYo-f-OH2b"
      }
    },
    {
      "cell_type": "code",
      "source": [
        "import matplotlib.pyplot as plt"
      ],
      "metadata": {
        "id": "rYYwBKsY8qHg"
      },
      "execution_count": 66,
      "outputs": []
    },
    {
      "cell_type": "code",
      "source": [
        "colors = plt.rcParams['axes.prop_cycle'].by_key()['color']"
      ],
      "metadata": {
        "id": "bu2EhuAt82oB"
      },
      "execution_count": 67,
      "outputs": []
    },
    {
      "cell_type": "code",
      "source": [
        "#Function from https://www.tensorflow.org/tutorials/structured_data/imbalanced_data#confirm_that_the_bias_fix_helps\n",
        "def plot_loss(history, label, n):\n",
        "  # Use a log scale on y-axis to show the wide range of values.\n",
        "  plt.semilogy(history.epoch, history.history['loss'],\n",
        "               color=colors[n], label='Train ' + label)\n",
        "  plt.semilogy(history.epoch, history.history['val_loss'],\n",
        "               color=colors[n], label='Val ' + label,\n",
        "               linestyle=\"--\")\n",
        "  plt.xlabel('Epoch')\n",
        "  plt.ylabel('Loss')"
      ],
      "metadata": {
        "id": "3AXTMWJi8i3k"
      },
      "execution_count": 68,
      "outputs": []
    },
    {
      "cell_type": "code",
      "source": [
        "plot_loss(zero_bias_history, \"Zero Bias\", 0)\n",
        "plot_loss(careful_bias_history, \"Careful Bias\", 1)"
      ],
      "metadata": {
        "colab": {
          "base_uri": "https://localhost:8080/",
          "height": 279
        },
        "id": "dt4qyAFq80Io",
        "outputId": "a13ac19f-c24e-4bf8-8dd7-7f4de5667775"
      },
      "execution_count": 69,
      "outputs": [
        {
          "output_type": "display_data",
          "data": {
            "text/plain": [
              "<Figure size 432x288 with 1 Axes>"
            ],
            "image/png": "[encoded data removed]"
          },
          "metadata": {
            "needs_background": "light"
          }
        }
      ]
    },
    {
      "cell_type": "markdown",
      "source": [
        "It is clear from the visualization that the initial bias reduces the loss, such that we include it in our baseline model"
      ],
      "metadata": {
        "id": "-LwRhM6kOQPs"
      }
    },
    {
      "cell_type": "markdown",
      "source": [
        "### Running the Baseline Model"
      ],
      "metadata": {
        "id": "mboG7kJSObDH"
      }
    },
    {
      "cell_type": "code",
      "source": [
        "model = create_model()\n",
        "model.load_weights(initial_weights)\n",
        "baseline_history = model.fit(\n",
        "    X_train,\n",
        "    y_train,\n",
        "    batch_size=BATCH_SIZE,\n",
        "    epochs=EPOCHS,\n",
        "    callbacks=[earlystopping],\n",
        "    validation_data=val_data)"
      ],
      "metadata": {
        "colab": {
          "base_uri": "https://localhost:8080/"
        },
        "id": "S6Om72oO83nO",
        "outputId": "443bfa8a-496f-45af-8395-e9164e922224"
      },
      "execution_count": 70,
      "outputs": [
        {
          "output_type": "stream",
          "name": "stdout",
          "text": [
            "Epoch 1/200\n",
            "24/24 [==============================] - 4s 60ms/step - loss: 0.2783 - tp: 9.0000 - fp: 19.0000 - tn: 461.0000 - fn: 23.0000 - accuracy: 0.9180 - precision: 0.3214 - recall: 0.2812 - auc: 0.7701 - prc: 0.2257 - val_loss: 0.1805 - val_tp: 0.0000e+00 - val_fp: 0.0000e+00 - val_tn: 121.0000 - val_fn: 7.0000 - val_accuracy: 0.9453 - val_precision: 0.0000e+00 - val_recall: 0.0000e+00 - val_auc: 0.8011 - val_prc: 0.3432\n",
            "Epoch 2/200\n",
            "24/24 [==============================] - 0s 6ms/step - loss: 0.2157 - tp: 5.0000 - fp: 10.0000 - tn: 349.0000 - fn: 20.0000 - accuracy: 0.9219 - precision: 0.3333 - recall: 0.2000 - auc: 0.8487 - prc: 0.2325 - val_loss: 0.1668 - val_tp: 1.0000 - val_fp: 1.0000 - val_tn: 120.0000 - val_fn: 6.0000 - val_accuracy: 0.9453 - val_precision: 0.5000 - val_recall: 0.1429 - val_auc: 0.8760 - val_prc: 0.3557\n",
            "Epoch 3/200\n",
            "24/24 [==============================] - 0s 6ms/step - loss: 0.1632 - tp: 8.0000 - fp: 6.0000 - tn: 353.0000 - fn: 17.0000 - accuracy: 0.9401 - precision: 0.5714 - recall: 0.3200 - auc: 0.8934 - prc: 0.4655 - val_loss: 0.1581 - val_tp: 2.0000 - val_fp: 1.0000 - val_tn: 120.0000 - val_fn: 5.0000 - val_accuracy: 0.9531 - val_precision: 0.6667 - val_recall: 0.2857 - val_auc: 0.8932 - val_prc: 0.3937\n",
            "Epoch 4/200\n",
            "24/24 [==============================] - 0s 5ms/step - loss: 0.1509 - tp: 11.0000 - fp: 5.0000 - tn: 354.0000 - fn: 14.0000 - accuracy: 0.9505 - precision: 0.6875 - recall: 0.4400 - auc: 0.9105 - prc: 0.5777 - val_loss: 0.1707 - val_tp: 1.0000 - val_fp: 0.0000e+00 - val_tn: 121.0000 - val_fn: 6.0000 - val_accuracy: 0.9531 - val_precision: 1.0000 - val_recall: 0.1429 - val_auc: 0.8394 - val_prc: 0.3993\n",
            "Epoch 5/200\n",
            "24/24 [==============================] - 0s 6ms/step - loss: 0.1267 - tp: 9.0000 - fp: 7.0000 - tn: 352.0000 - fn: 16.0000 - accuracy: 0.9401 - precision: 0.5625 - recall: 0.3600 - auc: 0.9569 - prc: 0.6143 - val_loss: 0.1654 - val_tp: 2.0000 - val_fp: 3.0000 - val_tn: 118.0000 - val_fn: 5.0000 - val_accuracy: 0.9375 - val_precision: 0.4000 - val_recall: 0.2857 - val_auc: 0.9073 - val_prc: 0.4139\n",
            "Epoch 6/200\n",
            "24/24 [==============================] - 0s 5ms/step - loss: 0.1321 - tp: 10.0000 - fp: 8.0000 - tn: 351.0000 - fn: 15.0000 - accuracy: 0.9401 - precision: 0.5556 - recall: 0.4000 - auc: 0.9314 - prc: 0.6160 - val_loss: 0.1683 - val_tp: 2.0000 - val_fp: 1.0000 - val_tn: 120.0000 - val_fn: 5.0000 - val_accuracy: 0.9531 - val_precision: 0.6667 - val_recall: 0.2857 - val_auc: 0.9050 - val_prc: 0.3009\n",
            "Epoch 7/200\n",
            "24/24 [==============================] - 0s 6ms/step - loss: 0.1294 - tp: 12.0000 - fp: 4.0000 - tn: 355.0000 - fn: 13.0000 - accuracy: 0.9557 - precision: 0.7500 - recall: 0.4800 - auc: 0.9431 - prc: 0.6385 - val_loss: 0.1628 - val_tp: 1.0000 - val_fp: 1.0000 - val_tn: 120.0000 - val_fn: 6.0000 - val_accuracy: 0.9453 - val_precision: 0.5000 - val_recall: 0.1429 - val_auc: 0.8861 - val_prc: 0.2732\n",
            "Epoch 8/200\n",
            "24/24 [==============================] - 0s 5ms/step - loss: 0.1149 - tp: 9.0000 - fp: 5.0000 - tn: 354.0000 - fn: 16.0000 - accuracy: 0.9453 - precision: 0.6429 - recall: 0.3600 - auc: 0.9672 - prc: 0.6578 - val_loss: 0.1665 - val_tp: 2.0000 - val_fp: 3.0000 - val_tn: 118.0000 - val_fn: 5.0000 - val_accuracy: 0.9375 - val_precision: 0.4000 - val_recall: 0.2857 - val_auc: 0.8996 - val_prc: 0.4403\n",
            "Epoch 9/200\n",
            "24/24 [==============================] - 0s 6ms/step - loss: 0.1189 - tp: 14.0000 - fp: 6.0000 - tn: 353.0000 - fn: 11.0000 - accuracy: 0.9557 - precision: 0.7000 - recall: 0.5600 - auc: 0.9520 - prc: 0.6719 - val_loss: 0.1693 - val_tp: 2.0000 - val_fp: 3.0000 - val_tn: 118.0000 - val_fn: 5.0000 - val_accuracy: 0.9375 - val_precision: 0.4000 - val_recall: 0.2857 - val_auc: 0.9079 - val_prc: 0.3963\n",
            "Epoch 10/200\n",
            "24/24 [==============================] - 0s 5ms/step - loss: 0.1180 - tp: 11.0000 - fp: 5.0000 - tn: 354.0000 - fn: 14.0000 - accuracy: 0.9505 - precision: 0.6875 - recall: 0.4400 - auc: 0.9666 - prc: 0.6087 - val_loss: 0.1766 - val_tp: 2.0000 - val_fp: 2.0000 - val_tn: 119.0000 - val_fn: 5.0000 - val_accuracy: 0.9453 - val_precision: 0.5000 - val_recall: 0.2857 - val_auc: 0.8843 - val_prc: 0.3607\n",
            "Epoch 11/200\n",
            "24/24 [==============================] - 0s 5ms/step - loss: 0.1310 - tp: 13.0000 - fp: 6.0000 - tn: 353.0000 - fn: 12.0000 - accuracy: 0.9531 - precision: 0.6842 - recall: 0.5200 - auc: 0.9426 - prc: 0.6471 - val_loss: 0.1935 - val_tp: 2.0000 - val_fp: 3.0000 - val_tn: 118.0000 - val_fn: 5.0000 - val_accuracy: 0.9375 - val_precision: 0.4000 - val_recall: 0.2857 - val_auc: 0.8926 - val_prc: 0.3865\n",
            "Epoch 12/200\n",
            "24/24 [==============================] - 0s 5ms/step - loss: 0.1127 - tp: 12.0000 - fp: 6.0000 - tn: 353.0000 - fn: 13.0000 - accuracy: 0.9505 - precision: 0.6667 - recall: 0.4800 - auc: 0.9422 - prc: 0.7133 - val_loss: 0.1997 - val_tp: 2.0000 - val_fp: 3.0000 - val_tn: 118.0000 - val_fn: 5.0000 - val_accuracy: 0.9375 - val_precision: 0.4000 - val_recall: 0.2857 - val_auc: 0.8377 - val_prc: 0.3684\n",
            "Epoch 13/200\n",
            "24/24 [==============================] - 0s 6ms/step - loss: 0.0975 - tp: 17.0000 - fp: 4.0000 - tn: 355.0000 - fn: 8.0000 - accuracy: 0.9688 - precision: 0.8095 - recall: 0.6800 - auc: 0.9562 - prc: 0.7542 - val_loss: 0.1837 - val_tp: 2.0000 - val_fp: 2.0000 - val_tn: 119.0000 - val_fn: 5.0000 - val_accuracy: 0.9453 - val_precision: 0.5000 - val_recall: 0.2857 - val_auc: 0.8436 - val_prc: 0.3493\n"
          ]
        }
      ]
    },
    {
      "cell_type": "markdown",
      "source": [
        "### Plotting the Metrics of Baseline Model"
      ],
      "metadata": {
        "id": "qhwSBK3rOfbE"
      }
    },
    {
      "cell_type": "code",
      "source": [
        "#Function from https://www.tensorflow.org/tutorials/structured_data/imbalanced_data#confirm_that_the_bias_fix_helps\n",
        "\n",
        "def plot_metrics(history):\n",
        "  metrics = ['loss', 'prc', 'precision', 'recall']\n",
        "  for n, metric in enumerate(metrics):\n",
        "    name = metric.replace(\"_\",\" \").capitalize()\n",
        "    plt.subplot(2,2,n+1)\n",
        "    plt.plot(history.epoch, history.history[metric], color=colors[0], label='Train')\n",
        "    plt.plot(history.epoch, history.history['val_'+metric],\n",
        "             color=colors[0], linestyle=\"--\", label='Val')\n",
        "    plt.xlabel('Epoch')\n",
        "    plt.ylabel(name)\n",
        "    if metric == 'loss':\n",
        "      plt.ylim([0, plt.ylim()[1]])\n",
        "    elif metric == 'auc':\n",
        "      plt.ylim([0.8,1])\n",
        "    else:\n",
        "      plt.ylim([0,1])\n",
        "\n",
        "    plt.legend();"
      ],
      "metadata": {
        "id": "cYlo_GoD-tnK"
      },
      "execution_count": 71,
      "outputs": []
    },
    {
      "cell_type": "code",
      "source": [
        "plot_metrics(baseline_history)"
      ],
      "metadata": {
        "colab": {
          "base_uri": "https://localhost:8080/",
          "height": 283
        },
        "id": "CQ7oaeRr-vFn",
        "outputId": "4d208fd2-654b-4e20-a64d-b8cdd4441469"
      },
      "execution_count": 72,
      "outputs": [
        {
          "output_type": "display_data",
          "data": {
            "text/plain": [
              "<Figure size 432x288 with 4 Axes>"
            ],
            "image/png": "[encoded data removed]"
          },
          "metadata": {
            "needs_background": "light"
          }
        }
      ]
    },
    {
      "cell_type": "code",
      "source": [
        "train_predictions_baseline = model.predict(X_train, batch_size=BATCH_SIZE)\n",
        "test_predictions_baseline = model.predict(X_val, batch_size=BATCH_SIZE)"
      ],
      "metadata": {
        "id": "EZDhRpZt-3gM"
      },
      "execution_count": 73,
      "outputs": []
    },
    {
      "cell_type": "code",
      "source": [
        "import seaborn as sns\n",
        "from sklearn.metrics import confusion_matrix"
      ],
      "metadata": {
        "id": "ztDOwwzm-7-m"
      },
      "execution_count": 74,
      "outputs": []
    },
    {
      "cell_type": "code",
      "source": [
        "#Function from https://www.tensorflow.org/tutorials/structured_data/imbalanced_data#confirm_that_the_bias_fix_helps\n",
        "\n",
        "def plot_cm(labels, predictions, p=0.5):\n",
        "  cm = confusion_matrix(labels, predictions > p)\n",
        "  plt.figure(figsize=(5,5))\n",
        "  sns.heatmap(cm, annot=True, fmt=\"d\")\n",
        "  plt.title('Confusion matrix @{:.2f}'.format(p))\n",
        "  plt.ylabel('Actual label')\n",
        "  plt.xlabel('Predicted label')\n",
        "\n",
        "  print('Legitimate Champions Detected (True Negatives): ', cm[0][0])\n",
        "  print('Legitimate Champions Incorrectly Detected (False Positives): ', cm[0][1])\n",
        "  print('Non Champions Missed (False Negatives): ', cm[1][0])\n",
        "  print('Non Champions Detected (True Positives): ', cm[1][1])\n",
        "  print('Total Fraudulent Transactions: ', np.sum(cm[1]))"
      ],
      "metadata": {
        "id": "ausxDFN9-4Pl"
      },
      "execution_count": 75,
      "outputs": []
    },
    {
      "cell_type": "code",
      "source": [
        "baseline_results = model.evaluate(X_val, y_val,\n",
        "                                  batch_size=BATCH_SIZE, verbose=0)\n",
        "for name, value in zip(model.metrics_names, baseline_results):\n",
        "  print(name, ': ', value)\n",
        "print()\n",
        "\n",
        "plot_cm(y_val, test_predictions_baseline)"
      ],
      "metadata": {
        "colab": {
          "base_uri": "https://localhost:8080/",
          "height": 628
        },
        "id": "mCpxP5_S_A-v",
        "outputId": "0b9c6c38-2273-4bba-cff4-092b40a921c7"
      },
      "execution_count": 76,
      "outputs": [
        {
          "output_type": "stream",
          "name": "stdout",
          "text": [
            "loss :  0.16649213433265686\n",
            "tp :  2.0\n",
            "fp :  3.0\n",
            "tn :  118.0\n",
            "fn :  5.0\n",
            "accuracy :  0.9375\n",
            "precision :  0.4000000059604645\n",
            "recall :  0.2857142984867096\n",
            "auc :  0.8996458053588867\n",
            "prc :  0.44033730030059814\n",
            "\n",
            "Legitimate Champions Detected (True Negatives):  118\n",
            "Legitimate Champions Incorrectly Detected (False Positives):  3\n",
            "Non Champions Missed (False Negatives):  5\n",
            "Non Champions Detected (True Positives):  2\n",
            "Total Fraudulent Transactions:  7\n"
          ]
        },
        {
          "output_type": "display_data",
          "data": {
            "text/plain": [
              "<Figure size 360x360 with 2 Axes>"
            ],
            "image/png": "[encoded data removed]"
          },
          "metadata": {
            "needs_background": "light"
          }
        }
      ]
    },
    {
      "cell_type": "code",
      "source": [
        "import sklearn"
      ],
      "metadata": {
        "id": "Y73dBHdW_jbm"
      },
      "execution_count": 77,
      "outputs": []
    },
    {
      "cell_type": "code",
      "source": [
        "#Function from https://www.tensorflow.org/tutorials/structured_data/imbalanced_data#confirm_that_the_bias_fix_helps\n",
        "def plot_roc(name, labels, predictions, **kwargs):\n",
        "  fp, tp, _ = sklearn.metrics.roc_curve(labels, predictions)\n",
        "\n",
        "  plt.plot(100*fp, 100*tp, label=name, linewidth=2, **kwargs)\n",
        "  plt.xlabel('False positives [%]')\n",
        "  plt.ylabel('True positives [%]')\n",
        "  plt.xlim([-0.5,20])\n",
        "  plt.ylim([50,100.5])\n",
        "  plt.grid(True)\n",
        "  ax = plt.gca()\n",
        "  #ax.set_aspect('equal')"
      ],
      "metadata": {
        "id": "x19Hg8bT_fr_"
      },
      "execution_count": 78,
      "outputs": []
    },
    {
      "cell_type": "code",
      "source": [
        "plot_roc(\"Train Baseline\", y_train, train_predictions_baseline, color=colors[0])\n",
        "plot_roc(\"Test Baseline\", y_val, test_predictions_baseline, color=colors[0], linestyle='--')\n",
        "plt.legend(loc='center right');"
      ],
      "metadata": {
        "colab": {
          "base_uri": "https://localhost:8080/",
          "height": 281
        },
        "id": "f4w15Kx6_hAJ",
        "outputId": "77410c45-8664-4605-c6ff-1fe62ba06e50"
      },
      "execution_count": 79,
      "outputs": [
        {
          "output_type": "display_data",
          "data": {
            "text/plain": [
              "<Figure size 432x288 with 1 Axes>"
            ],
            "image/png": "[encoded data removed]"
          },
          "metadata": {
            "needs_background": "light"
          }
        }
      ]
    },
    {
      "cell_type": "code",
      "source": [
        "def plot_prc(name, labels, predictions, **kwargs):\n",
        "    precision, recall, _ = sklearn.metrics.precision_recall_curve(labels, predictions)\n",
        "\n",
        "    plt.plot(precision, recall, label=name, linewidth=2, **kwargs)\n",
        "    plt.xlabel('Precision')\n",
        "    plt.ylabel('Recall')\n",
        "    plt.grid(True)\n",
        "    ax = plt.gca()\n",
        "    ax.set_aspect('equal')"
      ],
      "metadata": {
        "id": "CnzPmgNJ_88I"
      },
      "execution_count": 80,
      "outputs": []
    },
    {
      "cell_type": "code",
      "source": [
        "plot_prc(\"Train Baseline\", y_train, train_predictions_baseline, color=colors[0])\n",
        "plot_prc(\"Test Baseline\", y_val, test_predictions_baseline, color=colors[0], linestyle='--')\n",
        "plt.legend(loc='lower right');"
      ],
      "metadata": {
        "colab": {
          "base_uri": "https://localhost:8080/",
          "height": 279
        },
        "id": "Ice6Qcll_-Ni",
        "outputId": "40017a98-d8c0-4f7e-8b76-a0a86f1def38"
      },
      "execution_count": 81,
      "outputs": [
        {
          "output_type": "display_data",
          "data": {
            "text/plain": [
              "<Figure size 432x288 with 1 Axes>"
            ],
            "image/png": "[encoded data removed]"
          },
          "metadata": {
            "needs_background": "light"
          }
        }
      ]
    },
    {
      "cell_type": "markdown",
      "source": [
        "## Part 3- Weighted Model"
      ],
      "metadata": {
        "id": "NU9okwJmANIp"
      }
    },
    {
      "cell_type": "markdown",
      "source": [
        "### Introducing Class Weights"
      ],
      "metadata": {
        "id": "33dxgzB4PAaS"
      }
    },
    {
      "cell_type": "code",
      "source": [
        "weight_for_0 = (1 / neg) * (total / 2.0)\n",
        "weight_for_1 = (1 / pos) * (total / 2.0)\n",
        "\n",
        "class_weight = {0: weight_for_0, 1: weight_for_1}\n",
        "\n",
        "print('Weight for class 0: {:.2f}'.format(weight_for_0))\n",
        "print('Weight for class 1: {:.2f}'.format(weight_for_1))"
      ],
      "metadata": {
        "colab": {
          "base_uri": "https://localhost:8080/"
        },
        "id": "hZUHayf1ALTf",
        "outputId": "d3c3816c-34bf-4169-90ba-b00eb1f13ef7"
      },
      "execution_count": 82,
      "outputs": [
        {
          "output_type": "stream",
          "name": "stdout",
          "text": [
            "Weight for class 0: 0.53\n",
            "Weight for class 1: 8.00\n"
          ]
        }
      ]
    },
    {
      "cell_type": "markdown",
      "source": [
        "### Running the Weighted Model"
      ],
      "metadata": {
        "id": "CZglSUBhOwIW"
      }
    },
    {
      "cell_type": "code",
      "source": [
        "weighted_model = create_model()\n",
        "weighted_model.load_weights(initial_weights)\n",
        "\n",
        "weighted_history = weighted_model.fit(\n",
        "    X_train,\n",
        "    y_train,\n",
        "    batch_size=BATCH_SIZE,\n",
        "    epochs=EPOCHS,\n",
        "    callbacks=[earlystopping],\n",
        "    validation_data=val_data,\n",
        "    # The class weights go here\n",
        "    class_weight=class_weight)"
      ],
      "metadata": {
        "colab": {
          "base_uri": "https://localhost:8080/"
        },
        "id": "Gy8fZ8IxARcX",
        "outputId": "9ac57999-f891-4c16-dc52-2e68d2f5a3cf"
      },
      "execution_count": 83,
      "outputs": [
        {
          "output_type": "stream",
          "name": "stdout",
          "text": [
            "Epoch 1/200\n",
            "24/24 [==============================] - 3s 50ms/step - loss: 0.7189 - tp: 20.0000 - fp: 70.0000 - tn: 410.0000 - fn: 12.0000 - accuracy: 0.8398 - precision: 0.2222 - recall: 0.6250 - auc: 0.8146 - prc: 0.2126 - val_loss: 0.1904 - val_tp: 2.0000 - val_fp: 2.0000 - val_tn: 119.0000 - val_fn: 5.0000 - val_accuracy: 0.9453 - val_precision: 0.5000 - val_recall: 0.2857 - val_auc: 0.8784 - val_prc: 0.3033\n",
            "Epoch 2/200\n",
            "24/24 [==============================] - 0s 6ms/step - loss: 0.6227 - tp: 16.0000 - fp: 71.0000 - tn: 288.0000 - fn: 9.0000 - accuracy: 0.7917 - precision: 0.1839 - recall: 0.6400 - auc: 0.8415 - prc: 0.2562 - val_loss: 0.2253 - val_tp: 2.0000 - val_fp: 3.0000 - val_tn: 118.0000 - val_fn: 5.0000 - val_accuracy: 0.9375 - val_precision: 0.4000 - val_recall: 0.2857 - val_auc: 0.8471 - val_prc: 0.2240\n",
            "Epoch 3/200\n",
            "24/24 [==============================] - 0s 5ms/step - loss: 0.3745 - tp: 23.0000 - fp: 72.0000 - tn: 287.0000 - fn: 2.0000 - accuracy: 0.8073 - precision: 0.2421 - recall: 0.9200 - auc: 0.9233 - prc: 0.4557 - val_loss: 0.2245 - val_tp: 3.0000 - val_fp: 6.0000 - val_tn: 115.0000 - val_fn: 4.0000 - val_accuracy: 0.9219 - val_precision: 0.3333 - val_recall: 0.4286 - val_auc: 0.8760 - val_prc: 0.4079\n",
            "Epoch 4/200\n",
            "24/24 [==============================] - 0s 5ms/step - loss: 0.3807 - tp: 22.0000 - fp: 68.0000 - tn: 291.0000 - fn: 3.0000 - accuracy: 0.8151 - precision: 0.2444 - recall: 0.8800 - auc: 0.9212 - prc: 0.5189 - val_loss: 0.3078 - val_tp: 4.0000 - val_fp: 12.0000 - val_tn: 109.0000 - val_fn: 3.0000 - val_accuracy: 0.8828 - val_precision: 0.2500 - val_recall: 0.5714 - val_auc: 0.8465 - val_prc: 0.3118\n",
            "Epoch 5/200\n",
            "24/24 [==============================] - 0s 6ms/step - loss: 0.3531 - tp: 24.0000 - fp: 64.0000 - tn: 295.0000 - fn: 1.0000 - accuracy: 0.8307 - precision: 0.2727 - recall: 0.9600 - auc: 0.9319 - prc: 0.4886 - val_loss: 0.2649 - val_tp: 4.0000 - val_fp: 10.0000 - val_tn: 111.0000 - val_fn: 3.0000 - val_accuracy: 0.8984 - val_precision: 0.2857 - val_recall: 0.5714 - val_auc: 0.8967 - val_prc: 0.3505\n",
            "Epoch 6/200\n",
            "24/24 [==============================] - 0s 6ms/step - loss: 0.3322 - tp: 22.0000 - fp: 63.0000 - tn: 296.0000 - fn: 3.0000 - accuracy: 0.8281 - precision: 0.2588 - recall: 0.8800 - auc: 0.9350 - prc: 0.4475 - val_loss: 0.2543 - val_tp: 4.0000 - val_fp: 9.0000 - val_tn: 112.0000 - val_fn: 3.0000 - val_accuracy: 0.9062 - val_precision: 0.3077 - val_recall: 0.5714 - val_auc: 0.8967 - val_prc: 0.2988\n",
            "Epoch 7/200\n",
            "24/24 [==============================] - 0s 5ms/step - loss: 0.2940 - tp: 22.0000 - fp: 64.0000 - tn: 295.0000 - fn: 3.0000 - accuracy: 0.8255 - precision: 0.2558 - recall: 0.8800 - auc: 0.9450 - prc: 0.5730 - val_loss: 0.3469 - val_tp: 5.0000 - val_fp: 16.0000 - val_tn: 105.0000 - val_fn: 2.0000 - val_accuracy: 0.8594 - val_precision: 0.2381 - val_recall: 0.7143 - val_auc: 0.8867 - val_prc: 0.3054\n",
            "Epoch 8/200\n",
            "24/24 [==============================] - 0s 6ms/step - loss: 0.2679 - tp: 23.0000 - fp: 48.0000 - tn: 311.0000 - fn: 2.0000 - accuracy: 0.8698 - precision: 0.3239 - recall: 0.9200 - auc: 0.9562 - prc: 0.5501 - val_loss: 0.3009 - val_tp: 4.0000 - val_fp: 11.0000 - val_tn: 110.0000 - val_fn: 3.0000 - val_accuracy: 0.8906 - val_precision: 0.2667 - val_recall: 0.5714 - val_auc: 0.8884 - val_prc: 0.3214\n"
          ]
        }
      ]
    },
    {
      "cell_type": "markdown",
      "source": [
        "### Plotting the Metrics of Weighted Model"
      ],
      "metadata": {
        "id": "jaSkDnbeO5h-"
      }
    },
    {
      "cell_type": "code",
      "source": [
        "plot_metrics(weighted_history)"
      ],
      "metadata": {
        "colab": {
          "base_uri": "https://localhost:8080/",
          "height": 283
        },
        "id": "k6awC7LbAetK",
        "outputId": "8bcaba2f-541b-4c2a-fe03-5913ecc98e80"
      },
      "execution_count": 84,
      "outputs": [
        {
          "output_type": "display_data",
          "data": {
            "text/plain": [
              "<Figure size 432x288 with 4 Axes>"
            ],
            "image/png": "[encoded data removed]"
          },
          "metadata": {
            "needs_background": "light"
          }
        }
      ]
    },
    {
      "cell_type": "code",
      "source": [
        "train_predictions_weighted = weighted_model.predict(X_train, batch_size=BATCH_SIZE)\n",
        "test_predictions_weighted = weighted_model.predict(X_val, batch_size=BATCH_SIZE)"
      ],
      "metadata": {
        "id": "U_oV5gxvAi-Z"
      },
      "execution_count": 85,
      "outputs": []
    },
    {
      "cell_type": "code",
      "source": [
        "weighted_results = weighted_model.evaluate(X_val, y_val,\n",
        "                                           batch_size=BATCH_SIZE, verbose=0)\n",
        "for name, value in zip(weighted_model.metrics_names, weighted_results):\n",
        "  print(name, ': ', value)\n",
        "print()\n",
        "\n",
        "plot_cm(y_val, test_predictions_weighted)"
      ],
      "metadata": {
        "colab": {
          "base_uri": "https://localhost:8080/",
          "height": 628
        },
        "id": "Ne3zRAqMAlTZ",
        "outputId": "a60401ba-ea1f-4ea5-c3d6-03cf686ba918"
      },
      "execution_count": 86,
      "outputs": [
        {
          "output_type": "stream",
          "name": "stdout",
          "text": [
            "loss :  0.22447741031646729\n",
            "tp :  3.0\n",
            "fp :  6.0\n",
            "tn :  115.0\n",
            "fn :  4.0\n",
            "accuracy :  0.921875\n",
            "precision :  0.3333333432674408\n",
            "recall :  0.4285714328289032\n",
            "auc :  0.8760330677032471\n",
            "prc :  0.4078656733036041\n",
            "\n",
            "Legitimate Champions Detected (True Negatives):  115\n",
            "Legitimate Champions Incorrectly Detected (False Positives):  6\n",
            "Non Champions Missed (False Negatives):  4\n",
            "Non Champions Detected (True Positives):  3\n",
            "Total Fraudulent Transactions:  7\n"
          ]
        },
        {
          "output_type": "display_data",
          "data": {
            "text/plain": [
              "<Figure size 360x360 with 2 Axes>"
            ],
            "image/png": "[encoded data removed]"
          },
          "metadata": {
            "needs_background": "light"
          }
        }
      ]
    },
    {
      "cell_type": "code",
      "source": [
        "plot_roc(\"Train Baseline\", y_train, train_predictions_baseline, color=colors[0])\n",
        "plot_roc(\"Test Baseline\", y_val, test_predictions_baseline, color=colors[0], linestyle='--')\n",
        "\n",
        "plot_roc(\"Train Weighted\", y_train, train_predictions_weighted, color=colors[1])\n",
        "plot_roc(\"Test Weighted\", y_val, test_predictions_weighted, color=colors[1], linestyle='--')\n",
        "\n",
        "\n",
        "plt.legend(loc='lower right');"
      ],
      "metadata": {
        "colab": {
          "base_uri": "https://localhost:8080/",
          "height": 281
        },
        "id": "_83Dh1N1BCZV",
        "outputId": "5e08544d-45be-4bf0-b6fa-ff4db5af687a"
      },
      "execution_count": 87,
      "outputs": [
        {
          "output_type": "display_data",
          "data": {
            "text/plain": [
              "<Figure size 432x288 with 1 Axes>"
            ],
            "image/png": "[encoded data removed]"
          },
          "metadata": {
            "needs_background": "light"
          }
        }
      ]
    },
    {
      "cell_type": "code",
      "source": [
        "plot_prc(\"Train Baseline\", y_train, train_predictions_baseline, color=colors[0])\n",
        "plot_prc(\"Test Baseline\", y_val, test_predictions_baseline, color=colors[0], linestyle='--')\n",
        "\n",
        "plot_prc(\"Train Weighted\", y_train, train_predictions_weighted, color=colors[1])\n",
        "plot_prc(\"Test Weighted\", y_val, test_predictions_weighted, color=colors[1], linestyle='--')\n",
        "\n",
        "\n",
        "plt.legend(loc='lower right');"
      ],
      "metadata": {
        "colab": {
          "base_uri": "https://localhost:8080/",
          "height": 279
        },
        "id": "bzaxZ8t5BMi6",
        "outputId": "a2325753-eee8-42a6-fdca-28aad993bc23"
      },
      "execution_count": 88,
      "outputs": [
        {
          "output_type": "display_data",
          "data": {
            "text/plain": [
              "<Figure size 432x288 with 1 Axes>"
            ],
            "image/png": "[encoded data removed]"
          },
          "metadata": {
            "needs_background": "light"
          }
        }
      ]
    },
    {
      "cell_type": "markdown",
      "source": [
        "## Part 4- Oversampled Model"
      ],
      "metadata": {
        "id": "DydA2NNuPUMm"
      }
    },
    {
      "cell_type": "markdown",
      "source": [
        "### Determining positive and negative labels"
      ],
      "metadata": {
        "id": "nc74MN73PYDx"
      }
    },
    {
      "cell_type": "code",
      "source": [
        "bool_train_labels = y_train != 0"
      ],
      "metadata": {
        "id": "h2DXkr5TBZQn"
      },
      "execution_count": 89,
      "outputs": []
    },
    {
      "cell_type": "code",
      "source": [
        "pos_X_train = X_train[bool_train_labels]\n",
        "neg_X_train = X_train[~bool_train_labels]\n",
        "\n",
        "pos_y_train = y_train[bool_train_labels]\n",
        "neg_y_train = y_train[~bool_train_labels]"
      ],
      "metadata": {
        "id": "g0qCpwCGBSu5"
      },
      "execution_count": 90,
      "outputs": []
    },
    {
      "cell_type": "markdown",
      "source": [
        "### Resampling positive samples to even out representation"
      ],
      "metadata": {
        "id": "AEG9YbZTPc6h"
      }
    },
    {
      "cell_type": "code",
      "source": [
        "ids = np.arange(len(pos_X_train))\n",
        "choices = np.random.choice(ids, len(neg_X_train))\n",
        "\n",
        "res_pos_X_train = pos_X_train[choices]\n",
        "res_pos_y_train = pos_y_train[choices]\n",
        "\n",
        "res_pos_X_train.shape"
      ],
      "metadata": {
        "colab": {
          "base_uri": "https://localhost:8080/"
        },
        "id": "NFj96fe7BuXl",
        "outputId": "cecf8a7a-c739-4fa7-f23c-46cc11601814"
      },
      "execution_count": 91,
      "outputs": [
        {
          "output_type": "execute_result",
          "data": {
            "text/plain": [
              "(359, 24)"
            ]
          },
          "metadata": {},
          "execution_count": 91
        }
      ]
    },
    {
      "cell_type": "markdown",
      "source": [
        "### Defining dataset with resampled data and shuffling it"
      ],
      "metadata": {
        "id": "YvCGnAkRPixh"
      }
    },
    {
      "cell_type": "code",
      "source": [
        "resampled_features = np.concatenate([res_pos_X_train, neg_X_train], axis=0)\n",
        "resampled_labels = np.concatenate([res_pos_y_train, neg_y_train], axis=0)\n",
        "\n",
        "order = np.arange(len(resampled_labels))\n",
        "np.random.shuffle(order)\n",
        "resampled_features = resampled_features[order]\n",
        "resampled_labels = resampled_labels[order]\n",
        "\n",
        "resampled_features.shape"
      ],
      "metadata": {
        "colab": {
          "base_uri": "https://localhost:8080/"
        },
        "id": "ShAWa5pNCAvM",
        "outputId": "abb86ad3-5a49-489a-a71b-ae0c46ceacd3"
      },
      "execution_count": 92,
      "outputs": [
        {
          "output_type": "execute_result",
          "data": {
            "text/plain": [
              "(718, 24)"
            ]
          },
          "metadata": {},
          "execution_count": 92
        }
      ]
    },
    {
      "cell_type": "markdown",
      "source": [
        "### Building the Resampled Model"
      ],
      "metadata": {
        "id": "AAaL_iy8Pnsk"
      }
    },
    {
      "cell_type": "code",
      "source": [
        "resampled_model = create_model()\n",
        "resampled_model.load_weights(initial_weights)"
      ],
      "metadata": {
        "colab": {
          "base_uri": "https://localhost:8080/"
        },
        "id": "kN5StVpKCuSN",
        "outputId": "1f55d0e0-4660-4d3e-8b56-f127f210fdbe"
      },
      "execution_count": 93,
      "outputs": [
        {
          "output_type": "execute_result",
          "data": {
            "text/plain": [
              "<tensorflow.python.training.tracking.util.CheckpointLoadStatus at 0x7f062b129c50>"
            ]
          },
          "metadata": {},
          "execution_count": 93
        }
      ]
    },
    {
      "cell_type": "code",
      "source": [
        "# Reset the bias to zero, since this dataset is balanced.\n",
        "output_layer = resampled_model.layers[-1] \n",
        "output_layer.bias.assign([0])"
      ],
      "metadata": {
        "colab": {
          "base_uri": "https://localhost:8080/"
        },
        "id": "9AsPKSS6CxBz",
        "outputId": "8c242728-ec28-4ca2-c593-457ae20d0aed"
      },
      "execution_count": 94,
      "outputs": [
        {
          "output_type": "execute_result",
          "data": {
            "text/plain": [
              "<tf.Variable 'UnreadVariable' shape=(1,) dtype=float32, numpy=array([0.], dtype=float32)>"
            ]
          },
          "metadata": {},
          "execution_count": 94
        }
      ]
    },
    {
      "cell_type": "code",
      "source": [
        "val_ds = tf.data.Dataset.from_tensor_slices(val_data).cache()\n",
        "val_ds = val_ds.batch(BATCH_SIZE).prefetch(2) "
      ],
      "metadata": {
        "id": "iZtvyezpC1-7"
      },
      "execution_count": 95,
      "outputs": []
    },
    {
      "cell_type": "markdown",
      "source": [
        "### Redefining epoch (number of batches to see each negative sample)"
      ],
      "metadata": {
        "id": "uz5PJGEQPygu"
      }
    },
    {
      "cell_type": "code",
      "source": [
        "resampled_steps_per_epoch = np.ceil(2.0*neg/BATCH_SIZE)"
      ],
      "metadata": {
        "id": "e4EEFbnUDJ1m"
      },
      "execution_count": 96,
      "outputs": []
    },
    {
      "cell_type": "markdown",
      "source": [
        "### Running the Resampled Model"
      ],
      "metadata": {
        "id": "zgvyKfeiP4sO"
      }
    },
    {
      "cell_type": "code",
      "source": [
        "resampled_history = resampled_model.fit(\n",
        "    resampled_features,\n",
        "    resampled_labels,\n",
        "    epochs=EPOCHS,\n",
        "    steps_per_epoch=resampled_steps_per_epoch,\n",
        "    callbacks=[earlystopping],\n",
        "    validation_data=val_ds)"
      ],
      "metadata": {
        "colab": {
          "base_uri": "https://localhost:8080/"
        },
        "id": "U0291djiC7Qq",
        "outputId": "806f742a-ab02-4117-cf07-74d35f835bb6"
      },
      "execution_count": 97,
      "outputs": [
        {
          "output_type": "stream",
          "name": "stdout",
          "text": [
            "Epoch 1/200\n",
            "60/60 [==============================] - 4s 21ms/step - loss: 0.4733 - tp: 305.0000 - fp: 70.0000 - tn: 410.0000 - fn: 61.0000 - accuracy: 0.8452 - precision: 0.8133 - recall: 0.8333 - auc: 0.9033 - prc: 0.8439 - val_loss: 0.4778 - val_tp: 5.0000 - val_fp: 22.0000 - val_tn: 99.0000 - val_fn: 2.0000 - val_accuracy: 0.8125 - val_precision: 0.1852 - val_recall: 0.7143 - val_auc: 0.8784 - val_prc: 0.4349\n",
            "Epoch 2/200\n",
            "60/60 [==============================] - 0s 4ms/step - loss: 0.3039 - tp: 327.0000 - fp: 58.0000 - tn: 301.0000 - fn: 32.0000 - accuracy: 0.8747 - precision: 0.8494 - recall: 0.9109 - auc: 0.9417 - prc: 0.9259 - val_loss: 0.4088 - val_tp: 5.0000 - val_fp: 17.0000 - val_tn: 104.0000 - val_fn: 2.0000 - val_accuracy: 0.8516 - val_precision: 0.2273 - val_recall: 0.7143 - val_auc: 0.8961 - val_prc: 0.3281\n",
            "Epoch 3/200\n",
            "60/60 [==============================] - 0s 4ms/step - loss: 0.3021 - tp: 321.0000 - fp: 52.0000 - tn: 307.0000 - fn: 38.0000 - accuracy: 0.8747 - precision: 0.8606 - recall: 0.8942 - auc: 0.9419 - prc: 0.9313 - val_loss: 0.3233 - val_tp: 3.0000 - val_fp: 15.0000 - val_tn: 106.0000 - val_fn: 4.0000 - val_accuracy: 0.8516 - val_precision: 0.1667 - val_recall: 0.4286 - val_auc: 0.8707 - val_prc: 0.3707\n",
            "Epoch 4/200\n",
            "60/60 [==============================] - 0s 4ms/step - loss: 0.2358 - tp: 333.0000 - fp: 40.0000 - tn: 319.0000 - fn: 26.0000 - accuracy: 0.9081 - precision: 0.8928 - recall: 0.9276 - auc: 0.9618 - prc: 0.9488 - val_loss: 0.3317 - val_tp: 4.0000 - val_fp: 16.0000 - val_tn: 105.0000 - val_fn: 3.0000 - val_accuracy: 0.8516 - val_precision: 0.2000 - val_recall: 0.5714 - val_auc: 0.8566 - val_prc: 0.2899\n",
            "Epoch 5/200\n",
            "60/60 [==============================] - 0s 4ms/step - loss: 0.1569 - tp: 349.0000 - fp: 25.0000 - tn: 334.0000 - fn: 10.0000 - accuracy: 0.9513 - precision: 0.9332 - recall: 0.9721 - auc: 0.9817 - prc: 0.9765 - val_loss: 0.2962 - val_tp: 2.0000 - val_fp: 14.0000 - val_tn: 107.0000 - val_fn: 5.0000 - val_accuracy: 0.8516 - val_precision: 0.1250 - val_recall: 0.2857 - val_auc: 0.8518 - val_prc: 0.2836\n",
            "Epoch 6/200\n",
            "60/60 [==============================] - 0s 4ms/step - loss: 0.1691 - tp: 348.0000 - fp: 35.0000 - tn: 324.0000 - fn: 11.0000 - accuracy: 0.9359 - precision: 0.9086 - recall: 0.9694 - auc: 0.9813 - prc: 0.9743 - val_loss: 0.2902 - val_tp: 2.0000 - val_fp: 14.0000 - val_tn: 107.0000 - val_fn: 5.0000 - val_accuracy: 0.8516 - val_precision: 0.1250 - val_recall: 0.2857 - val_auc: 0.8064 - val_prc: 0.2791\n"
          ]
        }
      ]
    },
    {
      "cell_type": "markdown",
      "source": [
        "### Plotting Metrics of Resampled Model"
      ],
      "metadata": {
        "id": "EEej0eGYP_5M"
      }
    },
    {
      "cell_type": "code",
      "source": [
        "plot_metrics(resampled_history)"
      ],
      "metadata": {
        "colab": {
          "base_uri": "https://localhost:8080/",
          "height": 283
        },
        "id": "4My-OE4IDhzd",
        "outputId": "cb9f19e3-14c9-4da8-d024-ef77a25456ce"
      },
      "execution_count": 98,
      "outputs": [
        {
          "output_type": "display_data",
          "data": {
            "text/plain": [
              "<Figure size 432x288 with 4 Axes>"
            ],
            "image/png": "[encoded data removed]"
          },
          "metadata": {
            "needs_background": "light"
          }
        }
      ]
    },
    {
      "cell_type": "markdown",
      "source": [
        "### Decreasing steps_per_epoch to reduce overfitting (let early stopping prevent it)"
      ],
      "metadata": {
        "id": "DzIf355JQC8m"
      }
    },
    {
      "cell_type": "code",
      "source": [
        "resampled_history = resampled_model.fit(\n",
        "    resampled_features,\n",
        "    resampled_labels,    \n",
        "    steps_per_epoch=20,# These are not real epochs\n",
        "    epochs=10*EPOCHS,\n",
        "    callbacks=[earlystopping],\n",
        "    validation_data=(val_ds))"
      ],
      "metadata": {
        "colab": {
          "base_uri": "https://localhost:8080/"
        },
        "id": "ULTa3SisDo4-",
        "outputId": "9f087d1f-bc10-40c0-cfe4-4b9d72ea6629"
      },
      "execution_count": 99,
      "outputs": [
        {
          "output_type": "stream",
          "name": "stdout",
          "text": [
            "Epoch 1/2000\n",
            "20/20 [==============================] - 0s 5ms/step - loss: 0.2573 - tp: 334.0000 - fp: 41.0000 - tn: 318.0000 - fn: 25.0000 - accuracy: 0.9081 - precision: 0.8907 - recall: 0.9304 - auc: 0.9581 - prc: 0.9273 - val_loss: 0.4651 - val_tp: 6.0000 - val_fp: 19.0000 - val_tn: 102.0000 - val_fn: 1.0000 - val_accuracy: 0.8438 - val_precision: 0.2400 - val_recall: 0.8571 - val_auc: 0.8949 - val_prc: 0.3211\n",
            "Epoch 2/2000\n",
            "20/20 [==============================] - 0s 6ms/step - loss: 0.2218 - tp: 339.0000 - fp: 41.0000 - tn: 318.0000 - fn: 20.0000 - accuracy: 0.9150 - precision: 0.8921 - recall: 0.9443 - auc: 0.9676 - prc: 0.9585 - val_loss: 0.4260 - val_tp: 6.0000 - val_fp: 18.0000 - val_tn: 103.0000 - val_fn: 1.0000 - val_accuracy: 0.8516 - val_precision: 0.2500 - val_recall: 0.8571 - val_auc: 0.8878 - val_prc: 0.3148\n",
            "Epoch 3/2000\n",
            "20/20 [==============================] - 0s 6ms/step - loss: 0.2399 - tp: 343.0000 - fp: 47.0000 - tn: 312.0000 - fn: 16.0000 - accuracy: 0.9123 - precision: 0.8795 - recall: 0.9554 - auc: 0.9617 - prc: 0.9468 - val_loss: 0.3734 - val_tp: 5.0000 - val_fp: 18.0000 - val_tn: 103.0000 - val_fn: 2.0000 - val_accuracy: 0.8438 - val_precision: 0.2174 - val_recall: 0.7143 - val_auc: 0.8932 - val_prc: 0.3144\n",
            "Epoch 4/2000\n",
            "20/20 [==============================] - 0s 7ms/step - loss: 0.1912 - tp: 344.0000 - fp: 33.0000 - tn: 326.0000 - fn: 15.0000 - accuracy: 0.9331 - precision: 0.9125 - recall: 0.9582 - auc: 0.9747 - prc: 0.9621 - val_loss: 0.3393 - val_tp: 4.0000 - val_fp: 17.0000 - val_tn: 104.0000 - val_fn: 3.0000 - val_accuracy: 0.8438 - val_precision: 0.1905 - val_recall: 0.5714 - val_auc: 0.8825 - val_prc: 0.3088\n",
            "Epoch 5/2000\n",
            "20/20 [==============================] - 0s 6ms/step - loss: 0.1694 - tp: 352.0000 - fp: 32.0000 - tn: 327.0000 - fn: 7.0000 - accuracy: 0.9457 - precision: 0.9167 - recall: 0.9805 - auc: 0.9808 - prc: 0.9710 - val_loss: 0.3280 - val_tp: 4.0000 - val_fp: 16.0000 - val_tn: 105.0000 - val_fn: 3.0000 - val_accuracy: 0.8516 - val_precision: 0.2000 - val_recall: 0.5714 - val_auc: 0.8743 - val_prc: 0.3682\n",
            "Epoch 6/2000\n",
            "20/20 [==============================] - 0s 5ms/step - loss: 0.1584 - tp: 348.0000 - fp: 26.0000 - tn: 333.0000 - fn: 11.0000 - accuracy: 0.9485 - precision: 0.9305 - recall: 0.9694 - auc: 0.9822 - prc: 0.9711 - val_loss: 0.3178 - val_tp: 4.0000 - val_fp: 16.0000 - val_tn: 105.0000 - val_fn: 3.0000 - val_accuracy: 0.8516 - val_precision: 0.2000 - val_recall: 0.5714 - val_auc: 0.8790 - val_prc: 0.3002\n",
            "Epoch 7/2000\n",
            "20/20 [==============================] - 0s 5ms/step - loss: 0.1559 - tp: 352.0000 - fp: 32.0000 - tn: 327.0000 - fn: 7.0000 - accuracy: 0.9457 - precision: 0.9167 - recall: 0.9805 - auc: 0.9824 - prc: 0.9741 - val_loss: 0.3027 - val_tp: 3.0000 - val_fp: 15.0000 - val_tn: 106.0000 - val_fn: 4.0000 - val_accuracy: 0.8516 - val_precision: 0.1667 - val_recall: 0.4286 - val_auc: 0.8713 - val_prc: 0.2958\n",
            "Epoch 8/2000\n",
            "20/20 [==============================] - 0s 6ms/step - loss: 0.1395 - tp: 351.0000 - fp: 23.0000 - tn: 336.0000 - fn: 8.0000 - accuracy: 0.9568 - precision: 0.9385 - recall: 0.9777 - auc: 0.9857 - prc: 0.9761 - val_loss: 0.2963 - val_tp: 3.0000 - val_fp: 14.0000 - val_tn: 107.0000 - val_fn: 4.0000 - val_accuracy: 0.8594 - val_precision: 0.1765 - val_recall: 0.4286 - val_auc: 0.8630 - val_prc: 0.2735\n",
            "Epoch 9/2000\n",
            "20/20 [==============================] - 0s 5ms/step - loss: 0.1424 - tp: 356.0000 - fp: 27.0000 - tn: 332.0000 - fn: 3.0000 - accuracy: 0.9582 - precision: 0.9295 - recall: 0.9916 - auc: 0.9847 - prc: 0.9815 - val_loss: 0.2785 - val_tp: 2.0000 - val_fp: 11.0000 - val_tn: 110.0000 - val_fn: 5.0000 - val_accuracy: 0.8750 - val_precision: 0.1538 - val_recall: 0.2857 - val_auc: 0.8554 - val_prc: 0.2716\n",
            "Epoch 10/2000\n",
            "20/20 [==============================] - 0s 5ms/step - loss: 0.1392 - tp: 350.0000 - fp: 23.0000 - tn: 336.0000 - fn: 9.0000 - accuracy: 0.9554 - precision: 0.9383 - recall: 0.9749 - auc: 0.9863 - prc: 0.9801 - val_loss: 0.2761 - val_tp: 2.0000 - val_fp: 11.0000 - val_tn: 110.0000 - val_fn: 5.0000 - val_accuracy: 0.8750 - val_precision: 0.1538 - val_recall: 0.2857 - val_auc: 0.8548 - val_prc: 0.2821\n"
          ]
        }
      ]
    },
    {
      "cell_type": "markdown",
      "source": [
        "### Plotting Metrics of Final Resampled Model"
      ],
      "metadata": {
        "id": "7rf0L9YGQIuO"
      }
    },
    {
      "cell_type": "code",
      "source": [
        "plot_metrics(resampled_history)\n"
      ],
      "metadata": {
        "colab": {
          "base_uri": "https://localhost:8080/",
          "height": 283
        },
        "id": "zVY9_t0nD6-N",
        "outputId": "09717a90-5ce8-4962-820e-42c117288d57"
      },
      "execution_count": 100,
      "outputs": [
        {
          "output_type": "display_data",
          "data": {
            "text/plain": [
              "<Figure size 432x288 with 4 Axes>"
            ],
            "image/png": "[encoded data removed]"
          },
          "metadata": {
            "needs_background": "light"
          }
        }
      ]
    },
    {
      "cell_type": "code",
      "source": [
        "train_predictions_resampled = resampled_model.predict(X_train, batch_size=BATCH_SIZE)\n",
        "test_predictions_resampled = resampled_model.predict(X_val, batch_size=BATCH_SIZE)"
      ],
      "metadata": {
        "id": "Gr85YxtXD-WP"
      },
      "execution_count": 101,
      "outputs": []
    },
    {
      "cell_type": "code",
      "source": [
        "resampled_results = resampled_model.evaluate(X_val, y_val,\n",
        "                                             batch_size=BATCH_SIZE, verbose=0)\n",
        "for name, value in zip(resampled_model.metrics_names, resampled_results):\n",
        "  print(name, ': ', value)\n",
        "print()\n",
        "\n",
        "plot_cm(y_val, test_predictions_resampled)"
      ],
      "metadata": {
        "colab": {
          "base_uri": "https://localhost:8080/",
          "height": 628
        },
        "id": "BwxEehGMEDQP",
        "outputId": "39c3e88a-b58b-4588-a60f-af2024042d13"
      },
      "execution_count": 102,
      "outputs": [
        {
          "output_type": "stream",
          "name": "stdout",
          "text": [
            "loss :  0.32799580693244934\n",
            "tp :  4.0\n",
            "fp :  16.0\n",
            "tn :  105.0\n",
            "fn :  3.0\n",
            "accuracy :  0.8515625\n",
            "precision :  0.20000000298023224\n",
            "recall :  0.5714285969734192\n",
            "auc :  0.8742620944976807\n",
            "prc :  0.36820533871650696\n",
            "\n",
            "Legitimate Champions Detected (True Negatives):  105\n",
            "Legitimate Champions Incorrectly Detected (False Positives):  16\n",
            "Non Champions Missed (False Negatives):  3\n",
            "Non Champions Detected (True Positives):  4\n",
            "Total Fraudulent Transactions:  7\n"
          ]
        },
        {
          "output_type": "display_data",
          "data": {
            "text/plain": [
              "<Figure size 360x360 with 2 Axes>"
            ],
            "image/png": "[encoded data removed]"
          },
          "metadata": {
            "needs_background": "light"
          }
        }
      ]
    },
    {
      "cell_type": "code",
      "source": [
        "\n",
        "plot_roc(\"Train Baseline\", y_train, train_predictions_baseline, color=colors[0])\n",
        "plot_roc(\"Test Baseline\", y_val, test_predictions_baseline, color=colors[0], linestyle='--')\n",
        "\n",
        "plot_roc(\"Train Weighted\", y_train, train_predictions_weighted, color=colors[1])\n",
        "plot_roc(\"Test Weighted\", y_val, test_predictions_weighted, color=colors[1], linestyle='--')\n",
        "\n",
        "plot_roc(\"Train Resampled\", y_train, train_predictions_resampled, color=colors[2])\n",
        "plot_roc(\"Test Resampled\", y_val, test_predictions_resampled, color=colors[2], linestyle='--')\n",
        "plt.legend(loc='lower right');"
      ],
      "metadata": {
        "colab": {
          "base_uri": "https://localhost:8080/",
          "height": 281
        },
        "id": "9MW8wZPKEJvG",
        "outputId": "f780b8ba-aeba-4065-8c7d-7eb0380b9595"
      },
      "execution_count": 103,
      "outputs": [
        {
          "output_type": "display_data",
          "data": {
            "text/plain": [
              "<Figure size 432x288 with 1 Axes>"
            ],
            "image/png": "[encoded data removed]"
          },
          "metadata": {
            "needs_background": "light"
          }
        }
      ]
    },
    {
      "cell_type": "code",
      "source": [
        "plot_prc(\"Train Baseline\", y_train, train_predictions_baseline, color=colors[0])\n",
        "plot_prc(\"Test Baseline\", y_val, test_predictions_baseline, color=colors[0], linestyle='--')\n",
        "\n",
        "plot_prc(\"Train Weighted\", y_train, train_predictions_weighted, color=colors[1])\n",
        "plot_prc(\"Test Weighted\", y_val, test_predictions_weighted, color=colors[1], linestyle='--')\n",
        "\n",
        "plot_prc(\"Train Resampled\", y_train, train_predictions_resampled, color=colors[2])\n",
        "plot_prc(\"Test Resampled\", y_val, test_predictions_resampled, color=colors[2], linestyle='--')\n",
        "plt.legend(loc='lower right');"
      ],
      "metadata": {
        "colab": {
          "base_uri": "https://localhost:8080/",
          "height": 279
        },
        "id": "r2b8ImYkESSL",
        "outputId": "e6106aae-88f4-4a7c-a469-c7a5d677c694"
      },
      "execution_count": 104,
      "outputs": [
        {
          "output_type": "display_data",
          "data": {
            "text/plain": [
              "<Figure size 432x288 with 1 Axes>"
            ],
            "image/png": "[encoded data removed]"
          },
          "metadata": {
            "needs_background": "light"
          }
        }
      ]
    },
    {
      "cell_type": "markdown",
      "source": [
        "### Evaluating Performance on Training Set"
      ],
      "metadata": {
        "id": "6786DBnmQNPd"
      }
    },
    {
      "cell_type": "code",
      "source": [
        "'''\n",
        "#Code that will iterate over all years and determine the team with max output from NN\n",
        "\n",
        "years = np.arange(1990.0,2020.0)\n",
        "\n",
        "row_list = []\n",
        "\n",
        "for year in years:\n",
        "\n",
        "  year_df = test_df[test_df[\"Year\"] == year]\n",
        "  year_df.reset_index()\n",
        "  max_idx = pd.to_numeric(year_df[\"Prediction\"]).idxmax()\n",
        "  row_list.append(dict(test_df.iloc[max_idx]))\n",
        "\n",
        "max_year_df = pd.DataFrame(row_list, columns = ['Year', 'Team', 'Prediction', 'True'])\n",
        "\n",
        "'''"
      ],
      "metadata": {
        "id": "1AMqQBAWGUtE",
        "colab": {
          "base_uri": "https://localhost:8080/",
          "height": 70
        },
        "outputId": "91a9d269-a5b5-42fd-928b-95e0eaf01a74"
      },
      "execution_count": 105,
      "outputs": [
        {
          "output_type": "execute_result",
          "data": {
            "text/plain": [
              "'\\n#Code that will iterate over all years and determine the team with max output from NN\\n\\nyears = np.arange(1990.0,2020.0)\\n\\nrow_list = []\\n\\nfor year in years:\\n\\n  year_df = test_df[test_df[\"Year\"] == year]\\n  year_df.reset_index()\\n  max_idx = pd.to_numeric(year_df[\"Prediction\"]).idxmax()\\n  row_list.append(dict(test_df.iloc[max_idx]))\\n\\nmax_year_df = pd.DataFrame(row_list, columns = [\\'Year\\', \\'Team\\', \\'Prediction\\', \\'True\\'])\\n\\n'"
            ],
            "application/vnd.google.colaboratory.intrinsic+json": {
              "type": "string"
            }
          },
          "metadata": {},
          "execution_count": 105
        }
      ]
    },
    {
      "cell_type": "markdown",
      "source": [
        "## Part 5- Predicting the 2022 Playoffs"
      ],
      "metadata": {
        "id": "ZB03OGXeK-sG"
      }
    },
    {
      "cell_type": "markdown",
      "source": [
        "### Data Processing"
      ],
      "metadata": {
        "id": "kGy8IKsyQpnZ"
      }
    },
    {
      "cell_type": "code",
      "source": [
        "test_data = pd.read_csv('2022_advanced_data.csv')"
      ],
      "metadata": {
        "id": "TIe2b2rILuXb"
      },
      "execution_count": 106,
      "outputs": []
    },
    {
      "cell_type": "code",
      "source": [
        "test_data = test_data[test_data[\"Playoffs\"] == \"Y\"]"
      ],
      "metadata": {
        "id": "5pLC9chMT_cw"
      },
      "execution_count": 107,
      "outputs": []
    },
    {
      "cell_type": "code",
      "source": [
        "test_data = test_data.drop(columns=['Playoffs', 'Losing_season', 'Arena', 'L', 'W', 'PW', 'PL', 'Attend.'])"
      ],
      "metadata": {
        "id": "OVGubmcwL1EX"
      },
      "execution_count": 108,
      "outputs": []
    },
    {
      "cell_type": "code",
      "source": [
        "X_test = test_data.iloc[:, ~ test_data.columns.isin(['Year', 'Champion', 'Team'])]\n",
        "y_test = test_data.loc[:, test_data.columns == 'Champion'].values\n",
        "y_test = np.array([0 if val == \"N\" else 1 for val in y_test])"
      ],
      "metadata": {
        "id": "VGzDvplEMIt9"
      },
      "execution_count": 109,
      "outputs": []
    },
    {
      "cell_type": "code",
      "source": [
        "X_test = np.array(ct.transform(X_test))"
      ],
      "metadata": {
        "id": "SW7J6FhiMNzV"
      },
      "execution_count": 110,
      "outputs": []
    },
    {
      "cell_type": "code",
      "source": [
        "X_test = sc.transform(X_test)"
      ],
      "metadata": {
        "id": "FMTMkSfZQ77R"
      },
      "execution_count": 111,
      "outputs": []
    },
    {
      "cell_type": "markdown",
      "source": [
        "### Making Predictions"
      ],
      "metadata": {
        "id": "xL_F_bDlQsxg"
      }
    },
    {
      "cell_type": "code",
      "source": [
        "test_predictions = resampled_model.predict(X_test)"
      ],
      "metadata": {
        "id": "Bk34_fqkMew4"
      },
      "execution_count": 112,
      "outputs": []
    },
    {
      "cell_type": "markdown",
      "source": [
        "### Organizing the Data"
      ],
      "metadata": {
        "id": "HvhW5G1ZQub9"
      }
    },
    {
      "cell_type": "code",
      "source": [
        "test_arrays = np.column_stack([test_data[\"Year\"], test_data[\"Team\"], test_predictions.flatten()])\n",
        "test_df = pd.DataFrame(test_arrays, columns = ['Year', 'Team', 'Prediction'])"
      ],
      "metadata": {
        "id": "oHraNxFCMnFi"
      },
      "execution_count": 113,
      "outputs": []
    },
    {
      "cell_type": "code",
      "source": [
        "test_df.sort_values(by=['Prediction'], ascending=False)"
      ],
      "metadata": {
        "colab": {
          "base_uri": "https://localhost:8080/",
          "height": 551
        },
        "id": "RjhYOSQjMtZc",
        "outputId": "5230321d-4b7e-408a-cff0-340acf21e9e1"
      },
      "execution_count": 114,
      "outputs": [
        {
          "output_type": "execute_result",
          "data": {
            "text/plain": [
              "      Year                    Team Prediction\n",
              "13  2022.0            Phoenix Suns    0.97052\n",
              "6   2022.0   Golden State Warriors   0.698969\n",
              "8   2022.0              Miami Heat   0.406972\n",
              "7   2022.0       Memphis Grizzlies   0.269777\n",
              "1   2022.0          Boston Celtics   0.248316\n",
              "9   2022.0         Milwaukee Bucks     0.1774\n",
              "15  2022.0               Utah Jazz   0.104824\n",
              "4   2022.0        Dallas Mavericks    0.07039\n",
              "2   2022.0           Brooklyn Nets    0.05381\n",
              "5   2022.0          Denver Nuggets   0.051135\n",
              "10  2022.0  Minnesota Timberwolves   0.026439\n",
              "12  2022.0      Philadelphia 76ers   0.024955\n",
              "3   2022.0           Chicago Bulls   0.017109\n",
              "14  2022.0         Toronto Raptors   0.015139\n",
              "11  2022.0    New Orleans Pelicans   0.007523\n",
              "0   2022.0           Atlanta Hawks    0.00589"
            ],
            "text/html": [
              "\n",
              "  <div id=\"df-2c494465-b54c-4b22-8e51-07584dd5b451\">\n",
              "    <div class=\"colab-df-container\">\n",
              "      <div>\n",
              "<style scoped>\n",
              "    .dataframe tbody tr th:only-of-type {\n",
              "        vertical-align: middle;\n",
              "    }\n",
              "\n",
              "    .dataframe tbody tr th {\n",
              "        vertical-align: top;\n",
              "    }\n",
              "\n",
              "    .dataframe thead th {\n",
              "        text-align: right;\n",
              "    }\n",
              "</style>\n",
              "<table border=\"1\" class=\"dataframe\">\n",
              "  <thead>\n",
              "    <tr style=\"text-align: right;\">\n",
              "      <th></th>\n",
              "      <th>Year</th>\n",
              "      <th>Team</th>\n",
              "      <th>Prediction</th>\n",
              "    </tr>\n",
              "  </thead>\n",
              "  <tbody>\n",
              "    <tr>\n",
              "      <th>13</th>\n",
              "      <td>2022.0</td>\n",
              "      <td>Phoenix Suns</td>\n",
              "      <td>0.97052</td>\n",
              "    </tr>\n",
              "    <tr>\n",
              "      <th>6</th>\n",
              "      <td>2022.0</td>\n",
              "      <td>Golden State Warriors</td>\n",
              "      <td>0.698969</td>\n",
              "    </tr>\n",
              "    <tr>\n",
              "      <th>8</th>\n",
              "      <td>2022.0</td>\n",
              "      <td>Miami Heat</td>\n",
              "      <td>0.406972</td>\n",
              "    </tr>\n",
              "    <tr>\n",
              "      <th>7</th>\n",
              "      <td>2022.0</td>\n",
              "      <td>Memphis Grizzlies</td>\n",
              "      <td>0.269777</td>\n",
              "    </tr>\n",
              "    <tr>\n",
              "      <th>1</th>\n",
              "      <td>2022.0</td>\n",
              "      <td>Boston Celtics</td>\n",
              "      <td>0.248316</td>\n",
              "    </tr>\n",
              "    <tr>\n",
              "      <th>9</th>\n",
              "      <td>2022.0</td>\n",
              "      <td>Milwaukee Bucks</td>\n",
              "      <td>0.1774</td>\n",
              "    </tr>\n",
              "    <tr>\n",
              "      <th>15</th>\n",
              "      <td>2022.0</td>\n",
              "      <td>Utah Jazz</td>\n",
              "      <td>0.104824</td>\n",
              "    </tr>\n",
              "    <tr>\n",
              "      <th>4</th>\n",
              "      <td>2022.0</td>\n",
              "      <td>Dallas Mavericks</td>\n",
              "      <td>0.07039</td>\n",
              "    </tr>\n",
              "    <tr>\n",
              "      <th>2</th>\n",
              "      <td>2022.0</td>\n",
              "      <td>Brooklyn Nets</td>\n",
              "      <td>0.05381</td>\n",
              "    </tr>\n",
              "    <tr>\n",
              "      <th>5</th>\n",
              "      <td>2022.0</td>\n",
              "      <td>Denver Nuggets</td>\n",
              "      <td>0.051135</td>\n",
              "    </tr>\n",
              "    <tr>\n",
              "      <th>10</th>\n",
              "      <td>2022.0</td>\n",
              "      <td>Minnesota Timberwolves</td>\n",
              "      <td>0.026439</td>\n",
              "    </tr>\n",
              "    <tr>\n",
              "      <th>12</th>\n",
              "      <td>2022.0</td>\n",
              "      <td>Philadelphia 76ers</td>\n",
              "      <td>0.024955</td>\n",
              "    </tr>\n",
              "    <tr>\n",
              "      <th>3</th>\n",
              "      <td>2022.0</td>\n",
              "      <td>Chicago Bulls</td>\n",
              "      <td>0.017109</td>\n",
              "    </tr>\n",
              "    <tr>\n",
              "      <th>14</th>\n",
              "      <td>2022.0</td>\n",
              "      <td>Toronto Raptors</td>\n",
              "      <td>0.015139</td>\n",
              "    </tr>\n",
              "    <tr>\n",
              "      <th>11</th>\n",
              "      <td>2022.0</td>\n",
              "      <td>New Orleans Pelicans</td>\n",
              "      <td>0.007523</td>\n",
              "    </tr>\n",
              "    <tr>\n",
              "      <th>0</th>\n",
              "      <td>2022.0</td>\n",
              "      <td>Atlanta Hawks</td>\n",
              "      <td>0.00589</td>\n",
              "    </tr>\n",
              "  </tbody>\n",
              "</table>\n",
              "</div>\n",
              "      <button class=\"colab-df-convert\" onclick=\"convertToInteractive('df-2c494465-b54c-4b22-8e51-07584dd5b451')\"\n",
              "              title=\"Convert this dataframe to an interactive table.\"\n",
              "              style=\"display:none;\">\n",
              "        \n",
              "  <svg xmlns=\"http://www.w3.org/2000/svg\" height=\"24px\"viewBox=\"0 0 24 24\"\n",
              "       width=\"24px\">\n",
              "    <path d=\"M0 0h24v24H0V0z\" fill=\"none\"/>\n",
              "    <path d=\"M18.56 5.44l.94 2.06.94-2.06 2.06-.94-2.06-.94-.94-2.06-.94 2.06-2.06.94zm-11 1L8.5 8.5l.94-2.06 2.06-.94-2.06-.94L8.5 2.5l-.94 2.06-2.06.94zm10 10l.94 2.06.94-2.06 2.06-.94-2.06-.94-.94-2.06-.94 2.06-2.06.94z\"/><path d=\"M17.41 7.96l-1.37-1.37c-.4-.4-.92-.59-1.43-.59-.52 0-1.04.2-1.43.59L10.3 9.45l-7.72 7.72c-.78.78-.78 2.05 0 2.83L4 21.41c.39.39.9.59 1.41.59.51 0 1.02-.2 1.41-.59l7.78-7.78 2.81-2.81c.8-.78.8-2.07 0-2.86zM5.41 20L4 18.59l7.72-7.72 1.47 1.35L5.41 20z\"/>\n",
              "  </svg>\n",
              "      </button>\n",
              "      \n",
              "  <style>\n",
              "    .colab-df-container {\n",
              "      display:flex;\n",
              "      flex-wrap:wrap;\n",
              "      gap: 12px;\n",
              "    }\n",
              "\n",
              "    .colab-df-convert {\n",
              "      background-color: #E8F0FE;\n",
              "      border: none;\n",
              "      border-radius: 50%;\n",
              "      cursor: pointer;\n",
              "      display: none;\n",
              "      fill: #1967D2;\n",
              "      height: 32px;\n",
              "      padding: 0 0 0 0;\n",
              "      width: 32px;\n",
              "    }\n",
              "\n",
              "    .colab-df-convert:hover {\n",
              "      background-color: #E2EBFA;\n",
              "      box-shadow: 0px 1px 2px rgba(60, 64, 67, 0.3), 0px 1px 3px 1px rgba(60, 64, 67, 0.15);\n",
              "      fill: #174EA6;\n",
              "    }\n",
              "\n",
              "    [theme=dark] .colab-df-convert {\n",
              "      background-color: #3B4455;\n",
              "      fill: #D2E3FC;\n",
              "    }\n",
              "\n",
              "    [theme=dark] .colab-df-convert:hover {\n",
              "      background-color: #434B5C;\n",
              "      box-shadow: 0px 1px 3px 1px rgba(0, 0, 0, 0.15);\n",
              "      filter: drop-shadow(0px 1px 2px rgba(0, 0, 0, 0.3));\n",
              "      fill: #FFFFFF;\n",
              "    }\n",
              "  </style>\n",
              "\n",
              "      <script>\n",
              "        const buttonEl =\n",
              "          document.querySelector('#df-2c494465-b54c-4b22-8e51-07584dd5b451 button.colab-df-convert');\n",
              "        buttonEl.style.display =\n",
              "          google.colab.kernel.accessAllowed ? 'block' : 'none';\n",
              "\n",
              "        async function convertToInteractive(key) {\n",
              "          const element = document.querySelector('#df-2c494465-b54c-4b22-8e51-07584dd5b451');\n",
              "          const dataTable =\n",
              "            await google.colab.kernel.invokeFunction('convertToInteractive',\n",
              "                                                     [key], {});\n",
              "          if (!dataTable) return;\n",
              "\n",
              "          const docLinkHtml = 'Like what you see? Visit the ' +\n",
              "            '<a target=\"_blank\" href=https://colab.research.google.com/notebooks/data_table.ipynb>data table notebook</a>'\n",
              "            + ' to learn more about interactive tables.';\n",
              "          element.innerHTML = '';\n",
              "          dataTable['output_type'] = 'display_data';\n",
              "          await google.colab.output.renderOutput(dataTable, element);\n",
              "          const docLink = document.createElement('div');\n",
              "          docLink.innerHTML = docLinkHtml;\n",
              "          element.appendChild(docLink);\n",
              "        }\n",
              "      </script>\n",
              "    </div>\n",
              "  </div>\n",
              "  "
            ]
          },
          "metadata": {},
          "execution_count": 114
        }
      ]
    },
    {
      "cell_type": "markdown",
      "source": [
        "Based on the model, the teams with output scores > 0.5 are the Suns and Warriors. Based on the magnitude of the scores, we would predict the Suns to be most likely to win the Championship. "
      ],
      "metadata": {
        "id": "QZHi8s7RQyMx"
      }
    }
  ]
}