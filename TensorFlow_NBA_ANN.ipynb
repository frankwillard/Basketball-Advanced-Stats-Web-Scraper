{
  "nbformat": 4,
  "nbformat_minor": 0,
  "metadata": {
    "colab": {
      "name": "TensorFlow NBA ANN",
      "provenance": [],
      "collapsed_sections": [],
      "include_colab_link": true
    },
    "kernelspec": {
      "name": "python3",
      "display_name": "Python 3"
    }
  },
  "cells": [
    {
      "cell_type": "markdown",
      "metadata": {
        "id": "view-in-github",
        "colab_type": "text"
      },
      "source": [
        "<a href=\"https://colab.research.google.com/github/frankwillard/NBA-Web-Scraper-And-ANN/blob/main/TensorFlow_NBA_ANN.ipynb\" target=\"_parent\"><img src=\"https://colab.research.google.com/assets/colab-badge.svg\" alt=\"Open In Colab\"/></a>"
      ]
    },
    {
      "cell_type": "markdown",
      "metadata": {
        "id": "lP6JLo1tGNBg"
      },
      "source": [
        "# TensorFlow NBA Champion Neural Network"
      ]
    },
    {
      "cell_type": "markdown",
      "source": [
        "Inspired by the TensorFlow tutorial on working with Imbalanced Data\n",
        "\n",
        "https://www.tensorflow.org/tutorials/structured_data/imbalanced_data"
      ],
      "metadata": {
        "id": "aDVOeqwsNKFS"
      }
    },
    {
      "cell_type": "markdown",
      "metadata": {
        "id": "gWZyYmS_UE_L"
      },
      "source": [
        "### Importing the libraries"
      ]
    },
    {
      "cell_type": "code",
      "metadata": {
        "id": "MxkJoQBkUIHC"
      },
      "source": [
        "import numpy as np\n",
        "import pandas as pd\n",
        "import tensorflow as tf"
      ],
      "execution_count": 1,
      "outputs": []
    },
    {
      "cell_type": "code",
      "metadata": {
        "id": "ZaTwK7ojXr2F",
        "colab": {
          "base_uri": "https://localhost:8080/",
          "height": 35
        },
        "outputId": "b988e269-def7-4bcc-841f-6162617fe85d"
      },
      "source": [
        "tf.__version__"
      ],
      "execution_count": 2,
      "outputs": [
        {
          "output_type": "execute_result",
          "data": {
            "text/plain": [
              "'2.8.0'"
            ],
            "application/vnd.google.colaboratory.intrinsic+json": {
              "type": "string"
            }
          },
          "metadata": {},
          "execution_count": 2
        }
      ]
    },
    {
      "cell_type": "markdown",
      "metadata": {
        "id": "1E0Q3aoKUCRX"
      },
      "source": [
        "## Part 1 - Data Preprocessing"
      ]
    },
    {
      "cell_type": "markdown",
      "metadata": {
        "id": "cKWAkFVGUU0Z"
      },
      "source": [
        "### Importing and viewing the dataset"
      ]
    },
    {
      "cell_type": "code",
      "metadata": {
        "id": "R4u86ru5OgPR",
        "colab": {
          "base_uri": "https://localhost:8080/",
          "height": 403
        },
        "outputId": "1468a3f4-634a-4693-806f-828604237979"
      },
      "source": [
        "dataset = pd.read_csv('nba_team_advanced_data.csv')\n",
        "dataset.head()"
      ],
      "execution_count": 3,
      "outputs": [
        {
          "output_type": "execute_result",
          "data": {
            "text/plain": [
              "     Year                 Team   Age     W     L    PW    PL   MOV   SOS  \\\n",
              "0  1990.0        Atlanta Hawks  28.6  41.0  41.0  44.0  38.0  1.02 -0.39   \n",
              "1  1990.0       Boston Celtics  30.2  52.0  30.0  51.0  31.0  3.99 -0.76   \n",
              "2  1990.0    Charlotte Hornets  25.6  19.0  63.0  21.0  61.0 -7.82  0.81   \n",
              "3  1990.0        Chicago Bulls  26.1  55.0  27.0  50.0  32.0  3.26 -0.51   \n",
              "4  1990.0  Cleveland Cavaliers  26.1  42.0  40.0  40.0  42.0 -0.30 -0.31   \n",
              "\n",
              "    SRS  ...  DRB%  DFT/FGA                  Arena   Attend.  Playoffs  \\\n",
              "0  0.64  ...  65.5    0.254          Omni Coliseum  573711.0         N   \n",
              "1  3.23  ...  72.1    0.223          Boston Garden  611537.0         N   \n",
              "2 -7.00  ...  67.5    0.269     Charlotte Coliseum  979941.0         N   \n",
              "3  2.74  ...  68.1    0.262        Chicago Stadium  752564.0         N   \n",
              "4 -0.62  ...  67.7    0.202  Coliseum at Richfield  695710.0         N   \n",
              "\n",
              "       W/L%  Losing_season  Champion  won_last  won_last_3  \n",
              "0  0.500000              N         N         N           N  \n",
              "1  0.634146              N         N         N           N  \n",
              "2  0.231707              Y         N         N           N  \n",
              "3  0.670732              N         N         N           N  \n",
              "4  0.512195              N         N         N           N  \n",
              "\n",
              "[5 rows x 33 columns]"
            ],
            "text/html": [
              "\n",
              "  <div id=\"df-278eed2c-0357-46eb-8277-5a65567a52ff\">\n",
              "    <div class=\"colab-df-container\">\n",
              "      <div>\n",
              "<style scoped>\n",
              "    .dataframe tbody tr th:only-of-type {\n",
              "        vertical-align: middle;\n",
              "    }\n",
              "\n",
              "    .dataframe tbody tr th {\n",
              "        vertical-align: top;\n",
              "    }\n",
              "\n",
              "    .dataframe thead th {\n",
              "        text-align: right;\n",
              "    }\n",
              "</style>\n",
              "<table border=\"1\" class=\"dataframe\">\n",
              "  <thead>\n",
              "    <tr style=\"text-align: right;\">\n",
              "      <th></th>\n",
              "      <th>Year</th>\n",
              "      <th>Team</th>\n",
              "      <th>Age</th>\n",
              "      <th>W</th>\n",
              "      <th>L</th>\n",
              "      <th>PW</th>\n",
              "      <th>PL</th>\n",
              "      <th>MOV</th>\n",
              "      <th>SOS</th>\n",
              "      <th>SRS</th>\n",
              "      <th>...</th>\n",
              "      <th>DRB%</th>\n",
              "      <th>DFT/FGA</th>\n",
              "      <th>Arena</th>\n",
              "      <th>Attend.</th>\n",
              "      <th>Playoffs</th>\n",
              "      <th>W/L%</th>\n",
              "      <th>Losing_season</th>\n",
              "      <th>Champion</th>\n",
              "      <th>won_last</th>\n",
              "      <th>won_last_3</th>\n",
              "    </tr>\n",
              "  </thead>\n",
              "  <tbody>\n",
              "    <tr>\n",
              "      <th>0</th>\n",
              "      <td>1990.0</td>\n",
              "      <td>Atlanta Hawks</td>\n",
              "      <td>28.6</td>\n",
              "      <td>41.0</td>\n",
              "      <td>41.0</td>\n",
              "      <td>44.0</td>\n",
              "      <td>38.0</td>\n",
              "      <td>1.02</td>\n",
              "      <td>-0.39</td>\n",
              "      <td>0.64</td>\n",
              "      <td>...</td>\n",
              "      <td>65.5</td>\n",
              "      <td>0.254</td>\n",
              "      <td>Omni Coliseum</td>\n",
              "      <td>573711.0</td>\n",
              "      <td>N</td>\n",
              "      <td>0.500000</td>\n",
              "      <td>N</td>\n",
              "      <td>N</td>\n",
              "      <td>N</td>\n",
              "      <td>N</td>\n",
              "    </tr>\n",
              "    <tr>\n",
              "      <th>1</th>\n",
              "      <td>1990.0</td>\n",
              "      <td>Boston Celtics</td>\n",
              "      <td>30.2</td>\n",
              "      <td>52.0</td>\n",
              "      <td>30.0</td>\n",
              "      <td>51.0</td>\n",
              "      <td>31.0</td>\n",
              "      <td>3.99</td>\n",
              "      <td>-0.76</td>\n",
              "      <td>3.23</td>\n",
              "      <td>...</td>\n",
              "      <td>72.1</td>\n",
              "      <td>0.223</td>\n",
              "      <td>Boston Garden</td>\n",
              "      <td>611537.0</td>\n",
              "      <td>N</td>\n",
              "      <td>0.634146</td>\n",
              "      <td>N</td>\n",
              "      <td>N</td>\n",
              "      <td>N</td>\n",
              "      <td>N</td>\n",
              "    </tr>\n",
              "    <tr>\n",
              "      <th>2</th>\n",
              "      <td>1990.0</td>\n",
              "      <td>Charlotte Hornets</td>\n",
              "      <td>25.6</td>\n",
              "      <td>19.0</td>\n",
              "      <td>63.0</td>\n",
              "      <td>21.0</td>\n",
              "      <td>61.0</td>\n",
              "      <td>-7.82</td>\n",
              "      <td>0.81</td>\n",
              "      <td>-7.00</td>\n",
              "      <td>...</td>\n",
              "      <td>67.5</td>\n",
              "      <td>0.269</td>\n",
              "      <td>Charlotte Coliseum</td>\n",
              "      <td>979941.0</td>\n",
              "      <td>N</td>\n",
              "      <td>0.231707</td>\n",
              "      <td>Y</td>\n",
              "      <td>N</td>\n",
              "      <td>N</td>\n",
              "      <td>N</td>\n",
              "    </tr>\n",
              "    <tr>\n",
              "      <th>3</th>\n",
              "      <td>1990.0</td>\n",
              "      <td>Chicago Bulls</td>\n",
              "      <td>26.1</td>\n",
              "      <td>55.0</td>\n",
              "      <td>27.0</td>\n",
              "      <td>50.0</td>\n",
              "      <td>32.0</td>\n",
              "      <td>3.26</td>\n",
              "      <td>-0.51</td>\n",
              "      <td>2.74</td>\n",
              "      <td>...</td>\n",
              "      <td>68.1</td>\n",
              "      <td>0.262</td>\n",
              "      <td>Chicago Stadium</td>\n",
              "      <td>752564.0</td>\n",
              "      <td>N</td>\n",
              "      <td>0.670732</td>\n",
              "      <td>N</td>\n",
              "      <td>N</td>\n",
              "      <td>N</td>\n",
              "      <td>N</td>\n",
              "    </tr>\n",
              "    <tr>\n",
              "      <th>4</th>\n",
              "      <td>1990.0</td>\n",
              "      <td>Cleveland Cavaliers</td>\n",
              "      <td>26.1</td>\n",
              "      <td>42.0</td>\n",
              "      <td>40.0</td>\n",
              "      <td>40.0</td>\n",
              "      <td>42.0</td>\n",
              "      <td>-0.30</td>\n",
              "      <td>-0.31</td>\n",
              "      <td>-0.62</td>\n",
              "      <td>...</td>\n",
              "      <td>67.7</td>\n",
              "      <td>0.202</td>\n",
              "      <td>Coliseum at Richfield</td>\n",
              "      <td>695710.0</td>\n",
              "      <td>N</td>\n",
              "      <td>0.512195</td>\n",
              "      <td>N</td>\n",
              "      <td>N</td>\n",
              "      <td>N</td>\n",
              "      <td>N</td>\n",
              "    </tr>\n",
              "  </tbody>\n",
              "</table>\n",
              "<p>5 rows × 33 columns</p>\n",
              "</div>\n",
              "      <button class=\"colab-df-convert\" onclick=\"convertToInteractive('df-278eed2c-0357-46eb-8277-5a65567a52ff')\"\n",
              "              title=\"Convert this dataframe to an interactive table.\"\n",
              "              style=\"display:none;\">\n",
              "        \n",
              "  <svg xmlns=\"http://www.w3.org/2000/svg\" height=\"24px\"viewBox=\"0 0 24 24\"\n",
              "       width=\"24px\">\n",
              "    <path d=\"M0 0h24v24H0V0z\" fill=\"none\"/>\n",
              "    <path d=\"M18.56 5.44l.94 2.06.94-2.06 2.06-.94-2.06-.94-.94-2.06-.94 2.06-2.06.94zm-11 1L8.5 8.5l.94-2.06 2.06-.94-2.06-.94L8.5 2.5l-.94 2.06-2.06.94zm10 10l.94 2.06.94-2.06 2.06-.94-2.06-.94-.94-2.06-.94 2.06-2.06.94z\"/><path d=\"M17.41 7.96l-1.37-1.37c-.4-.4-.92-.59-1.43-.59-.52 0-1.04.2-1.43.59L10.3 9.45l-7.72 7.72c-.78.78-.78 2.05 0 2.83L4 21.41c.39.39.9.59 1.41.59.51 0 1.02-.2 1.41-.59l7.78-7.78 2.81-2.81c.8-.78.8-2.07 0-2.86zM5.41 20L4 18.59l7.72-7.72 1.47 1.35L5.41 20z\"/>\n",
              "  </svg>\n",
              "      </button>\n",
              "      \n",
              "  <style>\n",
              "    .colab-df-container {\n",
              "      display:flex;\n",
              "      flex-wrap:wrap;\n",
              "      gap: 12px;\n",
              "    }\n",
              "\n",
              "    .colab-df-convert {\n",
              "      background-color: #E8F0FE;\n",
              "      border: none;\n",
              "      border-radius: 50%;\n",
              "      cursor: pointer;\n",
              "      display: none;\n",
              "      fill: #1967D2;\n",
              "      height: 32px;\n",
              "      padding: 0 0 0 0;\n",
              "      width: 32px;\n",
              "    }\n",
              "\n",
              "    .colab-df-convert:hover {\n",
              "      background-color: #E2EBFA;\n",
              "      box-shadow: 0px 1px 2px rgba(60, 64, 67, 0.3), 0px 1px 3px 1px rgba(60, 64, 67, 0.15);\n",
              "      fill: #174EA6;\n",
              "    }\n",
              "\n",
              "    [theme=dark] .colab-df-convert {\n",
              "      background-color: #3B4455;\n",
              "      fill: #D2E3FC;\n",
              "    }\n",
              "\n",
              "    [theme=dark] .colab-df-convert:hover {\n",
              "      background-color: #434B5C;\n",
              "      box-shadow: 0px 1px 3px 1px rgba(0, 0, 0, 0.15);\n",
              "      filter: drop-shadow(0px 1px 2px rgba(0, 0, 0, 0.3));\n",
              "      fill: #FFFFFF;\n",
              "    }\n",
              "  </style>\n",
              "\n",
              "      <script>\n",
              "        const buttonEl =\n",
              "          document.querySelector('#df-278eed2c-0357-46eb-8277-5a65567a52ff button.colab-df-convert');\n",
              "        buttonEl.style.display =\n",
              "          google.colab.kernel.accessAllowed ? 'block' : 'none';\n",
              "\n",
              "        async function convertToInteractive(key) {\n",
              "          const element = document.querySelector('#df-278eed2c-0357-46eb-8277-5a65567a52ff');\n",
              "          const dataTable =\n",
              "            await google.colab.kernel.invokeFunction('convertToInteractive',\n",
              "                                                     [key], {});\n",
              "          if (!dataTable) return;\n",
              "\n",
              "          const docLinkHtml = 'Like what you see? Visit the ' +\n",
              "            '<a target=\"_blank\" href=https://colab.research.google.com/notebooks/data_table.ipynb>data table notebook</a>'\n",
              "            + ' to learn more about interactive tables.';\n",
              "          element.innerHTML = '';\n",
              "          dataTable['output_type'] = 'display_data';\n",
              "          await google.colab.output.renderOutput(dataTable, element);\n",
              "          const docLink = document.createElement('div');\n",
              "          docLink.innerHTML = docLinkHtml;\n",
              "          element.appendChild(docLink);\n",
              "        }\n",
              "      </script>\n",
              "    </div>\n",
              "  </div>\n",
              "  "
            ]
          },
          "metadata": {},
          "execution_count": 3
        }
      ]
    },
    {
      "cell_type": "code",
      "metadata": {
        "id": "sYSbD6jnOgw3"
      },
      "source": [
        "dataset = dataset.drop(columns=['Playoffs', 'Losing_season', 'Arena', 'L', 'W', 'PW', 'PL', 'Attend.'])"
      ],
      "execution_count": 4,
      "outputs": []
    },
    {
      "cell_type": "code",
      "metadata": {
        "colab": {
          "base_uri": "https://localhost:8080/"
        },
        "id": "-F2I-PxLOiPF",
        "outputId": "16ec5c07-ecde-4ef8-dc5f-4ef05fea17c4"
      },
      "source": [
        "dataset.columns"
      ],
      "execution_count": 5,
      "outputs": [
        {
          "output_type": "execute_result",
          "data": {
            "text/plain": [
              "Index(['Year', 'Team', 'Age', 'MOV', 'SOS', 'SRS', 'ORtg', 'DRtg', 'NRtg',\n",
              "       'Pace', 'FTr', '3PAr', 'TS%', 'OeFG%', 'OTOV%', 'ORB%', 'OFT/FGA',\n",
              "       'DeFG%', 'DTOV%', 'DRB%', 'DFT/FGA', 'W/L%', 'Champion', 'won_last',\n",
              "       'won_last_3'],\n",
              "      dtype='object')"
            ]
          },
          "metadata": {},
          "execution_count": 5
        }
      ]
    },
    {
      "cell_type": "code",
      "metadata": {
        "id": "MXUkhkMfU4wq"
      },
      "source": [
        "#Drop Year, Champion, Team\n",
        "X = dataset.iloc[:, ~ dataset.columns.isin(['Year', 'Champion', 'Team'])]\n",
        "y = dataset.loc[:, dataset.columns == 'Champion'].values\n",
        "y = np.array([0 if val == \"N\" else 1 for val in y])"
      ],
      "execution_count": 6,
      "outputs": []
    },
    {
      "cell_type": "markdown",
      "source": [
        "### Identifying Class Imbalance"
      ],
      "metadata": {
        "id": "-r2Ar8zj2_Ys"
      }
    },
    {
      "cell_type": "code",
      "source": [
        "neg, pos = np.bincount(y)\n",
        "total = neg + pos\n",
        "print('Examples:\\n    Total: {}\\n    Positive: {} ({:.2f}% of total)\\n'.format(\n",
        "    total, pos, 100 * pos / total))"
      ],
      "metadata": {
        "colab": {
          "base_uri": "https://localhost:8080/"
        },
        "id": "nujt14853DfG",
        "outputId": "ab6370ed-e801-482e-fb6b-1f3202d50592"
      },
      "execution_count": 7,
      "outputs": [
        {
          "output_type": "stream",
          "name": "stdout",
          "text": [
            "Examples:\n",
            "    Total: 903\n",
            "    Positive: 31 (3.43% of total)\n",
            "\n"
          ]
        }
      ]
    },
    {
      "cell_type": "markdown",
      "source": [
        "### Encode Categorical Values"
      ],
      "metadata": {
        "id": "GNdkhMHZ8KGq"
      }
    },
    {
      "cell_type": "code",
      "source": [
        "from sklearn.compose import ColumnTransformer\n",
        "from sklearn.preprocessing import OneHotEncoder\n",
        "#3 because want to one hot encode State variable\n",
        "ct = ColumnTransformer(transformers=[('encoder', OneHotEncoder(), ['won_last', 'won_last_3'])], remainder='passthrough')\n",
        "X = np.array(ct.fit_transform(X))"
      ],
      "metadata": {
        "id": "QVFiJPGu8IGK"
      },
      "execution_count": 8,
      "outputs": []
    },
    {
      "cell_type": "markdown",
      "metadata": {
        "id": "vHol938cW8zd"
      },
      "source": [
        "### Splitting the dataset into the Training set and Test set"
      ]
    },
    {
      "cell_type": "code",
      "metadata": {
        "id": "gqFnPtBAvNrC"
      },
      "source": [
        "from sklearn.model_selection import train_test_split"
      ],
      "execution_count": 9,
      "outputs": []
    },
    {
      "cell_type": "code",
      "metadata": {
        "id": "-00s7JC4uXFT"
      },
      "source": [
        "X_train, X_val, y_train, y_val = train_test_split(X, y,train_size=0.7, test_size=0.25, random_state=7)"
      ],
      "execution_count": 10,
      "outputs": []
    },
    {
      "cell_type": "markdown",
      "metadata": {
        "id": "RE_FcHyfV3TQ"
      },
      "source": [
        "### Feature Scaling"
      ]
    },
    {
      "cell_type": "code",
      "metadata": {
        "id": "ViCrE00rV8Sk"
      },
      "source": [
        "from sklearn.preprocessing import StandardScaler\n",
        "sc = StandardScaler()\n",
        "X_train = sc.fit_transform(X_train)\n",
        "X_val = sc.transform(X_val)\n",
        "#X_test = sc.transform(X_test)"
      ],
      "execution_count": 11,
      "outputs": []
    },
    {
      "cell_type": "markdown",
      "source": [
        "### Checking Dimensions of Inputs"
      ],
      "metadata": {
        "id": "wM5bSTVXNbCl"
      }
    },
    {
      "cell_type": "code",
      "source": [
        "print('Training labels shape:', y_train.shape)\n",
        "print('Validation labels shape:', y_val.shape)\n",
        "\n",
        "print('Training features shape:', X_train.shape)\n",
        "print('Validation features shape:', X_val.shape)"
      ],
      "metadata": {
        "colab": {
          "base_uri": "https://localhost:8080/"
        },
        "id": "Ew3CfSe44v7y",
        "outputId": "2790868b-f732-45fb-8be5-28f636fddb3e"
      },
      "execution_count": 12,
      "outputs": [
        {
          "output_type": "stream",
          "name": "stdout",
          "text": [
            "Training labels shape: (632,)\n",
            "Validation labels shape: (226,)\n",
            "Training features shape: (632, 24)\n",
            "Validation features shape: (226, 24)\n"
          ]
        }
      ]
    },
    {
      "cell_type": "markdown",
      "metadata": {
        "id": "-zfEzkRVXIwF"
      },
      "source": [
        "## Part 2 - Building the Baseline ANN"
      ]
    },
    {
      "cell_type": "markdown",
      "source": [
        "### Setting Model Hyperparameters"
      ],
      "metadata": {
        "id": "toAc1E9t9LFE"
      }
    },
    {
      "cell_type": "code",
      "source": [
        "METRICS = [\n",
        "      tf.keras.metrics.TruePositives(name='tp'),\n",
        "      tf.keras.metrics.FalsePositives(name='fp'),\n",
        "      tf.keras.metrics.TrueNegatives(name='tn'),\n",
        "      tf.keras.metrics.FalseNegatives(name='fn'), \n",
        "      tf.keras.metrics.BinaryAccuracy(name='accuracy'),\n",
        "      tf.keras.metrics.Precision(name='precision'),\n",
        "      tf.keras.metrics.Recall(name='recall'),\n",
        "      tf.keras.metrics.AUC(name='auc'),\n",
        "      tf.keras.metrics.AUC(name='prc', curve='PR'), # precision-recall curve\n",
        "]"
      ],
      "metadata": {
        "id": "oIPgmSnA5AiY"
      },
      "execution_count": 13,
      "outputs": []
    },
    {
      "cell_type": "code",
      "source": [
        "opt = tf.keras.optimizers.Adam()\n",
        "loss = tf.keras.losses.BinaryCrossentropy()\n",
        "input_shape = X_train.shape[-1]"
      ],
      "metadata": {
        "id": "mea1SUyz6X_e"
      },
      "execution_count": 14,
      "outputs": []
    },
    {
      "cell_type": "code",
      "source": [
        "#!pip install tensorflow_addons\n",
        "#import tensorflow_addons as tfa\n",
        "#fl = tfa.losses.SigmoidFocalCrossEntropy(alpha=0.0001, gamma=2.0)"
      ],
      "metadata": {
        "id": "-SQpQLXd6mak"
      },
      "execution_count": 15,
      "outputs": []
    },
    {
      "cell_type": "code",
      "metadata": {
        "id": "HvynHebBz3KO"
      },
      "source": [
        "tf.random.set_seed(0)"
      ],
      "execution_count": 16,
      "outputs": []
    },
    {
      "cell_type": "markdown",
      "metadata": {
        "id": "KvdeScabXtlB"
      },
      "source": [
        "### Building the Model"
      ]
    },
    {
      "cell_type": "code",
      "source": [
        "def create_model(input_shape = input_shape, metrics=METRICS, optimizer= opt, loss_function = loss, output_bias=None):\n",
        "  if output_bias is not None:\n",
        "    output_bias = tf.keras.initializers.Constant(output_bias)\n",
        "  ann = tf.keras.models.Sequential()\n",
        "  ann.add(tf.keras.layers.Dense(input_shape = (input_shape, ), units=200, activation='relu'))\n",
        "  ann.add(tf.keras.layers.BatchNormalization())\n",
        "  ann.add(tf.keras.layers.Dropout(0.4))\n",
        "  ann.add(tf.keras.layers.Dense(units=100, activation='relu'))\n",
        "  ann.add(tf.keras.layers.BatchNormalization())\n",
        "  ann.add(tf.keras.layers.Dropout(0.4))\n",
        "  ann.add(tf.keras.layers.Dense(units=1, activation='sigmoid', bias_initializer = output_bias))\n",
        "  ann.compile(optimizer = opt, loss = loss_function, metrics=metrics)\n",
        "  return ann"
      ],
      "metadata": {
        "id": "L3nGOivi5X4C"
      },
      "execution_count": 17,
      "outputs": []
    },
    {
      "cell_type": "markdown",
      "metadata": {
        "id": "JT4u2S1_Y4WG"
      },
      "source": [
        "### Further Defining Model Hyperparameters"
      ]
    },
    {
      "cell_type": "code",
      "metadata": {
        "id": "4YRyzW-X2uAl"
      },
      "source": [
        "EPOCHS = 200\n",
        "BATCH_SIZE = 16\n",
        "val_data = (X_val, y_val)\n",
        "\n",
        "earlystopping = tf.keras.callbacks.EarlyStopping(monitor =\"val_prc\", \n",
        "                                        mode =\"max\", patience = 5, \n",
        "                                        restore_best_weights = True)"
      ],
      "execution_count": 18,
      "outputs": []
    },
    {
      "cell_type": "markdown",
      "source": [
        "### Defining an Initial Bias (Based on the Log Odds of the Response Variable)"
      ],
      "metadata": {
        "id": "-8LiF2ArNmZh"
      }
    },
    {
      "cell_type": "code",
      "source": [
        "initial_bias = np.log([pos/neg])"
      ],
      "metadata": {
        "id": "z6JAlZK67zAF"
      },
      "execution_count": 19,
      "outputs": []
    },
    {
      "cell_type": "markdown",
      "source": [
        "### Summarizing the Model"
      ],
      "metadata": {
        "id": "sjFUoiyVNteU"
      }
    },
    {
      "cell_type": "code",
      "source": [
        "model = create_model(output_bias = initial_bias)\n",
        "model.summary()"
      ],
      "metadata": {
        "colab": {
          "base_uri": "https://localhost:8080/"
        },
        "id": "H6w51hwG7Kqd",
        "outputId": "41a05680-b15a-4055-8d6f-3b91be8355ba"
      },
      "execution_count": 20,
      "outputs": [
        {
          "output_type": "stream",
          "name": "stdout",
          "text": [
            "Model: \"sequential\"\n",
            "_________________________________________________________________\n",
            " Layer (type)                Output Shape              Param #   \n",
            "=================================================================\n",
            " dense (Dense)               (None, 200)               5000      \n",
            "                                                                 \n",
            " batch_normalization (BatchN  (None, 200)              800       \n",
            " ormalization)                                                   \n",
            "                                                                 \n",
            " dropout (Dropout)           (None, 200)               0         \n",
            "                                                                 \n",
            " dense_1 (Dense)             (None, 100)               20100     \n",
            "                                                                 \n",
            " batch_normalization_1 (Batc  (None, 100)              400       \n",
            " hNormalization)                                                 \n",
            "                                                                 \n",
            " dropout_1 (Dropout)         (None, 100)               0         \n",
            "                                                                 \n",
            " dense_2 (Dense)             (None, 1)                 101       \n",
            "                                                                 \n",
            "=================================================================\n",
            "Total params: 26,401\n",
            "Trainable params: 25,801\n",
            "Non-trainable params: 600\n",
            "_________________________________________________________________\n"
          ]
        }
      ]
    },
    {
      "cell_type": "markdown",
      "source": [
        "### Saving the Initial Weights"
      ],
      "metadata": {
        "id": "kmGPhPkoNvqd"
      }
    },
    {
      "cell_type": "code",
      "source": [
        "import tempfile\n",
        "import os"
      ],
      "metadata": {
        "id": "nxhLAAC38Jq7"
      },
      "execution_count": 21,
      "outputs": []
    },
    {
      "cell_type": "code",
      "source": [
        "initial_weights = os.path.join(tempfile.mkdtemp(), 'initial_weights')\n",
        "model.save_weights(initial_weights)"
      ],
      "metadata": {
        "id": "eTn36lS-8GqY"
      },
      "execution_count": 22,
      "outputs": []
    },
    {
      "cell_type": "markdown",
      "source": [
        "### Determining the Effectiveness of Log Odds Bias"
      ],
      "metadata": {
        "id": "UE42OvRONzvA"
      }
    },
    {
      "cell_type": "code",
      "source": [
        "model = create_model()\n",
        "model.load_weights(initial_weights)\n",
        "#KEY DIFFERENCE- 0 BIAS\n",
        "model.layers[-1].bias.assign([0.0])\n",
        "zero_bias_history = model.fit(\n",
        "    X_train,\n",
        "    y_train,\n",
        "    batch_size=BATCH_SIZE,\n",
        "    epochs=20,\n",
        "    validation_data=val_data, \n",
        "    verbose=0)"
      ],
      "metadata": {
        "id": "0owYoiDZ8SkQ"
      },
      "execution_count": 23,
      "outputs": []
    },
    {
      "cell_type": "code",
      "source": [
        "model = create_model()\n",
        "model.load_weights(initial_weights)\n",
        "careful_bias_history = model.fit(\n",
        "    X_train,\n",
        "    y_train,\n",
        "    batch_size=BATCH_SIZE,\n",
        "    epochs=20,\n",
        "    validation_data=val_data, \n",
        "    verbose=0)"
      ],
      "metadata": {
        "id": "t1XoNtLJ8S0L"
      },
      "execution_count": 24,
      "outputs": []
    },
    {
      "cell_type": "markdown",
      "source": [
        "#### Plotting the Losses"
      ],
      "metadata": {
        "id": "GzmYo-f-OH2b"
      }
    },
    {
      "cell_type": "code",
      "source": [
        "import matplotlib.pyplot as plt"
      ],
      "metadata": {
        "id": "rYYwBKsY8qHg"
      },
      "execution_count": 25,
      "outputs": []
    },
    {
      "cell_type": "code",
      "source": [
        "colors = plt.rcParams['axes.prop_cycle'].by_key()['color']"
      ],
      "metadata": {
        "id": "bu2EhuAt82oB"
      },
      "execution_count": 26,
      "outputs": []
    },
    {
      "cell_type": "code",
      "source": [
        "#Function from https://www.tensorflow.org/tutorials/structured_data/imbalanced_data#confirm_that_the_bias_fix_helps\n",
        "def plot_loss(history, label, n):\n",
        "  # Use a log scale on y-axis to show the wide range of values.\n",
        "  plt.semilogy(history.epoch, history.history['loss'],\n",
        "               color=colors[n], label='Train ' + label)\n",
        "  plt.semilogy(history.epoch, history.history['val_loss'],\n",
        "               color=colors[n], label='Val ' + label,\n",
        "               linestyle=\"--\")\n",
        "  plt.xlabel('Epoch')\n",
        "  plt.ylabel('Loss')"
      ],
      "metadata": {
        "id": "3AXTMWJi8i3k"
      },
      "execution_count": 27,
      "outputs": []
    },
    {
      "cell_type": "code",
      "source": [
        "plot_loss(zero_bias_history, \"Zero Bias\", 0)\n",
        "plot_loss(careful_bias_history, \"Careful Bias\", 1)"
      ],
      "metadata": {
        "colab": {
          "base_uri": "https://localhost:8080/",
          "height": 279
        },
        "id": "dt4qyAFq80Io",
        "outputId": "9f1182d2-6aa4-4f94-b6ba-75e27bdc3d9f"
      },
      "execution_count": 28,
      "outputs": [
        {
          "output_type": "display_data",
          "data": {
            "text/plain": [
              "<Figure size 432x288 with 1 Axes>"
            ],
            "image/png": "[encoded data removed]"
          },
          "metadata": {
            "needs_background": "light"
          }
        }
      ]
    },
    {
      "cell_type": "markdown",
      "source": [
        "It is clear from the visualization that the initial bias reduces the loss, such that we include it in our baseline model"
      ],
      "metadata": {
        "id": "-LwRhM6kOQPs"
      }
    },
    {
      "cell_type": "markdown",
      "source": [
        "### Running the Baseline Model"
      ],
      "metadata": {
        "id": "mboG7kJSObDH"
      }
    },
    {
      "cell_type": "code",
      "source": [
        "model = create_model()\n",
        "model.load_weights(initial_weights)\n",
        "baseline_history = model.fit(\n",
        "    X_train,\n",
        "    y_train,\n",
        "    batch_size=BATCH_SIZE,\n",
        "    epochs=EPOCHS,\n",
        "    callbacks=[earlystopping],\n",
        "    validation_data=val_data)"
      ],
      "metadata": {
        "colab": {
          "base_uri": "https://localhost:8080/"
        },
        "id": "S6Om72oO83nO",
        "outputId": "786097af-32e1-4be3-ca06-d8fcd951294b"
      },
      "execution_count": 29,
      "outputs": [
        {
          "output_type": "stream",
          "name": "stdout",
          "text": [
            "Epoch 1/200\n",
            "40/40 [==============================] - 4s 34ms/step - loss: 0.1629 - tp: 7.0000 - fp: 20.0000 - tn: 809.0000 - fn: 22.0000 - accuracy: 0.9510 - precision: 0.2593 - recall: 0.2414 - auc: 0.8171 - prc: 0.2547 - val_loss: 0.0816 - val_tp: 1.0000 - val_fp: 0.0000e+00 - val_tn: 221.0000 - val_fn: 4.0000 - val_accuracy: 0.9823 - val_precision: 1.0000 - val_recall: 0.2000 - val_auc: 0.9154 - val_prc: 0.2941\n",
            "Epoch 2/200\n",
            "40/40 [==============================] - 0s 5ms/step - loss: 0.1637 - tp: 5.0000 - fp: 13.0000 - tn: 595.0000 - fn: 19.0000 - accuracy: 0.9494 - precision: 0.2778 - recall: 0.2083 - auc: 0.7402 - prc: 0.2089 - val_loss: 0.1078 - val_tp: 1.0000 - val_fp: 7.0000 - val_tn: 214.0000 - val_fn: 4.0000 - val_accuracy: 0.9513 - val_precision: 0.1250 - val_recall: 0.2000 - val_auc: 0.8977 - val_prc: 0.2825\n",
            "Epoch 3/200\n",
            "40/40 [==============================] - 0s 6ms/step - loss: 0.1118 - tp: 4.0000 - fp: 5.0000 - tn: 603.0000 - fn: 20.0000 - accuracy: 0.9604 - precision: 0.4444 - recall: 0.1667 - auc: 0.8914 - prc: 0.3694 - val_loss: 0.0927 - val_tp: 1.0000 - val_fp: 4.0000 - val_tn: 217.0000 - val_fn: 4.0000 - val_accuracy: 0.9646 - val_precision: 0.2000 - val_recall: 0.2000 - val_auc: 0.8986 - val_prc: 0.3205\n",
            "Epoch 4/200\n",
            "40/40 [==============================] - 0s 4ms/step - loss: 0.1026 - tp: 9.0000 - fp: 8.0000 - tn: 600.0000 - fn: 15.0000 - accuracy: 0.9636 - precision: 0.5294 - recall: 0.3750 - auc: 0.9476 - prc: 0.4332 - val_loss: 0.0799 - val_tp: 1.0000 - val_fp: 0.0000e+00 - val_tn: 221.0000 - val_fn: 4.0000 - val_accuracy: 0.9823 - val_precision: 1.0000 - val_recall: 0.2000 - val_auc: 0.8973 - val_prc: 0.3089\n",
            "Epoch 5/200\n",
            "40/40 [==============================] - 0s 5ms/step - loss: 0.1041 - tp: 4.0000 - fp: 5.0000 - tn: 603.0000 - fn: 20.0000 - accuracy: 0.9604 - precision: 0.4444 - recall: 0.1667 - auc: 0.9434 - prc: 0.3509 - val_loss: 0.0876 - val_tp: 1.0000 - val_fp: 3.0000 - val_tn: 218.0000 - val_fn: 4.0000 - val_accuracy: 0.9690 - val_precision: 0.2500 - val_recall: 0.2000 - val_auc: 0.8986 - val_prc: 0.3051\n",
            "Epoch 6/200\n",
            "40/40 [==============================] - 0s 5ms/step - loss: 0.0986 - tp: 9.0000 - fp: 9.0000 - tn: 599.0000 - fn: 15.0000 - accuracy: 0.9620 - precision: 0.5000 - recall: 0.3750 - auc: 0.9492 - prc: 0.4444 - val_loss: 0.0781 - val_tp: 1.0000 - val_fp: 0.0000e+00 - val_tn: 221.0000 - val_fn: 4.0000 - val_accuracy: 0.9823 - val_precision: 1.0000 - val_recall: 0.2000 - val_auc: 0.9023 - val_prc: 0.3362\n",
            "Epoch 7/200\n",
            "40/40 [==============================] - 0s 5ms/step - loss: 0.0762 - tp: 10.0000 - fp: 6.0000 - tn: 602.0000 - fn: 14.0000 - accuracy: 0.9684 - precision: 0.6250 - recall: 0.4167 - auc: 0.9697 - prc: 0.6073 - val_loss: 0.0929 - val_tp: 1.0000 - val_fp: 4.0000 - val_tn: 217.0000 - val_fn: 4.0000 - val_accuracy: 0.9646 - val_precision: 0.2000 - val_recall: 0.2000 - val_auc: 0.8729 - val_prc: 0.3096\n",
            "Epoch 8/200\n",
            "40/40 [==============================] - 0s 4ms/step - loss: 0.0885 - tp: 7.0000 - fp: 5.0000 - tn: 603.0000 - fn: 17.0000 - accuracy: 0.9652 - precision: 0.5833 - recall: 0.2917 - auc: 0.9579 - prc: 0.5003 - val_loss: 0.1320 - val_tp: 1.0000 - val_fp: 8.0000 - val_tn: 213.0000 - val_fn: 4.0000 - val_accuracy: 0.9469 - val_precision: 0.1111 - val_recall: 0.2000 - val_auc: 0.9005 - val_prc: 0.2925\n",
            "Epoch 9/200\n",
            "40/40 [==============================] - 0s 4ms/step - loss: 0.0844 - tp: 9.0000 - fp: 7.0000 - tn: 601.0000 - fn: 15.0000 - accuracy: 0.9652 - precision: 0.5625 - recall: 0.3750 - auc: 0.9683 - prc: 0.5394 - val_loss: 0.1006 - val_tp: 1.0000 - val_fp: 5.0000 - val_tn: 216.0000 - val_fn: 4.0000 - val_accuracy: 0.9602 - val_precision: 0.1667 - val_recall: 0.2000 - val_auc: 0.9077 - val_prc: 0.2993\n",
            "Epoch 10/200\n",
            "40/40 [==============================] - 0s 4ms/step - loss: 0.0909 - tp: 9.0000 - fp: 8.0000 - tn: 600.0000 - fn: 15.0000 - accuracy: 0.9636 - precision: 0.5294 - recall: 0.3750 - auc: 0.9663 - prc: 0.4147 - val_loss: 0.0936 - val_tp: 1.0000 - val_fp: 4.0000 - val_tn: 217.0000 - val_fn: 4.0000 - val_accuracy: 0.9646 - val_precision: 0.2000 - val_recall: 0.2000 - val_auc: 0.9127 - val_prc: 0.3035\n",
            "Epoch 11/200\n",
            "40/40 [==============================] - 0s 5ms/step - loss: 0.0706 - tp: 8.0000 - fp: 2.0000 - tn: 606.0000 - fn: 16.0000 - accuracy: 0.9715 - precision: 0.8000 - recall: 0.3333 - auc: 0.9769 - prc: 0.6539 - val_loss: 0.1116 - val_tp: 1.0000 - val_fp: 7.0000 - val_tn: 214.0000 - val_fn: 4.0000 - val_accuracy: 0.9513 - val_precision: 0.1250 - val_recall: 0.2000 - val_auc: 0.9063 - val_prc: 0.2980\n"
          ]
        }
      ]
    },
    {
      "cell_type": "markdown",
      "source": [
        "### Plotting the Metrics of Baseline Model"
      ],
      "metadata": {
        "id": "qhwSBK3rOfbE"
      }
    },
    {
      "cell_type": "code",
      "source": [
        "#Function from https://www.tensorflow.org/tutorials/structured_data/imbalanced_data#confirm_that_the_bias_fix_helps\n",
        "\n",
        "def plot_metrics(history):\n",
        "  metrics = ['loss', 'prc', 'precision', 'recall']\n",
        "  for n, metric in enumerate(metrics):\n",
        "    name = metric.replace(\"_\",\" \").capitalize()\n",
        "    plt.subplot(2,2,n+1)\n",
        "    plt.plot(history.epoch, history.history[metric], color=colors[0], label='Train')\n",
        "    plt.plot(history.epoch, history.history['val_'+metric],\n",
        "             color=colors[0], linestyle=\"--\", label='Val')\n",
        "    plt.xlabel('Epoch')\n",
        "    plt.ylabel(name)\n",
        "    if metric == 'loss':\n",
        "      plt.ylim([0, plt.ylim()[1]])\n",
        "    elif metric == 'auc':\n",
        "      plt.ylim([0.8,1])\n",
        "    else:\n",
        "      plt.ylim([0,1])\n",
        "\n",
        "    plt.legend();"
      ],
      "metadata": {
        "id": "cYlo_GoD-tnK"
      },
      "execution_count": 30,
      "outputs": []
    },
    {
      "cell_type": "code",
      "source": [
        "plot_metrics(baseline_history)"
      ],
      "metadata": {
        "colab": {
          "base_uri": "https://localhost:8080/",
          "height": 283
        },
        "id": "CQ7oaeRr-vFn",
        "outputId": "06c23996-d545-4736-b780-76400be0cdfc"
      },
      "execution_count": 31,
      "outputs": [
        {
          "output_type": "display_data",
          "data": {
            "text/plain": [
              "<Figure size 432x288 with 4 Axes>"
            ],
            "image/png": "[encoded data removed]"
          },
          "metadata": {
            "needs_background": "light"
          }
        }
      ]
    },
    {
      "cell_type": "code",
      "source": [
        "train_predictions_baseline = model.predict(X_train, batch_size=BATCH_SIZE)\n",
        "test_predictions_baseline = model.predict(X_val, batch_size=BATCH_SIZE)"
      ],
      "metadata": {
        "id": "EZDhRpZt-3gM"
      },
      "execution_count": 32,
      "outputs": []
    },
    {
      "cell_type": "code",
      "source": [
        "import seaborn as sns\n",
        "from sklearn.metrics import confusion_matrix"
      ],
      "metadata": {
        "id": "ztDOwwzm-7-m"
      },
      "execution_count": 33,
      "outputs": []
    },
    {
      "cell_type": "code",
      "source": [
        "#Function from https://www.tensorflow.org/tutorials/structured_data/imbalanced_data#confirm_that_the_bias_fix_helps\n",
        "\n",
        "def plot_cm(labels, predictions, p=0.5):\n",
        "  cm = confusion_matrix(labels, predictions > p)\n",
        "  plt.figure(figsize=(5,5))\n",
        "  sns.heatmap(cm, annot=True, fmt=\"d\")\n",
        "  plt.title('Confusion matrix @{:.2f}'.format(p))\n",
        "  plt.ylabel('Actual label')\n",
        "  plt.xlabel('Predicted label')\n",
        "\n",
        "  print('Legitimate Champions Detected (True Negatives): ', cm[0][0])\n",
        "  print('Legitimate Champions Incorrectly Detected (False Positives): ', cm[0][1])\n",
        "  print('Non Champions Missed (False Negatives): ', cm[1][0])\n",
        "  print('Non Champions Detected (True Positives): ', cm[1][1])\n",
        "  print('Total Fraudulent Transactions: ', np.sum(cm[1]))"
      ],
      "metadata": {
        "id": "ausxDFN9-4Pl"
      },
      "execution_count": 34,
      "outputs": []
    },
    {
      "cell_type": "code",
      "source": [
        "baseline_results = model.evaluate(X_val, y_val,\n",
        "                                  batch_size=BATCH_SIZE, verbose=0)\n",
        "for name, value in zip(model.metrics_names, baseline_results):\n",
        "  print(name, ': ', value)\n",
        "print()\n",
        "\n",
        "plot_cm(y_val, test_predictions_baseline)"
      ],
      "metadata": {
        "colab": {
          "base_uri": "https://localhost:8080/",
          "height": 636
        },
        "id": "mCpxP5_S_A-v",
        "outputId": "20f365f3-9bb2-4994-c59e-10594081b24d"
      },
      "execution_count": 35,
      "outputs": [
        {
          "output_type": "stream",
          "name": "stdout",
          "text": [
            "loss :  0.07813606411218643\n",
            "tp :  1.0\n",
            "fp :  0.0\n",
            "tn :  221.0\n",
            "fn :  4.0\n",
            "accuracy :  0.982300877571106\n",
            "precision :  1.0\n",
            "recall :  0.20000000298023224\n",
            "auc :  0.9022624492645264\n",
            "prc :  0.3361627459526062\n",
            "\n",
            "Legitimate Champions Detected (True Negatives):  221\n",
            "Legitimate Champions Incorrectly Detected (False Positives):  0\n",
            "Non Champions Missed (False Negatives):  4\n",
            "Non Champions Detected (True Positives):  1\n",
            "Total Fraudulent Transactions:  5\n"
          ]
        },
        {
          "output_type": "display_data",
          "data": {
            "text/plain": [
              "<Figure size 360x360 with 2 Axes>"
            ],
            "image/png": "[encoded data removed]"
          },
          "metadata": {
            "needs_background": "light"
          }
        }
      ]
    },
    {
      "cell_type": "code",
      "source": [
        "import sklearn"
      ],
      "metadata": {
        "id": "Y73dBHdW_jbm"
      },
      "execution_count": 36,
      "outputs": []
    },
    {
      "cell_type": "code",
      "source": [
        "#Function from https://www.tensorflow.org/tutorials/structured_data/imbalanced_data#confirm_that_the_bias_fix_helps\n",
        "def plot_roc(name, labels, predictions, **kwargs):\n",
        "  fp, tp, _ = sklearn.metrics.roc_curve(labels, predictions)\n",
        "\n",
        "  plt.plot(100*fp, 100*tp, label=name, linewidth=2, **kwargs)\n",
        "  plt.xlabel('False positives [%]')\n",
        "  plt.ylabel('True positives [%]')\n",
        "  plt.xlim([-0.5,20])\n",
        "  plt.ylim([50,100.5])\n",
        "  plt.grid(True)\n",
        "  ax = plt.gca()\n",
        "  #ax.set_aspect('equal')"
      ],
      "metadata": {
        "id": "x19Hg8bT_fr_"
      },
      "execution_count": 37,
      "outputs": []
    },
    {
      "cell_type": "code",
      "source": [
        "plot_roc(\"Train Baseline\", y_train, train_predictions_baseline, color=colors[0])\n",
        "plot_roc(\"Test Baseline\", y_val, test_predictions_baseline, color=colors[0], linestyle='--')\n",
        "plt.legend(loc='center right');"
      ],
      "metadata": {
        "colab": {
          "base_uri": "https://localhost:8080/",
          "height": 281
        },
        "id": "f4w15Kx6_hAJ",
        "outputId": "ca60ebac-24d4-47ec-c0b4-0a00f1248b46"
      },
      "execution_count": 38,
      "outputs": [
        {
          "output_type": "display_data",
          "data": {
            "text/plain": [
              "<Figure size 432x288 with 1 Axes>"
            ],
            "image/png": "[encoded data removed]"
          },
          "metadata": {
            "needs_background": "light"
          }
        }
      ]
    },
    {
      "cell_type": "code",
      "source": [
        "def plot_prc(name, labels, predictions, **kwargs):\n",
        "    precision, recall, _ = sklearn.metrics.precision_recall_curve(labels, predictions)\n",
        "\n",
        "    plt.plot(precision, recall, label=name, linewidth=2, **kwargs)\n",
        "    plt.xlabel('Precision')\n",
        "    plt.ylabel('Recall')\n",
        "    plt.grid(True)\n",
        "    ax = plt.gca()\n",
        "    ax.set_aspect('equal')"
      ],
      "metadata": {
        "id": "CnzPmgNJ_88I"
      },
      "execution_count": 39,
      "outputs": []
    },
    {
      "cell_type": "code",
      "source": [
        "plot_prc(\"Train Baseline\", y_train, train_predictions_baseline, color=colors[0])\n",
        "plot_prc(\"Test Baseline\", y_val, test_predictions_baseline, color=colors[0], linestyle='--')\n",
        "plt.legend(loc='lower right');"
      ],
      "metadata": {
        "colab": {
          "base_uri": "https://localhost:8080/",
          "height": 279
        },
        "id": "Ice6Qcll_-Ni",
        "outputId": "4147d46c-eeec-459b-fc21-f423ff152897"
      },
      "execution_count": 40,
      "outputs": [
        {
          "output_type": "display_data",
          "data": {
            "text/plain": [
              "<Figure size 432x288 with 1 Axes>"
            ],
            "image/png": "[encoded data removed]"
          },
          "metadata": {
            "needs_background": "light"
          }
        }
      ]
    },
    {
      "cell_type": "markdown",
      "source": [
        "## Part 3- Weighted Model"
      ],
      "metadata": {
        "id": "NU9okwJmANIp"
      }
    },
    {
      "cell_type": "markdown",
      "source": [
        "### Introducing Class Weights"
      ],
      "metadata": {
        "id": "33dxgzB4PAaS"
      }
    },
    {
      "cell_type": "code",
      "source": [
        "weight_for_0 = (1 / neg) * (total / 2.0)\n",
        "weight_for_1 = (1 / pos) * (total / 2.0)\n",
        "\n",
        "class_weight = {0: weight_for_0, 1: weight_for_1}\n",
        "\n",
        "print('Weight for class 0: {:.2f}'.format(weight_for_0))\n",
        "print('Weight for class 1: {:.2f}'.format(weight_for_1))"
      ],
      "metadata": {
        "colab": {
          "base_uri": "https://localhost:8080/"
        },
        "id": "hZUHayf1ALTf",
        "outputId": "fe5c3744-11fa-462a-f419-5f4b28261afe"
      },
      "execution_count": 41,
      "outputs": [
        {
          "output_type": "stream",
          "name": "stdout",
          "text": [
            "Weight for class 0: 0.52\n",
            "Weight for class 1: 14.56\n"
          ]
        }
      ]
    },
    {
      "cell_type": "markdown",
      "source": [
        "### Running the Weighted Model"
      ],
      "metadata": {
        "id": "CZglSUBhOwIW"
      }
    },
    {
      "cell_type": "code",
      "source": [
        "weighted_model = create_model()\n",
        "weighted_model.load_weights(initial_weights)\n",
        "\n",
        "weighted_history = weighted_model.fit(\n",
        "    X_train,\n",
        "    y_train,\n",
        "    batch_size=BATCH_SIZE,\n",
        "    epochs=EPOCHS,\n",
        "    callbacks=[earlystopping],\n",
        "    validation_data=val_data,\n",
        "    # The class weights go here\n",
        "    class_weight=class_weight)"
      ],
      "metadata": {
        "colab": {
          "base_uri": "https://localhost:8080/"
        },
        "id": "Gy8fZ8IxARcX",
        "outputId": "5539f29d-7eb3-4347-a9d2-6f28a7ce078e"
      },
      "execution_count": 42,
      "outputs": [
        {
          "output_type": "stream",
          "name": "stdout",
          "text": [
            "Epoch 1/200\n",
            "40/40 [==============================] - 4s 36ms/step - loss: 0.6121 - tp: 19.0000 - fp: 71.0000 - tn: 758.0000 - fn: 10.0000 - accuracy: 0.9056 - precision: 0.2111 - recall: 0.6552 - auc: 0.8855 - prc: 0.2684 - val_loss: 0.4185 - val_tp: 3.0000 - val_fp: 40.0000 - val_tn: 181.0000 - val_fn: 2.0000 - val_accuracy: 0.8142 - val_precision: 0.0698 - val_recall: 0.6000 - val_auc: 0.8810 - val_prc: 0.1131\n",
            "Epoch 2/200\n",
            "40/40 [==============================] - 0s 7ms/step - loss: 0.6509 - tp: 18.0000 - fp: 94.0000 - tn: 514.0000 - fn: 6.0000 - accuracy: 0.8418 - precision: 0.1607 - recall: 0.7500 - auc: 0.8662 - prc: 0.1843 - val_loss: 0.4999 - val_tp: 3.0000 - val_fp: 32.0000 - val_tn: 189.0000 - val_fn: 2.0000 - val_accuracy: 0.8496 - val_precision: 0.0857 - val_recall: 0.6000 - val_auc: 0.8557 - val_prc: 0.0816\n",
            "Epoch 3/200\n",
            "40/40 [==============================] - 0s 7ms/step - loss: 0.3493 - tp: 22.0000 - fp: 96.0000 - tn: 512.0000 - fn: 2.0000 - accuracy: 0.8449 - precision: 0.1864 - recall: 0.9167 - auc: 0.9502 - prc: 0.3633 - val_loss: 0.4572 - val_tp: 4.0000 - val_fp: 32.0000 - val_tn: 189.0000 - val_fn: 1.0000 - val_accuracy: 0.8540 - val_precision: 0.1111 - val_recall: 0.8000 - val_auc: 0.8738 - val_prc: 0.1022\n",
            "Epoch 4/200\n",
            "40/40 [==============================] - 0s 7ms/step - loss: 0.2483 - tp: 23.0000 - fp: 75.0000 - tn: 533.0000 - fn: 1.0000 - accuracy: 0.8797 - precision: 0.2347 - recall: 0.9583 - auc: 0.9639 - prc: 0.4408 - val_loss: 0.3937 - val_tp: 3.0000 - val_fp: 32.0000 - val_tn: 189.0000 - val_fn: 2.0000 - val_accuracy: 0.8496 - val_precision: 0.0857 - val_recall: 0.6000 - val_auc: 0.8783 - val_prc: 0.1272\n",
            "Epoch 5/200\n",
            "40/40 [==============================] - 0s 5ms/step - loss: 0.3392 - tp: 22.0000 - fp: 86.0000 - tn: 522.0000 - fn: 2.0000 - accuracy: 0.8608 - precision: 0.2037 - recall: 0.9167 - auc: 0.9401 - prc: 0.3415 - val_loss: 0.5803 - val_tp: 4.0000 - val_fp: 49.0000 - val_tn: 172.0000 - val_fn: 1.0000 - val_accuracy: 0.7788 - val_precision: 0.0755 - val_recall: 0.8000 - val_auc: 0.8824 - val_prc: 0.1241\n",
            "Epoch 6/200\n",
            "40/40 [==============================] - 0s 5ms/step - loss: 0.2725 - tp: 24.0000 - fp: 95.0000 - tn: 513.0000 - fn: 0.0000e+00 - accuracy: 0.8497 - precision: 0.2017 - recall: 1.0000 - auc: 0.9534 - prc: 0.3955 - val_loss: 0.3799 - val_tp: 4.0000 - val_fp: 29.0000 - val_tn: 192.0000 - val_fn: 1.0000 - val_accuracy: 0.8673 - val_precision: 0.1212 - val_recall: 0.8000 - val_auc: 0.8910 - val_prc: 0.1534\n",
            "Epoch 7/200\n",
            "40/40 [==============================] - 0s 5ms/step - loss: 0.2673 - tp: 22.0000 - fp: 82.0000 - tn: 526.0000 - fn: 2.0000 - accuracy: 0.8671 - precision: 0.2115 - recall: 0.9167 - auc: 0.9591 - prc: 0.5331 - val_loss: 0.4856 - val_tp: 4.0000 - val_fp: 36.0000 - val_tn: 185.0000 - val_fn: 1.0000 - val_accuracy: 0.8363 - val_precision: 0.1000 - val_recall: 0.8000 - val_auc: 0.8946 - val_prc: 0.1299\n",
            "Epoch 8/200\n",
            "40/40 [==============================] - 0s 5ms/step - loss: 0.2896 - tp: 21.0000 - fp: 65.0000 - tn: 543.0000 - fn: 3.0000 - accuracy: 0.8924 - precision: 0.2442 - recall: 0.8750 - auc: 0.9597 - prc: 0.5216 - val_loss: 0.5659 - val_tp: 4.0000 - val_fp: 39.0000 - val_tn: 182.0000 - val_fn: 1.0000 - val_accuracy: 0.8230 - val_precision: 0.0930 - val_recall: 0.8000 - val_auc: 0.8959 - val_prc: 0.1156\n",
            "Epoch 9/200\n",
            "40/40 [==============================] - 0s 5ms/step - loss: 0.2739 - tp: 24.0000 - fp: 88.0000 - tn: 520.0000 - fn: 0.0000e+00 - accuracy: 0.8608 - precision: 0.2143 - recall: 1.0000 - auc: 0.9613 - prc: 0.4219 - val_loss: 0.5643 - val_tp: 4.0000 - val_fp: 39.0000 - val_tn: 182.0000 - val_fn: 1.0000 - val_accuracy: 0.8230 - val_precision: 0.0930 - val_recall: 0.8000 - val_auc: 0.9045 - val_prc: 0.1283\n",
            "Epoch 10/200\n",
            "40/40 [==============================] - 0s 5ms/step - loss: 0.3001 - tp: 21.0000 - fp: 74.0000 - tn: 534.0000 - fn: 3.0000 - accuracy: 0.8782 - precision: 0.2211 - recall: 0.8750 - auc: 0.9536 - prc: 0.4008 - val_loss: 0.5770 - val_tp: 4.0000 - val_fp: 41.0000 - val_tn: 180.0000 - val_fn: 1.0000 - val_accuracy: 0.8142 - val_precision: 0.0889 - val_recall: 0.8000 - val_auc: 0.9005 - val_prc: 0.1414\n",
            "Epoch 11/200\n",
            "40/40 [==============================] - 0s 5ms/step - loss: 0.2524 - tp: 23.0000 - fp: 77.0000 - tn: 531.0000 - fn: 1.0000 - accuracy: 0.8766 - precision: 0.2300 - recall: 0.9583 - auc: 0.9617 - prc: 0.5154 - val_loss: 0.4777 - val_tp: 4.0000 - val_fp: 36.0000 - val_tn: 185.0000 - val_fn: 1.0000 - val_accuracy: 0.8363 - val_precision: 0.1000 - val_recall: 0.8000 - val_auc: 0.9005 - val_prc: 0.1735\n",
            "Epoch 12/200\n",
            "40/40 [==============================] - 0s 4ms/step - loss: 0.2592 - tp: 22.0000 - fp: 64.0000 - tn: 544.0000 - fn: 2.0000 - accuracy: 0.8956 - precision: 0.2558 - recall: 0.9167 - auc: 0.9593 - prc: 0.5171 - val_loss: 0.4220 - val_tp: 4.0000 - val_fp: 31.0000 - val_tn: 190.0000 - val_fn: 1.0000 - val_accuracy: 0.8584 - val_precision: 0.1143 - val_recall: 0.8000 - val_auc: 0.8923 - val_prc: 0.1507\n",
            "Epoch 13/200\n",
            "40/40 [==============================] - 0s 5ms/step - loss: 0.2883 - tp: 22.0000 - fp: 75.0000 - tn: 533.0000 - fn: 2.0000 - accuracy: 0.8782 - precision: 0.2268 - recall: 0.9167 - auc: 0.9565 - prc: 0.4034 - val_loss: 0.5296 - val_tp: 4.0000 - val_fp: 39.0000 - val_tn: 182.0000 - val_fn: 1.0000 - val_accuracy: 0.8230 - val_precision: 0.0930 - val_recall: 0.8000 - val_auc: 0.8905 - val_prc: 0.1271\n",
            "Epoch 14/200\n",
            "40/40 [==============================] - 0s 5ms/step - loss: 0.1964 - tp: 23.0000 - fp: 72.0000 - tn: 536.0000 - fn: 1.0000 - accuracy: 0.8845 - precision: 0.2421 - recall: 0.9583 - auc: 0.9764 - prc: 0.5918 - val_loss: 0.4403 - val_tp: 4.0000 - val_fp: 37.0000 - val_tn: 184.0000 - val_fn: 1.0000 - val_accuracy: 0.8319 - val_precision: 0.0976 - val_recall: 0.8000 - val_auc: 0.9081 - val_prc: 0.2003\n",
            "Epoch 15/200\n",
            "40/40 [==============================] - 0s 5ms/step - loss: 0.2046 - tp: 24.0000 - fp: 58.0000 - tn: 550.0000 - fn: 0.0000e+00 - accuracy: 0.9082 - precision: 0.2927 - recall: 1.0000 - auc: 0.9703 - prc: 0.4206 - val_loss: 0.4239 - val_tp: 4.0000 - val_fp: 30.0000 - val_tn: 191.0000 - val_fn: 1.0000 - val_accuracy: 0.8628 - val_precision: 0.1176 - val_recall: 0.8000 - val_auc: 0.8946 - val_prc: 0.1478\n",
            "Epoch 16/200\n",
            "40/40 [==============================] - 0s 4ms/step - loss: 0.2280 - tp: 22.0000 - fp: 61.0000 - tn: 547.0000 - fn: 2.0000 - accuracy: 0.9003 - precision: 0.2651 - recall: 0.9167 - auc: 0.9676 - prc: 0.4607 - val_loss: 0.4860 - val_tp: 4.0000 - val_fp: 36.0000 - val_tn: 185.0000 - val_fn: 1.0000 - val_accuracy: 0.8363 - val_precision: 0.1000 - val_recall: 0.8000 - val_auc: 0.9059 - val_prc: 0.1583\n",
            "Epoch 17/200\n",
            "40/40 [==============================] - 0s 4ms/step - loss: 0.2757 - tp: 19.0000 - fp: 52.0000 - tn: 556.0000 - fn: 5.0000 - accuracy: 0.9098 - precision: 0.2676 - recall: 0.7917 - auc: 0.9624 - prc: 0.5003 - val_loss: 0.4798 - val_tp: 4.0000 - val_fp: 34.0000 - val_tn: 187.0000 - val_fn: 1.0000 - val_accuracy: 0.8451 - val_precision: 0.1053 - val_recall: 0.8000 - val_auc: 0.9059 - val_prc: 0.1553\n",
            "Epoch 18/200\n",
            "40/40 [==============================] - 0s 5ms/step - loss: 0.2309 - tp: 23.0000 - fp: 71.0000 - tn: 537.0000 - fn: 1.0000 - accuracy: 0.8861 - precision: 0.2447 - recall: 0.9583 - auc: 0.9656 - prc: 0.4439 - val_loss: 0.5691 - val_tp: 4.0000 - val_fp: 38.0000 - val_tn: 183.0000 - val_fn: 1.0000 - val_accuracy: 0.8274 - val_precision: 0.0952 - val_recall: 0.8000 - val_auc: 0.8991 - val_prc: 0.1528\n",
            "Epoch 19/200\n",
            "40/40 [==============================] - 0s 5ms/step - loss: 0.2491 - tp: 23.0000 - fp: 76.0000 - tn: 532.0000 - fn: 1.0000 - accuracy: 0.8782 - precision: 0.2323 - recall: 0.9583 - auc: 0.9640 - prc: 0.4432 - val_loss: 0.5378 - val_tp: 4.0000 - val_fp: 38.0000 - val_tn: 183.0000 - val_fn: 1.0000 - val_accuracy: 0.8274 - val_precision: 0.0952 - val_recall: 0.8000 - val_auc: 0.9050 - val_prc: 0.2108\n",
            "Epoch 20/200\n",
            "40/40 [==============================] - 0s 7ms/step - loss: 0.1727 - tp: 24.0000 - fp: 57.0000 - tn: 551.0000 - fn: 0.0000e+00 - accuracy: 0.9098 - precision: 0.2963 - recall: 1.0000 - auc: 0.9779 - prc: 0.5578 - val_loss: 0.4053 - val_tp: 4.0000 - val_fp: 31.0000 - val_tn: 190.0000 - val_fn: 1.0000 - val_accuracy: 0.8584 - val_precision: 0.1143 - val_recall: 0.8000 - val_auc: 0.9068 - val_prc: 0.2060\n",
            "Epoch 21/200\n",
            "40/40 [==============================] - 0s 7ms/step - loss: 0.2212 - tp: 23.0000 - fp: 61.0000 - tn: 547.0000 - fn: 1.0000 - accuracy: 0.9019 - precision: 0.2738 - recall: 0.9583 - auc: 0.9690 - prc: 0.4746 - val_loss: 0.4489 - val_tp: 4.0000 - val_fp: 34.0000 - val_tn: 187.0000 - val_fn: 1.0000 - val_accuracy: 0.8451 - val_precision: 0.1053 - val_recall: 0.8000 - val_auc: 0.9172 - val_prc: 0.2079\n",
            "Epoch 22/200\n",
            "40/40 [==============================] - 0s 6ms/step - loss: 0.1983 - tp: 22.0000 - fp: 53.0000 - tn: 555.0000 - fn: 2.0000 - accuracy: 0.9130 - precision: 0.2933 - recall: 0.9167 - auc: 0.9766 - prc: 0.6017 - val_loss: 0.4346 - val_tp: 4.0000 - val_fp: 35.0000 - val_tn: 186.0000 - val_fn: 1.0000 - val_accuracy: 0.8407 - val_precision: 0.1026 - val_recall: 0.8000 - val_auc: 0.9158 - val_prc: 0.2273\n",
            "Epoch 23/200\n",
            "40/40 [==============================] - 0s 6ms/step - loss: 0.2146 - tp: 23.0000 - fp: 56.0000 - tn: 552.0000 - fn: 1.0000 - accuracy: 0.9098 - precision: 0.2911 - recall: 0.9583 - auc: 0.9696 - prc: 0.4396 - val_loss: 0.4848 - val_tp: 4.0000 - val_fp: 36.0000 - val_tn: 185.0000 - val_fn: 1.0000 - val_accuracy: 0.8363 - val_precision: 0.1000 - val_recall: 0.8000 - val_auc: 0.9199 - val_prc: 0.2827\n",
            "Epoch 24/200\n",
            "40/40 [==============================] - 0s 7ms/step - loss: 0.1722 - tp: 24.0000 - fp: 61.0000 - tn: 547.0000 - fn: 0.0000e+00 - accuracy: 0.9035 - precision: 0.2824 - recall: 1.0000 - auc: 0.9796 - prc: 0.5625 - val_loss: 0.4080 - val_tp: 4.0000 - val_fp: 34.0000 - val_tn: 187.0000 - val_fn: 1.0000 - val_accuracy: 0.8451 - val_precision: 0.1053 - val_recall: 0.8000 - val_auc: 0.9163 - val_prc: 0.2719\n",
            "Epoch 25/200\n",
            "40/40 [==============================] - 0s 7ms/step - loss: 0.1387 - tp: 24.0000 - fp: 50.0000 - tn: 558.0000 - fn: 0.0000e+00 - accuracy: 0.9209 - precision: 0.3243 - recall: 1.0000 - auc: 0.9863 - prc: 0.6531 - val_loss: 0.3326 - val_tp: 4.0000 - val_fp: 27.0000 - val_tn: 194.0000 - val_fn: 1.0000 - val_accuracy: 0.8761 - val_precision: 0.1290 - val_recall: 0.8000 - val_auc: 0.8986 - val_prc: 0.2033\n",
            "Epoch 26/200\n",
            "40/40 [==============================] - 0s 7ms/step - loss: 0.1794 - tp: 22.0000 - fp: 42.0000 - tn: 566.0000 - fn: 2.0000 - accuracy: 0.9304 - precision: 0.3438 - recall: 0.9167 - auc: 0.9776 - prc: 0.5366 - val_loss: 0.4757 - val_tp: 4.0000 - val_fp: 34.0000 - val_tn: 187.0000 - val_fn: 1.0000 - val_accuracy: 0.8451 - val_precision: 0.1053 - val_recall: 0.8000 - val_auc: 0.9077 - val_prc: 0.1948\n",
            "Epoch 27/200\n",
            "40/40 [==============================] - 0s 7ms/step - loss: 0.2153 - tp: 23.0000 - fp: 55.0000 - tn: 553.0000 - fn: 1.0000 - accuracy: 0.9114 - precision: 0.2949 - recall: 0.9583 - auc: 0.9676 - prc: 0.4941 - val_loss: 0.5082 - val_tp: 4.0000 - val_fp: 28.0000 - val_tn: 193.0000 - val_fn: 1.0000 - val_accuracy: 0.8717 - val_precision: 0.1250 - val_recall: 0.8000 - val_auc: 0.8873 - val_prc: 0.1315\n",
            "Epoch 28/200\n",
            "40/40 [==============================] - 0s 7ms/step - loss: 0.1515 - tp: 24.0000 - fp: 55.0000 - tn: 553.0000 - fn: 0.0000e+00 - accuracy: 0.9130 - precision: 0.3038 - recall: 1.0000 - auc: 0.9838 - prc: 0.5890 - val_loss: 0.3974 - val_tp: 4.0000 - val_fp: 26.0000 - val_tn: 195.0000 - val_fn: 1.0000 - val_accuracy: 0.8805 - val_precision: 0.1333 - val_recall: 0.8000 - val_auc: 0.8923 - val_prc: 0.1810\n"
          ]
        }
      ]
    },
    {
      "cell_type": "markdown",
      "source": [
        "### Plotting the Metrics of Weighted Model"
      ],
      "metadata": {
        "id": "jaSkDnbeO5h-"
      }
    },
    {
      "cell_type": "code",
      "source": [
        "plot_metrics(weighted_history)"
      ],
      "metadata": {
        "colab": {
          "base_uri": "https://localhost:8080/",
          "height": 283
        },
        "id": "k6awC7LbAetK",
        "outputId": "30727041-cd4f-46f4-fabb-e61fdb5ddd97"
      },
      "execution_count": 43,
      "outputs": [
        {
          "output_type": "display_data",
          "data": {
            "text/plain": [
              "<Figure size 432x288 with 4 Axes>"
            ],
            "image/png": "[encoded data removed]"
          },
          "metadata": {
            "needs_background": "light"
          }
        }
      ]
    },
    {
      "cell_type": "code",
      "source": [
        "train_predictions_weighted = weighted_model.predict(X_train, batch_size=BATCH_SIZE)\n",
        "test_predictions_weighted = weighted_model.predict(X_val, batch_size=BATCH_SIZE)"
      ],
      "metadata": {
        "id": "U_oV5gxvAi-Z"
      },
      "execution_count": 44,
      "outputs": []
    },
    {
      "cell_type": "code",
      "source": [
        "weighted_results = weighted_model.evaluate(X_val, y_val,\n",
        "                                           batch_size=BATCH_SIZE, verbose=0)\n",
        "for name, value in zip(weighted_model.metrics_names, weighted_results):\n",
        "  print(name, ': ', value)\n",
        "print()\n",
        "\n",
        "plot_cm(y_val, test_predictions_weighted)"
      ],
      "metadata": {
        "colab": {
          "base_uri": "https://localhost:8080/",
          "height": 636
        },
        "id": "Ne3zRAqMAlTZ",
        "outputId": "b1b8d546-0a3d-45f5-d761-c2d9e03354f1"
      },
      "execution_count": 45,
      "outputs": [
        {
          "output_type": "stream",
          "name": "stdout",
          "text": [
            "loss :  0.4847976565361023\n",
            "tp :  4.0\n",
            "fp :  36.0\n",
            "tn :  185.0\n",
            "fn :  1.0\n",
            "accuracy :  0.8362832069396973\n",
            "precision :  0.10000000149011612\n",
            "recall :  0.800000011920929\n",
            "auc :  0.9199095368385315\n",
            "prc :  0.2826690673828125\n",
            "\n",
            "Legitimate Champions Detected (True Negatives):  185\n",
            "Legitimate Champions Incorrectly Detected (False Positives):  36\n",
            "Non Champions Missed (False Negatives):  1\n",
            "Non Champions Detected (True Positives):  4\n",
            "Total Fraudulent Transactions:  5\n"
          ]
        },
        {
          "output_type": "display_data",
          "data": {
            "text/plain": [
              "<Figure size 360x360 with 2 Axes>"
            ],
            "image/png": "[encoded data removed]"
          },
          "metadata": {
            "needs_background": "light"
          }
        }
      ]
    },
    {
      "cell_type": "code",
      "source": [
        "plot_roc(\"Train Baseline\", y_train, train_predictions_baseline, color=colors[0])\n",
        "plot_roc(\"Test Baseline\", y_val, test_predictions_baseline, color=colors[0], linestyle='--')\n",
        "\n",
        "plot_roc(\"Train Weighted\", y_train, train_predictions_weighted, color=colors[1])\n",
        "plot_roc(\"Test Weighted\", y_val, test_predictions_weighted, color=colors[1], linestyle='--')\n",
        "\n",
        "\n",
        "plt.legend(loc='lower right');"
      ],
      "metadata": {
        "colab": {
          "base_uri": "https://localhost:8080/",
          "height": 281
        },
        "id": "_83Dh1N1BCZV",
        "outputId": "b40490bf-393e-4886-f0d4-b1b236c995fc"
      },
      "execution_count": 46,
      "outputs": [
        {
          "output_type": "display_data",
          "data": {
            "text/plain": [
              "<Figure size 432x288 with 1 Axes>"
            ],
            "image/png": "[encoded data removed]"
          },
          "metadata": {
            "needs_background": "light"
          }
        }
      ]
    },
    {
      "cell_type": "code",
      "source": [
        "plot_prc(\"Train Baseline\", y_train, train_predictions_baseline, color=colors[0])\n",
        "plot_prc(\"Test Baseline\", y_val, test_predictions_baseline, color=colors[0], linestyle='--')\n",
        "\n",
        "plot_prc(\"Train Weighted\", y_train, train_predictions_weighted, color=colors[1])\n",
        "plot_prc(\"Test Weighted\", y_val, test_predictions_weighted, color=colors[1], linestyle='--')\n",
        "\n",
        "\n",
        "plt.legend(loc='lower right');"
      ],
      "metadata": {
        "colab": {
          "base_uri": "https://localhost:8080/",
          "height": 279
        },
        "id": "bzaxZ8t5BMi6",
        "outputId": "24f7e9ec-c1c8-4623-d98a-f2750cbbd8c1"
      },
      "execution_count": 47,
      "outputs": [
        {
          "output_type": "display_data",
          "data": {
            "text/plain": [
              "<Figure size 432x288 with 1 Axes>"
            ],
            "image/png": "[encoded data removed]"
          },
          "metadata": {
            "needs_background": "light"
          }
        }
      ]
    },
    {
      "cell_type": "markdown",
      "source": [
        "## Part 4- Oversampled Model"
      ],
      "metadata": {
        "id": "DydA2NNuPUMm"
      }
    },
    {
      "cell_type": "markdown",
      "source": [
        "### Determining positive and negative labels"
      ],
      "metadata": {
        "id": "nc74MN73PYDx"
      }
    },
    {
      "cell_type": "code",
      "source": [
        "bool_train_labels = y_train != 0"
      ],
      "metadata": {
        "id": "h2DXkr5TBZQn"
      },
      "execution_count": 48,
      "outputs": []
    },
    {
      "cell_type": "code",
      "source": [
        "pos_X_train = X_train[bool_train_labels]\n",
        "neg_X_train = X_train[~bool_train_labels]\n",
        "\n",
        "pos_y_train = y_train[bool_train_labels]\n",
        "neg_y_train = y_train[~bool_train_labels]"
      ],
      "metadata": {
        "id": "g0qCpwCGBSu5"
      },
      "execution_count": 49,
      "outputs": []
    },
    {
      "cell_type": "markdown",
      "source": [
        "### Resampling positive samples to even out representation"
      ],
      "metadata": {
        "id": "AEG9YbZTPc6h"
      }
    },
    {
      "cell_type": "code",
      "source": [
        "ids = np.arange(len(pos_X_train))\n",
        "choices = np.random.choice(ids, len(neg_X_train))\n",
        "\n",
        "res_pos_X_train = pos_X_train[choices]\n",
        "res_pos_y_train = pos_y_train[choices]\n",
        "\n",
        "res_pos_X_train.shape"
      ],
      "metadata": {
        "colab": {
          "base_uri": "https://localhost:8080/"
        },
        "id": "NFj96fe7BuXl",
        "outputId": "5e6d1b48-4968-4504-ddfb-e7f67e0e1e25"
      },
      "execution_count": 50,
      "outputs": [
        {
          "output_type": "execute_result",
          "data": {
            "text/plain": [
              "(608, 24)"
            ]
          },
          "metadata": {},
          "execution_count": 50
        }
      ]
    },
    {
      "cell_type": "markdown",
      "source": [
        "### Defining dataset with resampled data and shuffling it"
      ],
      "metadata": {
        "id": "YvCGnAkRPixh"
      }
    },
    {
      "cell_type": "code",
      "source": [
        "resampled_features = np.concatenate([res_pos_X_train, neg_X_train], axis=0)\n",
        "resampled_labels = np.concatenate([res_pos_y_train, neg_y_train], axis=0)\n",
        "\n",
        "order = np.arange(len(resampled_labels))\n",
        "np.random.shuffle(order)\n",
        "resampled_features = resampled_features[order]\n",
        "resampled_labels = resampled_labels[order]\n",
        "\n",
        "resampled_features.shape"
      ],
      "metadata": {
        "colab": {
          "base_uri": "https://localhost:8080/"
        },
        "id": "ShAWa5pNCAvM",
        "outputId": "2cd621fb-6e81-4454-80b1-8dfa355374d6"
      },
      "execution_count": 51,
      "outputs": [
        {
          "output_type": "execute_result",
          "data": {
            "text/plain": [
              "(1216, 24)"
            ]
          },
          "metadata": {},
          "execution_count": 51
        }
      ]
    },
    {
      "cell_type": "markdown",
      "source": [
        "### Building the Resampled Model"
      ],
      "metadata": {
        "id": "AAaL_iy8Pnsk"
      }
    },
    {
      "cell_type": "code",
      "source": [
        "resampled_model = create_model()\n",
        "resampled_model.load_weights(initial_weights)"
      ],
      "metadata": {
        "colab": {
          "base_uri": "https://localhost:8080/"
        },
        "id": "kN5StVpKCuSN",
        "outputId": "b753e193-a4e4-4d37-bc58-88ab1a7c4bfc"
      },
      "execution_count": 52,
      "outputs": [
        {
          "output_type": "execute_result",
          "data": {
            "text/plain": [
              "<tensorflow.python.training.tracking.util.CheckpointLoadStatus at 0x7f7d7e7c2ad0>"
            ]
          },
          "metadata": {},
          "execution_count": 52
        }
      ]
    },
    {
      "cell_type": "code",
      "source": [
        "# Reset the bias to zero, since this dataset is balanced.\n",
        "output_layer = resampled_model.layers[-1] \n",
        "output_layer.bias.assign([0])"
      ],
      "metadata": {
        "colab": {
          "base_uri": "https://localhost:8080/"
        },
        "id": "9AsPKSS6CxBz",
        "outputId": "d3bdc7a8-336e-4cf9-b6c9-cd2c5477f372"
      },
      "execution_count": 53,
      "outputs": [
        {
          "output_type": "execute_result",
          "data": {
            "text/plain": [
              "<tf.Variable 'UnreadVariable' shape=(1,) dtype=float32, numpy=array([0.], dtype=float32)>"
            ]
          },
          "metadata": {},
          "execution_count": 53
        }
      ]
    },
    {
      "cell_type": "code",
      "source": [
        "val_ds = tf.data.Dataset.from_tensor_slices(val_data).cache()\n",
        "val_ds = val_ds.batch(BATCH_SIZE).prefetch(2) "
      ],
      "metadata": {
        "id": "iZtvyezpC1-7"
      },
      "execution_count": 54,
      "outputs": []
    },
    {
      "cell_type": "markdown",
      "source": [
        "### Redefining epoch (number of batches to see each negative sample)"
      ],
      "metadata": {
        "id": "uz5PJGEQPygu"
      }
    },
    {
      "cell_type": "code",
      "source": [
        "resampled_steps_per_epoch = np.ceil(2.0*neg/BATCH_SIZE)"
      ],
      "metadata": {
        "id": "e4EEFbnUDJ1m"
      },
      "execution_count": 55,
      "outputs": []
    },
    {
      "cell_type": "markdown",
      "source": [
        "### Running the Resampled Model"
      ],
      "metadata": {
        "id": "zgvyKfeiP4sO"
      }
    },
    {
      "cell_type": "code",
      "source": [
        "resampled_history = resampled_model.fit(\n",
        "    resampled_features,\n",
        "    resampled_labels,\n",
        "    epochs=EPOCHS,\n",
        "    steps_per_epoch=resampled_steps_per_epoch,\n",
        "    callbacks=[earlystopping],\n",
        "    validation_data=val_ds)"
      ],
      "metadata": {
        "colab": {
          "base_uri": "https://localhost:8080/"
        },
        "id": "U0291djiC7Qq",
        "outputId": "7d381842-37dd-47bb-a9d8-0a796caec09f"
      },
      "execution_count": 56,
      "outputs": [
        {
          "output_type": "stream",
          "name": "stdout",
          "text": [
            "Epoch 1/200\n",
            "109/109 [==============================] - 4s 14ms/step - loss: 0.2750 - tp: 600.0000 - fp: 118.0000 - tn: 751.0000 - fn: 57.0000 - accuracy: 0.8853 - precision: 0.8357 - recall: 0.9132 - auc: 0.9487 - prc: 0.9165 - val_loss: 0.6147 - val_tp: 4.0000 - val_fp: 48.0000 - val_tn: 173.0000 - val_fn: 1.0000 - val_accuracy: 0.7832 - val_precision: 0.0769 - val_recall: 0.8000 - val_auc: 0.8977 - val_prc: 0.1480\n",
            "Epoch 2/200\n",
            "109/109 [==============================] - 0s 4ms/step - loss: 0.2097 - tp: 606.0000 - fp: 58.0000 - tn: 603.0000 - fn: 33.0000 - accuracy: 0.9300 - precision: 0.9127 - recall: 0.9484 - auc: 0.9689 - prc: 0.9466 - val_loss: 0.3437 - val_tp: 4.0000 - val_fp: 29.0000 - val_tn: 192.0000 - val_fn: 1.0000 - val_accuracy: 0.8673 - val_precision: 0.1212 - val_recall: 0.8000 - val_auc: 0.8928 - val_prc: 0.2081\n",
            "Epoch 3/200\n",
            "109/109 [==============================] - 0s 4ms/step - loss: 0.1938 - tp: 635.0000 - fp: 45.0000 - tn: 592.0000 - fn: 28.0000 - accuracy: 0.9438 - precision: 0.9338 - recall: 0.9578 - auc: 0.9681 - prc: 0.9475 - val_loss: 0.3210 - val_tp: 4.0000 - val_fp: 31.0000 - val_tn: 190.0000 - val_fn: 1.0000 - val_accuracy: 0.8584 - val_precision: 0.1143 - val_recall: 0.8000 - val_auc: 0.9317 - val_prc: 0.3078\n",
            "Epoch 4/200\n",
            "109/109 [==============================] - 0s 4ms/step - loss: 0.1651 - tp: 612.0000 - fp: 44.0000 - tn: 619.0000 - fn: 25.0000 - accuracy: 0.9469 - precision: 0.9329 - recall: 0.9608 - auc: 0.9794 - prc: 0.9707 - val_loss: 0.3258 - val_tp: 4.0000 - val_fp: 24.0000 - val_tn: 197.0000 - val_fn: 1.0000 - val_accuracy: 0.8894 - val_precision: 0.1429 - val_recall: 0.8000 - val_auc: 0.8937 - val_prc: 0.3768\n",
            "Epoch 5/200\n",
            "109/109 [==============================] - 0s 4ms/step - loss: 0.1650 - tp: 642.0000 - fp: 48.0000 - tn: 586.0000 - fn: 24.0000 - accuracy: 0.9446 - precision: 0.9304 - recall: 0.9640 - auc: 0.9776 - prc: 0.9634 - val_loss: 0.2879 - val_tp: 4.0000 - val_fp: 24.0000 - val_tn: 197.0000 - val_fn: 1.0000 - val_accuracy: 0.8894 - val_precision: 0.1429 - val_recall: 0.8000 - val_auc: 0.9204 - val_prc: 0.4960\n",
            "Epoch 6/200\n",
            "109/109 [==============================] - 0s 3ms/step - loss: 0.1598 - tp: 621.0000 - fp: 42.0000 - tn: 612.0000 - fn: 25.0000 - accuracy: 0.9485 - precision: 0.9367 - recall: 0.9613 - auc: 0.9801 - prc: 0.9670 - val_loss: 0.3009 - val_tp: 4.0000 - val_fp: 25.0000 - val_tn: 196.0000 - val_fn: 1.0000 - val_accuracy: 0.8850 - val_precision: 0.1379 - val_recall: 0.8000 - val_auc: 0.9095 - val_prc: 0.4285\n",
            "Epoch 7/200\n",
            "109/109 [==============================] - 0s 4ms/step - loss: 0.1422 - tp: 628.0000 - fp: 41.0000 - tn: 615.0000 - fn: 16.0000 - accuracy: 0.9562 - precision: 0.9387 - recall: 0.9752 - auc: 0.9836 - prc: 0.9742 - val_loss: 0.2829 - val_tp: 3.0000 - val_fp: 22.0000 - val_tn: 199.0000 - val_fn: 2.0000 - val_accuracy: 0.8938 - val_precision: 0.1200 - val_recall: 0.6000 - val_auc: 0.9072 - val_prc: 0.3886\n",
            "Epoch 8/200\n",
            "109/109 [==============================] - 0s 4ms/step - loss: 0.1357 - tp: 635.0000 - fp: 33.0000 - tn: 610.0000 - fn: 22.0000 - accuracy: 0.9577 - precision: 0.9506 - recall: 0.9665 - auc: 0.9851 - prc: 0.9780 - val_loss: 0.2880 - val_tp: 4.0000 - val_fp: 23.0000 - val_tn: 198.0000 - val_fn: 1.0000 - val_accuracy: 0.8938 - val_precision: 0.1481 - val_recall: 0.8000 - val_auc: 0.9081 - val_prc: 0.3539\n",
            "Epoch 9/200\n",
            "109/109 [==============================] - 0s 4ms/step - loss: 0.1308 - tp: 635.0000 - fp: 32.0000 - tn: 613.0000 - fn: 20.0000 - accuracy: 0.9600 - precision: 0.9520 - recall: 0.9695 - auc: 0.9851 - prc: 0.9749 - val_loss: 0.2736 - val_tp: 3.0000 - val_fp: 22.0000 - val_tn: 199.0000 - val_fn: 2.0000 - val_accuracy: 0.8938 - val_precision: 0.1200 - val_recall: 0.6000 - val_auc: 0.9005 - val_prc: 0.3363\n",
            "Epoch 10/200\n",
            "109/109 [==============================] - 0s 4ms/step - loss: 0.1239 - tp: 607.0000 - fp: 28.0000 - tn: 646.0000 - fn: 19.0000 - accuracy: 0.9638 - precision: 0.9559 - recall: 0.9696 - auc: 0.9870 - prc: 0.9821 - val_loss: 0.3052 - val_tp: 3.0000 - val_fp: 21.0000 - val_tn: 200.0000 - val_fn: 2.0000 - val_accuracy: 0.8982 - val_precision: 0.1250 - val_recall: 0.6000 - val_auc: 0.8819 - val_prc: 0.4200\n"
          ]
        }
      ]
    },
    {
      "cell_type": "markdown",
      "source": [
        "### Plotting Metrics of Resampled Model"
      ],
      "metadata": {
        "id": "EEej0eGYP_5M"
      }
    },
    {
      "cell_type": "code",
      "source": [
        "plot_metrics(resampled_history)"
      ],
      "metadata": {
        "colab": {
          "base_uri": "https://localhost:8080/",
          "height": 283
        },
        "id": "4My-OE4IDhzd",
        "outputId": "5f876b95-663c-4eec-d9a8-2c89ec13b98a"
      },
      "execution_count": 57,
      "outputs": [
        {
          "output_type": "display_data",
          "data": {
            "text/plain": [
              "<Figure size 432x288 with 4 Axes>"
            ],
            "image/png": "[encoded data removed]"
          },
          "metadata": {
            "needs_background": "light"
          }
        }
      ]
    },
    {
      "cell_type": "markdown",
      "source": [
        "### Decreasing steps_per_epoch to reduce overfitting (let early stopping prevent it)"
      ],
      "metadata": {
        "id": "DzIf355JQC8m"
      }
    },
    {
      "cell_type": "code",
      "source": [
        "resampled_history = resampled_model.fit(\n",
        "    resampled_features,\n",
        "    resampled_labels,    \n",
        "    steps_per_epoch=20,# These are not real epochs\n",
        "    epochs=10*EPOCHS,\n",
        "    callbacks=[earlystopping],\n",
        "    validation_data=(val_ds))"
      ],
      "metadata": {
        "colab": {
          "base_uri": "https://localhost:8080/"
        },
        "id": "ULTa3SisDo4-",
        "outputId": "a4ff0aaa-a28a-48af-9c5c-79955b9698bb"
      },
      "execution_count": 58,
      "outputs": [
        {
          "output_type": "stream",
          "name": "stdout",
          "text": [
            "Epoch 1/2000\n",
            "20/20 [==============================] - 0s 9ms/step - loss: 0.0979 - tp: 607.0000 - fp: 26.0000 - tn: 582.0000 - fn: 1.0000 - accuracy: 0.9778 - precision: 0.9589 - recall: 0.9984 - auc: 0.9916 - prc: 0.9868 - val_loss: 0.2934 - val_tp: 4.0000 - val_fp: 23.0000 - val_tn: 198.0000 - val_fn: 1.0000 - val_accuracy: 0.8938 - val_precision: 0.1481 - val_recall: 0.8000 - val_auc: 0.9204 - val_prc: 0.4105\n",
            "Epoch 2/2000\n",
            "20/20 [==============================] - 0s 10ms/step - loss: 0.0851 - tp: 608.0000 - fp: 27.0000 - tn: 581.0000 - fn: 0.0000e+00 - accuracy: 0.9778 - precision: 0.9575 - recall: 1.0000 - auc: 0.9928 - prc: 0.9899 - val_loss: 0.2928 - val_tp: 4.0000 - val_fp: 23.0000 - val_tn: 198.0000 - val_fn: 1.0000 - val_accuracy: 0.8938 - val_precision: 0.1481 - val_recall: 0.8000 - val_auc: 0.9027 - val_prc: 0.3721\n",
            "Epoch 3/2000\n",
            "20/20 [==============================] - 0s 8ms/step - loss: 0.0931 - tp: 606.0000 - fp: 24.0000 - tn: 584.0000 - fn: 2.0000 - accuracy: 0.9786 - precision: 0.9619 - recall: 0.9967 - auc: 0.9899 - prc: 0.9859 - val_loss: 0.2921 - val_tp: 4.0000 - val_fp: 23.0000 - val_tn: 198.0000 - val_fn: 1.0000 - val_accuracy: 0.8938 - val_precision: 0.1481 - val_recall: 0.8000 - val_auc: 0.9023 - val_prc: 0.3734\n",
            "Epoch 4/2000\n",
            "20/20 [==============================] - 0s 9ms/step - loss: 0.0709 - tp: 607.0000 - fp: 18.0000 - tn: 590.0000 - fn: 1.0000 - accuracy: 0.9844 - precision: 0.9712 - recall: 0.9984 - auc: 0.9947 - prc: 0.9892 - val_loss: 0.2909 - val_tp: 4.0000 - val_fp: 23.0000 - val_tn: 198.0000 - val_fn: 1.0000 - val_accuracy: 0.8938 - val_precision: 0.1481 - val_recall: 0.8000 - val_auc: 0.9045 - val_prc: 0.3913\n",
            "Epoch 5/2000\n",
            "20/20 [==============================] - 0s 10ms/step - loss: 0.0836 - tp: 608.0000 - fp: 25.0000 - tn: 583.0000 - fn: 0.0000e+00 - accuracy: 0.9794 - precision: 0.9605 - recall: 1.0000 - auc: 0.9912 - prc: 0.9844 - val_loss: 0.2837 - val_tp: 4.0000 - val_fp: 22.0000 - val_tn: 199.0000 - val_fn: 1.0000 - val_accuracy: 0.8982 - val_precision: 0.1538 - val_recall: 0.8000 - val_auc: 0.8312 - val_prc: 0.3658\n",
            "Epoch 6/2000\n",
            "20/20 [==============================] - 0s 8ms/step - loss: 0.0822 - tp: 607.0000 - fp: 22.0000 - tn: 586.0000 - fn: 1.0000 - accuracy: 0.9811 - precision: 0.9650 - recall: 0.9984 - auc: 0.9919 - prc: 0.9843 - val_loss: 0.2728 - val_tp: 4.0000 - val_fp: 22.0000 - val_tn: 199.0000 - val_fn: 1.0000 - val_accuracy: 0.8982 - val_precision: 0.1538 - val_recall: 0.8000 - val_auc: 0.9086 - val_prc: 0.4154\n",
            "Epoch 7/2000\n",
            "20/20 [==============================] - 0s 6ms/step - loss: 0.0677 - tp: 606.0000 - fp: 18.0000 - tn: 590.0000 - fn: 2.0000 - accuracy: 0.9836 - precision: 0.9712 - recall: 0.9967 - auc: 0.9942 - prc: 0.9905 - val_loss: 0.2711 - val_tp: 4.0000 - val_fp: 22.0000 - val_tn: 199.0000 - val_fn: 1.0000 - val_accuracy: 0.8982 - val_precision: 0.1538 - val_recall: 0.8000 - val_auc: 0.8339 - val_prc: 0.4093\n",
            "Epoch 8/2000\n",
            "20/20 [==============================] - 0s 6ms/step - loss: 0.0688 - tp: 607.0000 - fp: 19.0000 - tn: 589.0000 - fn: 1.0000 - accuracy: 0.9836 - precision: 0.9696 - recall: 0.9984 - auc: 0.9939 - prc: 0.9887 - val_loss: 0.2595 - val_tp: 4.0000 - val_fp: 21.0000 - val_tn: 200.0000 - val_fn: 1.0000 - val_accuracy: 0.9027 - val_precision: 0.1600 - val_recall: 0.8000 - val_auc: 0.8344 - val_prc: 0.3780\n",
            "Epoch 9/2000\n",
            "20/20 [==============================] - 0s 6ms/step - loss: 0.0658 - tp: 608.0000 - fp: 20.0000 - tn: 588.0000 - fn: 0.0000e+00 - accuracy: 0.9836 - precision: 0.9682 - recall: 1.0000 - auc: 0.9955 - prc: 0.9947 - val_loss: 0.2671 - val_tp: 4.0000 - val_fp: 21.0000 - val_tn: 200.0000 - val_fn: 1.0000 - val_accuracy: 0.9027 - val_precision: 0.1600 - val_recall: 0.8000 - val_auc: 0.8357 - val_prc: 0.3781\n",
            "Epoch 10/2000\n",
            "20/20 [==============================] - 0s 5ms/step - loss: 0.0656 - tp: 603.0000 - fp: 17.0000 - tn: 591.0000 - fn: 5.0000 - accuracy: 0.9819 - precision: 0.9726 - recall: 0.9918 - auc: 0.9948 - prc: 0.9918 - val_loss: 0.2610 - val_tp: 4.0000 - val_fp: 21.0000 - val_tn: 200.0000 - val_fn: 1.0000 - val_accuracy: 0.9027 - val_precision: 0.1600 - val_recall: 0.8000 - val_auc: 0.8376 - val_prc: 0.3906\n",
            "Epoch 11/2000\n",
            "20/20 [==============================] - 0s 5ms/step - loss: 0.0640 - tp: 606.0000 - fp: 19.0000 - tn: 589.0000 - fn: 2.0000 - accuracy: 0.9827 - precision: 0.9696 - recall: 0.9967 - auc: 0.9959 - prc: 0.9948 - val_loss: 0.2583 - val_tp: 3.0000 - val_fp: 21.0000 - val_tn: 200.0000 - val_fn: 2.0000 - val_accuracy: 0.8982 - val_precision: 0.1250 - val_recall: 0.6000 - val_auc: 0.8376 - val_prc: 0.3883\n"
          ]
        }
      ]
    },
    {
      "cell_type": "markdown",
      "source": [
        "### Plotting Metrics of Final Resampled Model"
      ],
      "metadata": {
        "id": "7rf0L9YGQIuO"
      }
    },
    {
      "cell_type": "code",
      "source": [
        "plot_metrics(resampled_history)\n"
      ],
      "metadata": {
        "colab": {
          "base_uri": "https://localhost:8080/",
          "height": 283
        },
        "id": "zVY9_t0nD6-N",
        "outputId": "0fe7764d-68fb-423a-e18e-24443305d84f"
      },
      "execution_count": 59,
      "outputs": [
        {
          "output_type": "display_data",
          "data": {
            "text/plain": [
              "<Figure size 432x288 with 4 Axes>"
            ],
            "image/png": "[encoded data removed]"
          },
          "metadata": {
            "needs_background": "light"
          }
        }
      ]
    },
    {
      "cell_type": "code",
      "source": [
        "train_predictions_resampled = resampled_model.predict(X_train, batch_size=BATCH_SIZE)\n",
        "test_predictions_resampled = resampled_model.predict(X_val, batch_size=BATCH_SIZE)"
      ],
      "metadata": {
        "id": "Gr85YxtXD-WP"
      },
      "execution_count": 60,
      "outputs": []
    },
    {
      "cell_type": "code",
      "source": [
        "resampled_results = resampled_model.evaluate(X_val, y_val,\n",
        "                                             batch_size=BATCH_SIZE, verbose=0)\n",
        "for name, value in zip(resampled_model.metrics_names, resampled_results):\n",
        "  print(name, ': ', value)\n",
        "print()\n",
        "\n",
        "plot_cm(y_val, test_predictions_resampled)"
      ],
      "metadata": {
        "colab": {
          "base_uri": "https://localhost:8080/",
          "height": 636
        },
        "id": "BwxEehGMEDQP",
        "outputId": "c55b775c-61d6-465a-8026-1ef9fe021a61"
      },
      "execution_count": 61,
      "outputs": [
        {
          "output_type": "stream",
          "name": "stdout",
          "text": [
            "loss :  0.27275726199150085\n",
            "tp :  4.0\n",
            "fp :  22.0\n",
            "tn :  199.0\n",
            "fn :  1.0\n",
            "accuracy :  0.8982300758361816\n",
            "precision :  0.1538461595773697\n",
            "recall :  0.800000011920929\n",
            "auc :  0.9085972905158997\n",
            "prc :  0.4153599739074707\n",
            "\n",
            "Legitimate Champions Detected (True Negatives):  199\n",
            "Legitimate Champions Incorrectly Detected (False Positives):  22\n",
            "Non Champions Missed (False Negatives):  1\n",
            "Non Champions Detected (True Positives):  4\n",
            "Total Fraudulent Transactions:  5\n"
          ]
        },
        {
          "output_type": "display_data",
          "data": {
            "text/plain": [
              "<Figure size 360x360 with 2 Axes>"
            ],
            "image/png": "[encoded data removed]"
          },
          "metadata": {
            "needs_background": "light"
          }
        }
      ]
    },
    {
      "cell_type": "code",
      "source": [
        "\n",
        "plot_roc(\"Train Baseline\", y_train, train_predictions_baseline, color=colors[0])\n",
        "plot_roc(\"Test Baseline\", y_val, test_predictions_baseline, color=colors[0], linestyle='--')\n",
        "\n",
        "plot_roc(\"Train Weighted\", y_train, train_predictions_weighted, color=colors[1])\n",
        "plot_roc(\"Test Weighted\", y_val, test_predictions_weighted, color=colors[1], linestyle='--')\n",
        "\n",
        "plot_roc(\"Train Resampled\", y_train, train_predictions_resampled, color=colors[2])\n",
        "plot_roc(\"Test Resampled\", y_val, test_predictions_resampled, color=colors[2], linestyle='--')\n",
        "plt.legend(loc='lower right');"
      ],
      "metadata": {
        "colab": {
          "base_uri": "https://localhost:8080/",
          "height": 281
        },
        "id": "9MW8wZPKEJvG",
        "outputId": "1aa01b3f-7474-434c-af56-ed135587bbfb"
      },
      "execution_count": 62,
      "outputs": [
        {
          "output_type": "display_data",
          "data": {
            "text/plain": [
              "<Figure size 432x288 with 1 Axes>"
            ],
            "image/png": "[encoded data removed]"
          },
          "metadata": {
            "needs_background": "light"
          }
        }
      ]
    },
    {
      "cell_type": "code",
      "source": [
        "plot_prc(\"Train Baseline\", y_train, train_predictions_baseline, color=colors[0])\n",
        "plot_prc(\"Test Baseline\", y_val, test_predictions_baseline, color=colors[0], linestyle='--')\n",
        "\n",
        "plot_prc(\"Train Weighted\", y_train, train_predictions_weighted, color=colors[1])\n",
        "plot_prc(\"Test Weighted\", y_val, test_predictions_weighted, color=colors[1], linestyle='--')\n",
        "\n",
        "plot_prc(\"Train Resampled\", y_train, train_predictions_resampled, color=colors[2])\n",
        "plot_prc(\"Test Resampled\", y_val, test_predictions_resampled, color=colors[2], linestyle='--')\n",
        "plt.legend(loc='lower right');"
      ],
      "metadata": {
        "colab": {
          "base_uri": "https://localhost:8080/",
          "height": 279
        },
        "id": "r2b8ImYkESSL",
        "outputId": "32a77b48-c540-4870-a0a1-0189d3c50da5"
      },
      "execution_count": 63,
      "outputs": [
        {
          "output_type": "display_data",
          "data": {
            "text/plain": [
              "<Figure size 432x288 with 1 Axes>"
            ],
            "image/png": "[encoded data removed]"
          },
          "metadata": {
            "needs_background": "light"
          }
        }
      ]
    },
    {
      "cell_type": "markdown",
      "source": [
        "### Evaluating Performance on Training Set"
      ],
      "metadata": {
        "id": "6786DBnmQNPd"
      }
    },
    {
      "cell_type": "code",
      "source": [
        "'''\n",
        "#Code that will iterate over all years and determine the team with max output from NN\n",
        "\n",
        "years = np.arange(1990.0,2020.0)\n",
        "\n",
        "row_list = []\n",
        "\n",
        "for year in years:\n",
        "\n",
        "  year_df = test_df[test_df[\"Year\"] == year]\n",
        "  year_df.reset_index()\n",
        "  max_idx = pd.to_numeric(year_df[\"Prediction\"]).idxmax()\n",
        "  row_list.append(dict(test_df.iloc[max_idx]))\n",
        "\n",
        "max_year_df = pd.DataFrame(row_list, columns = ['Year', 'Team', 'Prediction', 'True'])\n",
        "\n",
        "'''"
      ],
      "metadata": {
        "id": "1AMqQBAWGUtE",
        "colab": {
          "base_uri": "https://localhost:8080/",
          "height": 89
        },
        "outputId": "b902cef4-5ebf-430e-fa2e-583624eefe55"
      },
      "execution_count": 64,
      "outputs": [
        {
          "output_type": "execute_result",
          "data": {
            "text/plain": [
              "'\\n#Code that will iterate over all years and determine the team with max output from NN\\n\\nyears = np.arange(1990.0,2020.0)\\n\\nrow_list = []\\n\\nfor year in years:\\n\\n  year_df = test_df[test_df[\"Year\"] == year]\\n  year_df.reset_index()\\n  max_idx = pd.to_numeric(year_df[\"Prediction\"]).idxmax()\\n  row_list.append(dict(test_df.iloc[max_idx]))\\n\\nmax_year_df = pd.DataFrame(row_list, columns = [\\'Year\\', \\'Team\\', \\'Prediction\\', \\'True\\'])\\n\\n'"
            ],
            "application/vnd.google.colaboratory.intrinsic+json": {
              "type": "string"
            }
          },
          "metadata": {},
          "execution_count": 64
        }
      ]
    },
    {
      "cell_type": "markdown",
      "source": [
        "## Part 5- Predicting the 2022 Playoffs"
      ],
      "metadata": {
        "id": "ZB03OGXeK-sG"
      }
    },
    {
      "cell_type": "markdown",
      "source": [
        "### Data Processing"
      ],
      "metadata": {
        "id": "kGy8IKsyQpnZ"
      }
    },
    {
      "cell_type": "code",
      "source": [
        "test_data = pd.read_csv('2022_advanced_data.csv')"
      ],
      "metadata": {
        "id": "TIe2b2rILuXb"
      },
      "execution_count": 65,
      "outputs": []
    },
    {
      "cell_type": "code",
      "source": [
        "test_data = test_data.drop(columns=['Playoffs', 'Losing_season', 'Arena', 'L', 'W', 'PW', 'PL', 'Attend.'])"
      ],
      "metadata": {
        "id": "OVGubmcwL1EX"
      },
      "execution_count": 67,
      "outputs": []
    },
    {
      "cell_type": "code",
      "source": [
        "X_test = test_data.iloc[:, ~ test_data.columns.isin(['Year', 'Champion', 'Team'])]\n",
        "y_test = test_data.loc[:, test_data.columns == 'Champion'].values\n",
        "y_test = np.array([0 if val == \"N\" else 1 for val in y_test])"
      ],
      "metadata": {
        "id": "VGzDvplEMIt9"
      },
      "execution_count": 68,
      "outputs": []
    },
    {
      "cell_type": "code",
      "source": [
        "X_test = np.array(ct.transform(X_test))"
      ],
      "metadata": {
        "id": "SW7J6FhiMNzV"
      },
      "execution_count": 69,
      "outputs": []
    },
    {
      "cell_type": "code",
      "source": [
        "X_test = sc.transform(X_test)"
      ],
      "metadata": {
        "id": "NCmJXeQ_MTp6"
      },
      "execution_count": 70,
      "outputs": []
    },
    {
      "cell_type": "markdown",
      "source": [
        "### Making Predictions"
      ],
      "metadata": {
        "id": "xL_F_bDlQsxg"
      }
    },
    {
      "cell_type": "code",
      "source": [
        "test_predictions = resampled_model.predict(X_test)"
      ],
      "metadata": {
        "id": "Bk34_fqkMew4"
      },
      "execution_count": 71,
      "outputs": []
    },
    {
      "cell_type": "markdown",
      "source": [
        "### Organizing the Data"
      ],
      "metadata": {
        "id": "HvhW5G1ZQub9"
      }
    },
    {
      "cell_type": "code",
      "source": [
        "test_arrays = np.column_stack([test_data[\"Year\"], test_data[\"Team\"], test_predictions.flatten()])\n",
        "test_df = pd.DataFrame(test_arrays, columns = ['Year', 'Team', 'Prediction'])"
      ],
      "metadata": {
        "id": "oHraNxFCMnFi"
      },
      "execution_count": 76,
      "outputs": []
    },
    {
      "cell_type": "code",
      "source": [
        "test_df.sort_values(by=['Prediction'], ascending=False)"
      ],
      "metadata": {
        "colab": {
          "base_uri": "https://localhost:8080/",
          "height": 990
        },
        "id": "RjhYOSQjMtZc",
        "outputId": "9cbbbba4-cf3f-4cee-a0cc-e968e19a362a"
      },
      "execution_count": 77,
      "outputs": [
        {
          "output_type": "execute_result",
          "data": {
            "text/plain": [
              "      Year                    Team Prediction\n",
              "23  2022.0            Phoenix Suns   0.994112\n",
              "16  2022.0         Milwaukee Bucks   0.914403\n",
              "15  2022.0              Miami Heat   0.882326\n",
              "9   2022.0   Golden State Warriors   0.868706\n",
              "1   2022.0          Boston Celtics   0.301564\n",
              "28  2022.0               Utah Jazz   0.282237\n",
              "7   2022.0          Denver Nuggets   0.132514\n",
              "14  2022.0       Memphis Grizzlies   0.095259\n",
              "2   2022.0           Brooklyn Nets   0.060666\n",
              "6   2022.0        Dallas Mavericks   0.021669\n",
              "17  2022.0  Minnesota Timberwolves   0.007245\n",
              "11  2022.0          Indiana Pacers   0.005309\n",
              "4   2022.0           Chicago Bulls   0.005257\n",
              "18  2022.0    New Orleans Pelicans   0.004273\n",
              "5   2022.0     Cleveland Cavaliers   0.004151\n",
              "12  2022.0    Los Angeles Clippers   0.002686\n",
              "29  2022.0      Washington Wizards    0.00214\n",
              "3   2022.0       Charlotte Hornets   0.002084\n",
              "10  2022.0         Houston Rockets   0.001988\n",
              "24  2022.0  Portland Trail Blazers     0.0019\n",
              "25  2022.0        Sacramento Kings   0.001786\n",
              "22  2022.0      Philadelphia 76ers   0.001685\n",
              "19  2022.0         New York Knicks   0.001177\n",
              "0   2022.0           Atlanta Hawks   0.001018\n",
              "8   2022.0         Detroit Pistons   0.000908\n",
              "13  2022.0      Los Angeles Lakers   0.000736\n",
              "26  2022.0       San Antonio Spurs   0.000574\n",
              "27  2022.0         Toronto Raptors   0.000508\n",
              "21  2022.0           Orlando Magic    0.00016\n",
              "20  2022.0   Oklahoma City Thunder   0.000065"
            ],
            "text/html": [
              "\n",
              "  <div id=\"df-2fbcb25f-7e7c-4e9e-98a8-d9e05e87b1d6\">\n",
              "    <div class=\"colab-df-container\">\n",
              "      <div>\n",
              "<style scoped>\n",
              "    .dataframe tbody tr th:only-of-type {\n",
              "        vertical-align: middle;\n",
              "    }\n",
              "\n",
              "    .dataframe tbody tr th {\n",
              "        vertical-align: top;\n",
              "    }\n",
              "\n",
              "    .dataframe thead th {\n",
              "        text-align: right;\n",
              "    }\n",
              "</style>\n",
              "<table border=\"1\" class=\"dataframe\">\n",
              "  <thead>\n",
              "    <tr style=\"text-align: right;\">\n",
              "      <th></th>\n",
              "      <th>Year</th>\n",
              "      <th>Team</th>\n",
              "      <th>Prediction</th>\n",
              "    </tr>\n",
              "  </thead>\n",
              "  <tbody>\n",
              "    <tr>\n",
              "      <th>23</th>\n",
              "      <td>2022.0</td>\n",
              "      <td>Phoenix Suns</td>\n",
              "      <td>0.994112</td>\n",
              "    </tr>\n",
              "    <tr>\n",
              "      <th>16</th>\n",
              "      <td>2022.0</td>\n",
              "      <td>Milwaukee Bucks</td>\n",
              "      <td>0.914403</td>\n",
              "    </tr>\n",
              "    <tr>\n",
              "      <th>15</th>\n",
              "      <td>2022.0</td>\n",
              "      <td>Miami Heat</td>\n",
              "      <td>0.882326</td>\n",
              "    </tr>\n",
              "    <tr>\n",
              "      <th>9</th>\n",
              "      <td>2022.0</td>\n",
              "      <td>Golden State Warriors</td>\n",
              "      <td>0.868706</td>\n",
              "    </tr>\n",
              "    <tr>\n",
              "      <th>1</th>\n",
              "      <td>2022.0</td>\n",
              "      <td>Boston Celtics</td>\n",
              "      <td>0.301564</td>\n",
              "    </tr>\n",
              "    <tr>\n",
              "      <th>28</th>\n",
              "      <td>2022.0</td>\n",
              "      <td>Utah Jazz</td>\n",
              "      <td>0.282237</td>\n",
              "    </tr>\n",
              "    <tr>\n",
              "      <th>7</th>\n",
              "      <td>2022.0</td>\n",
              "      <td>Denver Nuggets</td>\n",
              "      <td>0.132514</td>\n",
              "    </tr>\n",
              "    <tr>\n",
              "      <th>14</th>\n",
              "      <td>2022.0</td>\n",
              "      <td>Memphis Grizzlies</td>\n",
              "      <td>0.095259</td>\n",
              "    </tr>\n",
              "    <tr>\n",
              "      <th>2</th>\n",
              "      <td>2022.0</td>\n",
              "      <td>Brooklyn Nets</td>\n",
              "      <td>0.060666</td>\n",
              "    </tr>\n",
              "    <tr>\n",
              "      <th>6</th>\n",
              "      <td>2022.0</td>\n",
              "      <td>Dallas Mavericks</td>\n",
              "      <td>0.021669</td>\n",
              "    </tr>\n",
              "    <tr>\n",
              "      <th>17</th>\n",
              "      <td>2022.0</td>\n",
              "      <td>Minnesota Timberwolves</td>\n",
              "      <td>0.007245</td>\n",
              "    </tr>\n",
              "    <tr>\n",
              "      <th>11</th>\n",
              "      <td>2022.0</td>\n",
              "      <td>Indiana Pacers</td>\n",
              "      <td>0.005309</td>\n",
              "    </tr>\n",
              "    <tr>\n",
              "      <th>4</th>\n",
              "      <td>2022.0</td>\n",
              "      <td>Chicago Bulls</td>\n",
              "      <td>0.005257</td>\n",
              "    </tr>\n",
              "    <tr>\n",
              "      <th>18</th>\n",
              "      <td>2022.0</td>\n",
              "      <td>New Orleans Pelicans</td>\n",
              "      <td>0.004273</td>\n",
              "    </tr>\n",
              "    <tr>\n",
              "      <th>5</th>\n",
              "      <td>2022.0</td>\n",
              "      <td>Cleveland Cavaliers</td>\n",
              "      <td>0.004151</td>\n",
              "    </tr>\n",
              "    <tr>\n",
              "      <th>12</th>\n",
              "      <td>2022.0</td>\n",
              "      <td>Los Angeles Clippers</td>\n",
              "      <td>0.002686</td>\n",
              "    </tr>\n",
              "    <tr>\n",
              "      <th>29</th>\n",
              "      <td>2022.0</td>\n",
              "      <td>Washington Wizards</td>\n",
              "      <td>0.00214</td>\n",
              "    </tr>\n",
              "    <tr>\n",
              "      <th>3</th>\n",
              "      <td>2022.0</td>\n",
              "      <td>Charlotte Hornets</td>\n",
              "      <td>0.002084</td>\n",
              "    </tr>\n",
              "    <tr>\n",
              "      <th>10</th>\n",
              "      <td>2022.0</td>\n",
              "      <td>Houston Rockets</td>\n",
              "      <td>0.001988</td>\n",
              "    </tr>\n",
              "    <tr>\n",
              "      <th>24</th>\n",
              "      <td>2022.0</td>\n",
              "      <td>Portland Trail Blazers</td>\n",
              "      <td>0.0019</td>\n",
              "    </tr>\n",
              "    <tr>\n",
              "      <th>25</th>\n",
              "      <td>2022.0</td>\n",
              "      <td>Sacramento Kings</td>\n",
              "      <td>0.001786</td>\n",
              "    </tr>\n",
              "    <tr>\n",
              "      <th>22</th>\n",
              "      <td>2022.0</td>\n",
              "      <td>Philadelphia 76ers</td>\n",
              "      <td>0.001685</td>\n",
              "    </tr>\n",
              "    <tr>\n",
              "      <th>19</th>\n",
              "      <td>2022.0</td>\n",
              "      <td>New York Knicks</td>\n",
              "      <td>0.001177</td>\n",
              "    </tr>\n",
              "    <tr>\n",
              "      <th>0</th>\n",
              "      <td>2022.0</td>\n",
              "      <td>Atlanta Hawks</td>\n",
              "      <td>0.001018</td>\n",
              "    </tr>\n",
              "    <tr>\n",
              "      <th>8</th>\n",
              "      <td>2022.0</td>\n",
              "      <td>Detroit Pistons</td>\n",
              "      <td>0.000908</td>\n",
              "    </tr>\n",
              "    <tr>\n",
              "      <th>13</th>\n",
              "      <td>2022.0</td>\n",
              "      <td>Los Angeles Lakers</td>\n",
              "      <td>0.000736</td>\n",
              "    </tr>\n",
              "    <tr>\n",
              "      <th>26</th>\n",
              "      <td>2022.0</td>\n",
              "      <td>San Antonio Spurs</td>\n",
              "      <td>0.000574</td>\n",
              "    </tr>\n",
              "    <tr>\n",
              "      <th>27</th>\n",
              "      <td>2022.0</td>\n",
              "      <td>Toronto Raptors</td>\n",
              "      <td>0.000508</td>\n",
              "    </tr>\n",
              "    <tr>\n",
              "      <th>21</th>\n",
              "      <td>2022.0</td>\n",
              "      <td>Orlando Magic</td>\n",
              "      <td>0.00016</td>\n",
              "    </tr>\n",
              "    <tr>\n",
              "      <th>20</th>\n",
              "      <td>2022.0</td>\n",
              "      <td>Oklahoma City Thunder</td>\n",
              "      <td>0.000065</td>\n",
              "    </tr>\n",
              "  </tbody>\n",
              "</table>\n",
              "</div>\n",
              "      <button class=\"colab-df-convert\" onclick=\"convertToInteractive('df-2fbcb25f-7e7c-4e9e-98a8-d9e05e87b1d6')\"\n",
              "              title=\"Convert this dataframe to an interactive table.\"\n",
              "              style=\"display:none;\">\n",
              "        \n",
              "  <svg xmlns=\"http://www.w3.org/2000/svg\" height=\"24px\"viewBox=\"0 0 24 24\"\n",
              "       width=\"24px\">\n",
              "    <path d=\"M0 0h24v24H0V0z\" fill=\"none\"/>\n",
              "    <path d=\"M18.56 5.44l.94 2.06.94-2.06 2.06-.94-2.06-.94-.94-2.06-.94 2.06-2.06.94zm-11 1L8.5 8.5l.94-2.06 2.06-.94-2.06-.94L8.5 2.5l-.94 2.06-2.06.94zm10 10l.94 2.06.94-2.06 2.06-.94-2.06-.94-.94-2.06-.94 2.06-2.06.94z\"/><path d=\"M17.41 7.96l-1.37-1.37c-.4-.4-.92-.59-1.43-.59-.52 0-1.04.2-1.43.59L10.3 9.45l-7.72 7.72c-.78.78-.78 2.05 0 2.83L4 21.41c.39.39.9.59 1.41.59.51 0 1.02-.2 1.41-.59l7.78-7.78 2.81-2.81c.8-.78.8-2.07 0-2.86zM5.41 20L4 18.59l7.72-7.72 1.47 1.35L5.41 20z\"/>\n",
              "  </svg>\n",
              "      </button>\n",
              "      \n",
              "  <style>\n",
              "    .colab-df-container {\n",
              "      display:flex;\n",
              "      flex-wrap:wrap;\n",
              "      gap: 12px;\n",
              "    }\n",
              "\n",
              "    .colab-df-convert {\n",
              "      background-color: #E8F0FE;\n",
              "      border: none;\n",
              "      border-radius: 50%;\n",
              "      cursor: pointer;\n",
              "      display: none;\n",
              "      fill: #1967D2;\n",
              "      height: 32px;\n",
              "      padding: 0 0 0 0;\n",
              "      width: 32px;\n",
              "    }\n",
              "\n",
              "    .colab-df-convert:hover {\n",
              "      background-color: #E2EBFA;\n",
              "      box-shadow: 0px 1px 2px rgba(60, 64, 67, 0.3), 0px 1px 3px 1px rgba(60, 64, 67, 0.15);\n",
              "      fill: #174EA6;\n",
              "    }\n",
              "\n",
              "    [theme=dark] .colab-df-convert {\n",
              "      background-color: #3B4455;\n",
              "      fill: #D2E3FC;\n",
              "    }\n",
              "\n",
              "    [theme=dark] .colab-df-convert:hover {\n",
              "      background-color: #434B5C;\n",
              "      box-shadow: 0px 1px 3px 1px rgba(0, 0, 0, 0.15);\n",
              "      filter: drop-shadow(0px 1px 2px rgba(0, 0, 0, 0.3));\n",
              "      fill: #FFFFFF;\n",
              "    }\n",
              "  </style>\n",
              "\n",
              "      <script>\n",
              "        const buttonEl =\n",
              "          document.querySelector('#df-2fbcb25f-7e7c-4e9e-98a8-d9e05e87b1d6 button.colab-df-convert');\n",
              "        buttonEl.style.display =\n",
              "          google.colab.kernel.accessAllowed ? 'block' : 'none';\n",
              "\n",
              "        async function convertToInteractive(key) {\n",
              "          const element = document.querySelector('#df-2fbcb25f-7e7c-4e9e-98a8-d9e05e87b1d6');\n",
              "          const dataTable =\n",
              "            await google.colab.kernel.invokeFunction('convertToInteractive',\n",
              "                                                     [key], {});\n",
              "          if (!dataTable) return;\n",
              "\n",
              "          const docLinkHtml = 'Like what you see? Visit the ' +\n",
              "            '<a target=\"_blank\" href=https://colab.research.google.com/notebooks/data_table.ipynb>data table notebook</a>'\n",
              "            + ' to learn more about interactive tables.';\n",
              "          element.innerHTML = '';\n",
              "          dataTable['output_type'] = 'display_data';\n",
              "          await google.colab.output.renderOutput(dataTable, element);\n",
              "          const docLink = document.createElement('div');\n",
              "          docLink.innerHTML = docLinkHtml;\n",
              "          element.appendChild(docLink);\n",
              "        }\n",
              "      </script>\n",
              "    </div>\n",
              "  </div>\n",
              "  "
            ]
          },
          "metadata": {},
          "execution_count": 77
        }
      ]
    },
    {
      "cell_type": "markdown",
      "source": [
        "Based on the model, the teams with output scores > 0.5 are the Suns, Bucks, Heat, and Warriors. Based on the magnitude of the scores, we would assume the Suns will win the Championship. "
      ],
      "metadata": {
        "id": "QZHi8s7RQyMx"
      }
    }
  ]
}