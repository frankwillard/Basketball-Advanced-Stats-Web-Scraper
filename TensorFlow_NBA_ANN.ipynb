{
  "nbformat": 4,
  "nbformat_minor": 0,
  "metadata": {
    "colab": {
      "name": "TensorFlow NBA ANN",
      "provenance": [],
      "collapsed_sections": [],
      "include_colab_link": true
    },
    "kernelspec": {
      "name": "python3",
      "display_name": "Python 3"
    }
  },
  "cells": [
    {
      "cell_type": "markdown",
      "metadata": {
        "id": "view-in-github",
        "colab_type": "text"
      },
      "source": [
        "<a href=\"https://colab.research.google.com/github/frankwillard/Basketball-Advanced-Stats-Web-Scraper/blob/main/TensorFlow_NBA_ANN.ipynb\" target=\"_parent\"><img src=\"https://colab.research.google.com/assets/colab-badge.svg\" alt=\"Open In Colab\"/></a>"
      ]
    },
    {
      "cell_type": "markdown",
      "metadata": {
        "id": "lP6JLo1tGNBg"
      },
      "source": [
        "# TensorFlow NBA Champion Neural Network"
      ]
    },
    {
      "cell_type": "markdown",
      "metadata": {
        "id": "gWZyYmS_UE_L"
      },
      "source": [
        "### Importing the libraries"
      ]
    },
    {
      "cell_type": "code",
      "metadata": {
        "id": "MxkJoQBkUIHC"
      },
      "source": [
        "import numpy as np\n",
        "import pandas as pd\n",
        "import tensorflow as tf"
      ],
      "execution_count": 16,
      "outputs": []
    },
    {
      "cell_type": "code",
      "metadata": {
        "id": "ZaTwK7ojXr2F",
        "colab": {
          "base_uri": "https://localhost:8080/",
          "height": 35
        },
        "outputId": "cdb7b690-b370-40f3-d3bc-fb9f38de6b16"
      },
      "source": [
        "tf.__version__"
      ],
      "execution_count": 17,
      "outputs": [
        {
          "output_type": "execute_result",
          "data": {
            "text/plain": [
              "'2.8.0'"
            ],
            "application/vnd.google.colaboratory.intrinsic+json": {
              "type": "string"
            }
          },
          "metadata": {},
          "execution_count": 17
        }
      ]
    },
    {
      "cell_type": "markdown",
      "metadata": {
        "id": "1E0Q3aoKUCRX"
      },
      "source": [
        "## Part 1 - Data Preprocessing"
      ]
    },
    {
      "cell_type": "markdown",
      "metadata": {
        "id": "cKWAkFVGUU0Z"
      },
      "source": [
        "### Importing the dataset"
      ]
    },
    {
      "cell_type": "code",
      "metadata": {
        "id": "R4u86ru5OgPR",
        "colab": {
          "base_uri": "https://localhost:8080/",
          "height": 403
        },
        "outputId": "bbe9ac76-7133-4613-f340-f990e826cae2"
      },
      "source": [
        "dataset = pd.read_csv('nba_team_advanced_data.csv')\n",
        "dataset.head()"
      ],
      "execution_count": 18,
      "outputs": [
        {
          "output_type": "execute_result",
          "data": {
            "text/plain": [
              "     Year                 Team   Age     W     L    PW    PL   MOV   SOS  \\\n",
              "0  1990.0        Atlanta Hawks  28.6  41.0  41.0  44.0  38.0  1.02 -0.39   \n",
              "1  1990.0       Boston Celtics  30.2  52.0  30.0  51.0  31.0  3.99 -0.76   \n",
              "2  1990.0    Charlotte Hornets  25.6  19.0  63.0  21.0  61.0 -7.82  0.81   \n",
              "3  1990.0        Chicago Bulls  26.1  55.0  27.0  50.0  32.0  3.26 -0.51   \n",
              "4  1990.0  Cleveland Cavaliers  26.1  42.0  40.0  40.0  42.0 -0.30 -0.31   \n",
              "\n",
              "    SRS  ...  DRB%  DFT/FGA                  Arena   Attend.  Playoffs  \\\n",
              "0  0.64  ...  65.5    0.254          Omni Coliseum  573711.0         N   \n",
              "1  3.23  ...  72.1    0.223          Boston Garden  611537.0         N   \n",
              "2 -7.00  ...  67.5    0.269     Charlotte Coliseum  979941.0         N   \n",
              "3  2.74  ...  68.1    0.262        Chicago Stadium  752564.0         N   \n",
              "4 -0.62  ...  67.7    0.202  Coliseum at Richfield  695710.0         N   \n",
              "\n",
              "       W/L%  Losing_season  Champion  won_last  won_last_3  \n",
              "0  0.500000              N         N         N           N  \n",
              "1  0.634146              N         N         N           N  \n",
              "2  0.231707              Y         N         N           N  \n",
              "3  0.670732              N         N         N           N  \n",
              "4  0.512195              N         N         N           N  \n",
              "\n",
              "[5 rows x 33 columns]"
            ],
            "text/html": [
              "\n",
              "  <div id=\"df-66ce2cb3-a1da-4f11-99bc-97479a2582ba\">\n",
              "    <div class=\"colab-df-container\">\n",
              "      <div>\n",
              "<style scoped>\n",
              "    .dataframe tbody tr th:only-of-type {\n",
              "        vertical-align: middle;\n",
              "    }\n",
              "\n",
              "    .dataframe tbody tr th {\n",
              "        vertical-align: top;\n",
              "    }\n",
              "\n",
              "    .dataframe thead th {\n",
              "        text-align: right;\n",
              "    }\n",
              "</style>\n",
              "<table border=\"1\" class=\"dataframe\">\n",
              "  <thead>\n",
              "    <tr style=\"text-align: right;\">\n",
              "      <th></th>\n",
              "      <th>Year</th>\n",
              "      <th>Team</th>\n",
              "      <th>Age</th>\n",
              "      <th>W</th>\n",
              "      <th>L</th>\n",
              "      <th>PW</th>\n",
              "      <th>PL</th>\n",
              "      <th>MOV</th>\n",
              "      <th>SOS</th>\n",
              "      <th>SRS</th>\n",
              "      <th>...</th>\n",
              "      <th>DRB%</th>\n",
              "      <th>DFT/FGA</th>\n",
              "      <th>Arena</th>\n",
              "      <th>Attend.</th>\n",
              "      <th>Playoffs</th>\n",
              "      <th>W/L%</th>\n",
              "      <th>Losing_season</th>\n",
              "      <th>Champion</th>\n",
              "      <th>won_last</th>\n",
              "      <th>won_last_3</th>\n",
              "    </tr>\n",
              "  </thead>\n",
              "  <tbody>\n",
              "    <tr>\n",
              "      <th>0</th>\n",
              "      <td>1990.0</td>\n",
              "      <td>Atlanta Hawks</td>\n",
              "      <td>28.6</td>\n",
              "      <td>41.0</td>\n",
              "      <td>41.0</td>\n",
              "      <td>44.0</td>\n",
              "      <td>38.0</td>\n",
              "      <td>1.02</td>\n",
              "      <td>-0.39</td>\n",
              "      <td>0.64</td>\n",
              "      <td>...</td>\n",
              "      <td>65.5</td>\n",
              "      <td>0.254</td>\n",
              "      <td>Omni Coliseum</td>\n",
              "      <td>573711.0</td>\n",
              "      <td>N</td>\n",
              "      <td>0.500000</td>\n",
              "      <td>N</td>\n",
              "      <td>N</td>\n",
              "      <td>N</td>\n",
              "      <td>N</td>\n",
              "    </tr>\n",
              "    <tr>\n",
              "      <th>1</th>\n",
              "      <td>1990.0</td>\n",
              "      <td>Boston Celtics</td>\n",
              "      <td>30.2</td>\n",
              "      <td>52.0</td>\n",
              "      <td>30.0</td>\n",
              "      <td>51.0</td>\n",
              "      <td>31.0</td>\n",
              "      <td>3.99</td>\n",
              "      <td>-0.76</td>\n",
              "      <td>3.23</td>\n",
              "      <td>...</td>\n",
              "      <td>72.1</td>\n",
              "      <td>0.223</td>\n",
              "      <td>Boston Garden</td>\n",
              "      <td>611537.0</td>\n",
              "      <td>N</td>\n",
              "      <td>0.634146</td>\n",
              "      <td>N</td>\n",
              "      <td>N</td>\n",
              "      <td>N</td>\n",
              "      <td>N</td>\n",
              "    </tr>\n",
              "    <tr>\n",
              "      <th>2</th>\n",
              "      <td>1990.0</td>\n",
              "      <td>Charlotte Hornets</td>\n",
              "      <td>25.6</td>\n",
              "      <td>19.0</td>\n",
              "      <td>63.0</td>\n",
              "      <td>21.0</td>\n",
              "      <td>61.0</td>\n",
              "      <td>-7.82</td>\n",
              "      <td>0.81</td>\n",
              "      <td>-7.00</td>\n",
              "      <td>...</td>\n",
              "      <td>67.5</td>\n",
              "      <td>0.269</td>\n",
              "      <td>Charlotte Coliseum</td>\n",
              "      <td>979941.0</td>\n",
              "      <td>N</td>\n",
              "      <td>0.231707</td>\n",
              "      <td>Y</td>\n",
              "      <td>N</td>\n",
              "      <td>N</td>\n",
              "      <td>N</td>\n",
              "    </tr>\n",
              "    <tr>\n",
              "      <th>3</th>\n",
              "      <td>1990.0</td>\n",
              "      <td>Chicago Bulls</td>\n",
              "      <td>26.1</td>\n",
              "      <td>55.0</td>\n",
              "      <td>27.0</td>\n",
              "      <td>50.0</td>\n",
              "      <td>32.0</td>\n",
              "      <td>3.26</td>\n",
              "      <td>-0.51</td>\n",
              "      <td>2.74</td>\n",
              "      <td>...</td>\n",
              "      <td>68.1</td>\n",
              "      <td>0.262</td>\n",
              "      <td>Chicago Stadium</td>\n",
              "      <td>752564.0</td>\n",
              "      <td>N</td>\n",
              "      <td>0.670732</td>\n",
              "      <td>N</td>\n",
              "      <td>N</td>\n",
              "      <td>N</td>\n",
              "      <td>N</td>\n",
              "    </tr>\n",
              "    <tr>\n",
              "      <th>4</th>\n",
              "      <td>1990.0</td>\n",
              "      <td>Cleveland Cavaliers</td>\n",
              "      <td>26.1</td>\n",
              "      <td>42.0</td>\n",
              "      <td>40.0</td>\n",
              "      <td>40.0</td>\n",
              "      <td>42.0</td>\n",
              "      <td>-0.30</td>\n",
              "      <td>-0.31</td>\n",
              "      <td>-0.62</td>\n",
              "      <td>...</td>\n",
              "      <td>67.7</td>\n",
              "      <td>0.202</td>\n",
              "      <td>Coliseum at Richfield</td>\n",
              "      <td>695710.0</td>\n",
              "      <td>N</td>\n",
              "      <td>0.512195</td>\n",
              "      <td>N</td>\n",
              "      <td>N</td>\n",
              "      <td>N</td>\n",
              "      <td>N</td>\n",
              "    </tr>\n",
              "  </tbody>\n",
              "</table>\n",
              "<p>5 rows × 33 columns</p>\n",
              "</div>\n",
              "      <button class=\"colab-df-convert\" onclick=\"convertToInteractive('df-66ce2cb3-a1da-4f11-99bc-97479a2582ba')\"\n",
              "              title=\"Convert this dataframe to an interactive table.\"\n",
              "              style=\"display:none;\">\n",
              "        \n",
              "  <svg xmlns=\"http://www.w3.org/2000/svg\" height=\"24px\"viewBox=\"0 0 24 24\"\n",
              "       width=\"24px\">\n",
              "    <path d=\"M0 0h24v24H0V0z\" fill=\"none\"/>\n",
              "    <path d=\"M18.56 5.44l.94 2.06.94-2.06 2.06-.94-2.06-.94-.94-2.06-.94 2.06-2.06.94zm-11 1L8.5 8.5l.94-2.06 2.06-.94-2.06-.94L8.5 2.5l-.94 2.06-2.06.94zm10 10l.94 2.06.94-2.06 2.06-.94-2.06-.94-.94-2.06-.94 2.06-2.06.94z\"/><path d=\"M17.41 7.96l-1.37-1.37c-.4-.4-.92-.59-1.43-.59-.52 0-1.04.2-1.43.59L10.3 9.45l-7.72 7.72c-.78.78-.78 2.05 0 2.83L4 21.41c.39.39.9.59 1.41.59.51 0 1.02-.2 1.41-.59l7.78-7.78 2.81-2.81c.8-.78.8-2.07 0-2.86zM5.41 20L4 18.59l7.72-7.72 1.47 1.35L5.41 20z\"/>\n",
              "  </svg>\n",
              "      </button>\n",
              "      \n",
              "  <style>\n",
              "    .colab-df-container {\n",
              "      display:flex;\n",
              "      flex-wrap:wrap;\n",
              "      gap: 12px;\n",
              "    }\n",
              "\n",
              "    .colab-df-convert {\n",
              "      background-color: #E8F0FE;\n",
              "      border: none;\n",
              "      border-radius: 50%;\n",
              "      cursor: pointer;\n",
              "      display: none;\n",
              "      fill: #1967D2;\n",
              "      height: 32px;\n",
              "      padding: 0 0 0 0;\n",
              "      width: 32px;\n",
              "    }\n",
              "\n",
              "    .colab-df-convert:hover {\n",
              "      background-color: #E2EBFA;\n",
              "      box-shadow: 0px 1px 2px rgba(60, 64, 67, 0.3), 0px 1px 3px 1px rgba(60, 64, 67, 0.15);\n",
              "      fill: #174EA6;\n",
              "    }\n",
              "\n",
              "    [theme=dark] .colab-df-convert {\n",
              "      background-color: #3B4455;\n",
              "      fill: #D2E3FC;\n",
              "    }\n",
              "\n",
              "    [theme=dark] .colab-df-convert:hover {\n",
              "      background-color: #434B5C;\n",
              "      box-shadow: 0px 1px 3px 1px rgba(0, 0, 0, 0.15);\n",
              "      filter: drop-shadow(0px 1px 2px rgba(0, 0, 0, 0.3));\n",
              "      fill: #FFFFFF;\n",
              "    }\n",
              "  </style>\n",
              "\n",
              "      <script>\n",
              "        const buttonEl =\n",
              "          document.querySelector('#df-66ce2cb3-a1da-4f11-99bc-97479a2582ba button.colab-df-convert');\n",
              "        buttonEl.style.display =\n",
              "          google.colab.kernel.accessAllowed ? 'block' : 'none';\n",
              "\n",
              "        async function convertToInteractive(key) {\n",
              "          const element = document.querySelector('#df-66ce2cb3-a1da-4f11-99bc-97479a2582ba');\n",
              "          const dataTable =\n",
              "            await google.colab.kernel.invokeFunction('convertToInteractive',\n",
              "                                                     [key], {});\n",
              "          if (!dataTable) return;\n",
              "\n",
              "          const docLinkHtml = 'Like what you see? Visit the ' +\n",
              "            '<a target=\"_blank\" href=https://colab.research.google.com/notebooks/data_table.ipynb>data table notebook</a>'\n",
              "            + ' to learn more about interactive tables.';\n",
              "          element.innerHTML = '';\n",
              "          dataTable['output_type'] = 'display_data';\n",
              "          await google.colab.output.renderOutput(dataTable, element);\n",
              "          const docLink = document.createElement('div');\n",
              "          docLink.innerHTML = docLinkHtml;\n",
              "          element.appendChild(docLink);\n",
              "        }\n",
              "      </script>\n",
              "    </div>\n",
              "  </div>\n",
              "  "
            ]
          },
          "metadata": {},
          "execution_count": 18
        }
      ]
    },
    {
      "cell_type": "code",
      "metadata": {
        "id": "sYSbD6jnOgw3"
      },
      "source": [
        "dataset = dataset.drop(columns=['Playoffs', 'Losing_season', 'Arena'])"
      ],
      "execution_count": 19,
      "outputs": []
    },
    {
      "cell_type": "code",
      "metadata": {
        "colab": {
          "base_uri": "https://localhost:8080/"
        },
        "id": "-F2I-PxLOiPF",
        "outputId": "e935c643-4615-4638-aea6-6a9a5d8601bc"
      },
      "source": [
        "dataset.columns"
      ],
      "execution_count": 20,
      "outputs": [
        {
          "output_type": "execute_result",
          "data": {
            "text/plain": [
              "Index(['Year', 'Team', 'Age', 'W', 'L', 'PW', 'PL', 'MOV', 'SOS', 'SRS',\n",
              "       'ORtg', 'DRtg', 'NRtg', 'Pace', 'FTr', '3PAr', 'TS%', 'OeFG%', 'OTOV%',\n",
              "       'ORB%', 'OFT/FGA', 'DeFG%', 'DTOV%', 'DRB%', 'DFT/FGA', 'Attend.',\n",
              "       'W/L%', 'Champion', 'won_last', 'won_last_3'],\n",
              "      dtype='object')"
            ]
          },
          "metadata": {},
          "execution_count": 20
        }
      ]
    },
    {
      "cell_type": "code",
      "metadata": {
        "id": "MXUkhkMfU4wq"
      },
      "source": [
        "#Drop Year, Champion, Team\n",
        "X = dataset.iloc[:, ~ dataset.columns.isin(['Year', 'Champion', 'Team'])]\n",
        "y = dataset.loc[:, dataset.columns == 'Champion'].values\n",
        "y = np.array([0 if val == \"N\" else 1 for val in y])"
      ],
      "execution_count": 21,
      "outputs": []
    },
    {
      "cell_type": "markdown",
      "source": [
        "### Identifying Class Imbalance"
      ],
      "metadata": {
        "id": "-r2Ar8zj2_Ys"
      }
    },
    {
      "cell_type": "code",
      "source": [
        "neg, pos = np.bincount(y)\n",
        "total = neg + pos\n",
        "print('Examples:\\n    Total: {}\\n    Positive: {} ({:.2f}% of total)\\n'.format(\n",
        "    total, pos, 100 * pos / total))"
      ],
      "metadata": {
        "colab": {
          "base_uri": "https://localhost:8080/"
        },
        "id": "nujt14853DfG",
        "outputId": "17c20609-802f-44ae-f61c-bc133ca350d2"
      },
      "execution_count": 22,
      "outputs": [
        {
          "output_type": "stream",
          "name": "stdout",
          "text": [
            "Examples:\n",
            "    Total: 903\n",
            "    Positive: 31 (3.43% of total)\n",
            "\n"
          ]
        }
      ]
    },
    {
      "cell_type": "markdown",
      "source": [
        "### Encode Categorical Values"
      ],
      "metadata": {
        "id": "GNdkhMHZ8KGq"
      }
    },
    {
      "cell_type": "code",
      "source": [
        "from sklearn.compose import ColumnTransformer\n",
        "from sklearn.preprocessing import OneHotEncoder\n",
        "#3 because want to one hot encode State variable\n",
        "ct = ColumnTransformer(transformers=[('encoder', OneHotEncoder(), ['won_last', 'won_last_3'])], remainder='passthrough')\n",
        "X = np.array(ct.fit_transform(X))"
      ],
      "metadata": {
        "id": "QVFiJPGu8IGK"
      },
      "execution_count": 23,
      "outputs": []
    },
    {
      "cell_type": "markdown",
      "metadata": {
        "id": "vHol938cW8zd"
      },
      "source": [
        "### Splitting the dataset into the Training set and Test set"
      ]
    },
    {
      "cell_type": "code",
      "metadata": {
        "id": "gqFnPtBAvNrC"
      },
      "source": [
        "from sklearn.model_selection import train_test_split"
      ],
      "execution_count": 24,
      "outputs": []
    },
    {
      "cell_type": "code",
      "metadata": {
        "id": "-00s7JC4uXFT"
      },
      "source": [
        "X_train, X_val, y_train, y_val = train_test_split(X, y,train_size=0.7, test_size=0.25, random_state=7)"
      ],
      "execution_count": 25,
      "outputs": []
    },
    {
      "cell_type": "markdown",
      "metadata": {
        "id": "RE_FcHyfV3TQ"
      },
      "source": [
        "### Feature Scaling"
      ]
    },
    {
      "cell_type": "code",
      "metadata": {
        "id": "ViCrE00rV8Sk"
      },
      "source": [
        "from sklearn.preprocessing import StandardScaler\n",
        "sc = StandardScaler()\n",
        "X_train = sc.fit_transform(X_train)\n",
        "X_val = sc.transform(X_val)\n",
        "#X_test = sc.transform(X_test)"
      ],
      "execution_count": 26,
      "outputs": []
    },
    {
      "cell_type": "code",
      "source": [
        "print('Training labels shape:', y_train.shape)\n",
        "print('Validation labels shape:', y_val.shape)\n",
        "\n",
        "print('Training features shape:', X_train.shape)\n",
        "print('Validation features shape:', X_val.shape)"
      ],
      "metadata": {
        "colab": {
          "base_uri": "https://localhost:8080/"
        },
        "id": "Ew3CfSe44v7y",
        "outputId": "c0ace271-b2ca-4b46-dc5a-eadfcf2c9ee3"
      },
      "execution_count": 27,
      "outputs": [
        {
          "output_type": "stream",
          "name": "stdout",
          "text": [
            "Training labels shape: (632,)\n",
            "Validation labels shape: (226,)\n",
            "Training features shape: (632, 29)\n",
            "Validation features shape: (226, 29)\n"
          ]
        }
      ]
    },
    {
      "cell_type": "markdown",
      "metadata": {
        "id": "-zfEzkRVXIwF"
      },
      "source": [
        "## Part 2 - Building the Baseline ANN"
      ]
    },
    {
      "cell_type": "markdown",
      "source": [
        "### Setting Model Hyperparameters"
      ],
      "metadata": {
        "id": "toAc1E9t9LFE"
      }
    },
    {
      "cell_type": "code",
      "source": [
        "METRICS = [\n",
        "      tf.keras.metrics.TruePositives(name='tp'),\n",
        "      tf.keras.metrics.FalsePositives(name='fp'),\n",
        "      tf.keras.metrics.TrueNegatives(name='tn'),\n",
        "      tf.keras.metrics.FalseNegatives(name='fn'), \n",
        "      tf.keras.metrics.BinaryAccuracy(name='accuracy'),\n",
        "      tf.keras.metrics.Precision(name='precision'),\n",
        "      tf.keras.metrics.Recall(name='recall'),\n",
        "      tf.keras.metrics.AUC(name='auc'),\n",
        "      tf.keras.metrics.AUC(name='prc', curve='PR'), # precision-recall curve\n",
        "]"
      ],
      "metadata": {
        "id": "oIPgmSnA5AiY"
      },
      "execution_count": 38,
      "outputs": []
    },
    {
      "cell_type": "code",
      "source": [
        "opt = tf.keras.optimizers.Adam()\n",
        "loss = tf.keras.losses.BinaryCrossentropy()\n",
        "input_shape = X_train.shape[-1]"
      ],
      "metadata": {
        "id": "mea1SUyz6X_e"
      },
      "execution_count": 39,
      "outputs": []
    },
    {
      "cell_type": "code",
      "source": [
        "#!pip install tensorflow_addons\n",
        "#import tensorflow_addons as tfa\n",
        "#fl = tfa.losses.SigmoidFocalCrossEntropy(alpha=0.0001, gamma=2.0)"
      ],
      "metadata": {
        "id": "-SQpQLXd6mak"
      },
      "execution_count": null,
      "outputs": []
    },
    {
      "cell_type": "code",
      "metadata": {
        "id": "HvynHebBz3KO"
      },
      "source": [
        "tf.random.set_seed(0)"
      ],
      "execution_count": 40,
      "outputs": []
    },
    {
      "cell_type": "markdown",
      "metadata": {
        "id": "KvdeScabXtlB"
      },
      "source": [
        "### Building the Model"
      ]
    },
    {
      "cell_type": "code",
      "source": [
        "def create_model(input_shape = input_shape, metrics=METRICS, optimizer= opt, loss_function = loss, output_bias=None):\n",
        "  if output_bias is not None:\n",
        "    output_bias = tf.keras.initializers.Constant(output_bias)\n",
        "  ann = tf.keras.models.Sequential()\n",
        "  ann.add(tf.keras.layers.Dense(input_shape = (input_shape, ), units=200, activation='relu'))\n",
        "  ann.add(tf.keras.layers.BatchNormalization())\n",
        "  ann.add(tf.keras.layers.Dropout(0.4))\n",
        "  ann.add(tf.keras.layers.Dense(units=100, activation='relu'))\n",
        "  ann.add(tf.keras.layers.BatchNormalization())\n",
        "  ann.add(tf.keras.layers.Dropout(0.4))\n",
        "  ann.add(tf.keras.layers.Dense(units=1, activation='sigmoid', bias_initializer = output_bias))\n",
        "  ann.compile(optimizer = opt, loss = loss_function, metrics=metrics)\n",
        "  return ann"
      ],
      "metadata": {
        "id": "L3nGOivi5X4C"
      },
      "execution_count": 41,
      "outputs": []
    },
    {
      "cell_type": "markdown",
      "metadata": {
        "id": "JT4u2S1_Y4WG"
      },
      "source": [
        "## Part 3 - Training the ANN"
      ]
    },
    {
      "cell_type": "code",
      "metadata": {
        "id": "4YRyzW-X2uAl"
      },
      "source": [
        "EPOCHS = 200\n",
        "BATCH_SIZE = 16\n",
        "val_data = (X_val, y_val)\n",
        "\n",
        "earlystopping = tf.keras.callbacks.EarlyStopping(monitor =\"val_prc\", \n",
        "                                        mode =\"max\", patience = 5, \n",
        "                                        restore_best_weights = True)"
      ],
      "execution_count": 42,
      "outputs": []
    },
    {
      "cell_type": "code",
      "source": [
        "initial_bias = np.log([pos/neg])"
      ],
      "metadata": {
        "id": "z6JAlZK67zAF"
      },
      "execution_count": 43,
      "outputs": []
    },
    {
      "cell_type": "code",
      "source": [
        "model = create_model(output_bias = initial_bias)\n",
        "model.summary()"
      ],
      "metadata": {
        "colab": {
          "base_uri": "https://localhost:8080/"
        },
        "id": "H6w51hwG7Kqd",
        "outputId": "7d5803ed-3fdc-4ab0-e7d5-ad96c2a3f63e"
      },
      "execution_count": 44,
      "outputs": [
        {
          "output_type": "stream",
          "name": "stdout",
          "text": [
            "Model: \"sequential_2\"\n",
            "_________________________________________________________________\n",
            " Layer (type)                Output Shape              Param #   \n",
            "=================================================================\n",
            " dense_6 (Dense)             (None, 200)               6000      \n",
            "                                                                 \n",
            " batch_normalization_4 (Batc  (None, 200)              800       \n",
            " hNormalization)                                                 \n",
            "                                                                 \n",
            " dropout_4 (Dropout)         (None, 200)               0         \n",
            "                                                                 \n",
            " dense_7 (Dense)             (None, 100)               20100     \n",
            "                                                                 \n",
            " batch_normalization_5 (Batc  (None, 100)              400       \n",
            " hNormalization)                                                 \n",
            "                                                                 \n",
            " dropout_5 (Dropout)         (None, 100)               0         \n",
            "                                                                 \n",
            " dense_8 (Dense)             (None, 1)                 101       \n",
            "                                                                 \n",
            "=================================================================\n",
            "Total params: 27,401\n",
            "Trainable params: 26,801\n",
            "Non-trainable params: 600\n",
            "_________________________________________________________________\n"
          ]
        }
      ]
    },
    {
      "cell_type": "code",
      "source": [
        "import tempfile\n",
        "import os"
      ],
      "metadata": {
        "id": "nxhLAAC38Jq7"
      },
      "execution_count": 45,
      "outputs": []
    },
    {
      "cell_type": "code",
      "source": [
        "initial_weights = os.path.join(tempfile.mkdtemp(), 'initial_weights')\n",
        "model.save_weights(initial_weights)"
      ],
      "metadata": {
        "id": "eTn36lS-8GqY"
      },
      "execution_count": 46,
      "outputs": []
    },
    {
      "cell_type": "code",
      "source": [
        "model = create_model()\n",
        "model.load_weights(initial_weights)\n",
        "model.layers[-1].bias.assign([0.0])\n",
        "zero_bias_history = model.fit(\n",
        "    X_train,\n",
        "    y_train,\n",
        "    batch_size=BATCH_SIZE,\n",
        "    epochs=20,\n",
        "    validation_data=val_data, \n",
        "    verbose=0)"
      ],
      "metadata": {
        "id": "0owYoiDZ8SkQ"
      },
      "execution_count": 47,
      "outputs": []
    },
    {
      "cell_type": "code",
      "source": [
        "model = create_model()\n",
        "model.load_weights(initial_weights)\n",
        "careful_bias_history = model.fit(\n",
        "    X_train,\n",
        "    y_train,\n",
        "    batch_size=BATCH_SIZE,\n",
        "    epochs=20,\n",
        "    validation_data=val_data, \n",
        "    verbose=0)"
      ],
      "metadata": {
        "id": "t1XoNtLJ8S0L"
      },
      "execution_count": 48,
      "outputs": []
    },
    {
      "cell_type": "code",
      "source": [
        "import matplotlib.pyplot as plt"
      ],
      "metadata": {
        "id": "rYYwBKsY8qHg"
      },
      "execution_count": 49,
      "outputs": []
    },
    {
      "cell_type": "code",
      "source": [
        "colors = plt.rcParams['axes.prop_cycle'].by_key()['color']"
      ],
      "metadata": {
        "id": "bu2EhuAt82oB"
      },
      "execution_count": 50,
      "outputs": []
    },
    {
      "cell_type": "code",
      "source": [
        "def plot_loss(history, label, n):\n",
        "  # Use a log scale on y-axis to show the wide range of values.\n",
        "  plt.semilogy(history.epoch, history.history['loss'],\n",
        "               color=colors[n], label='Train ' + label)\n",
        "  plt.semilogy(history.epoch, history.history['val_loss'],\n",
        "               color=colors[n], label='Val ' + label,\n",
        "               linestyle=\"--\")\n",
        "  plt.xlabel('Epoch')\n",
        "  plt.ylabel('Loss')"
      ],
      "metadata": {
        "id": "3AXTMWJi8i3k"
      },
      "execution_count": 51,
      "outputs": []
    },
    {
      "cell_type": "code",
      "source": [
        "plot_loss(zero_bias_history, \"Zero Bias\", 0)\n",
        "plot_loss(careful_bias_history, \"Careful Bias\", 1)"
      ],
      "metadata": {
        "colab": {
          "base_uri": "https://localhost:8080/",
          "height": 279
        },
        "id": "dt4qyAFq80Io",
        "outputId": "a5fac67c-cc66-4087-c203-59d7eba792ff"
      },
      "execution_count": 52,
      "outputs": [
        {
          "output_type": "display_data",
          "data": {
            "text/plain": [
              "<Figure size 432x288 with 1 Axes>"
            ],
            "image/png": "[encoded data removed]"
          },
          "metadata": {
            "needs_background": "light"
          }
        }
      ]
    },
    {
      "cell_type": "code",
      "source": [
        "model = create_model()\n",
        "model.load_weights(initial_weights)\n",
        "baseline_history = model.fit(\n",
        "    X_train,\n",
        "    y_train,\n",
        "    batch_size=BATCH_SIZE,\n",
        "    epochs=EPOCHS,\n",
        "    callbacks=[earlystopping],\n",
        "    validation_data=val_data)"
      ],
      "metadata": {
        "colab": {
          "base_uri": "https://localhost:8080/"
        },
        "id": "S6Om72oO83nO",
        "outputId": "5e6a1731-7a44-4254-cf3e-43f8535348c5"
      },
      "execution_count": 54,
      "outputs": [
        {
          "output_type": "stream",
          "name": "stdout",
          "text": [
            "Epoch 1/200\n",
            "40/40 [==============================] - 8s 57ms/step - loss: 0.1575 - tp: 5.0000 - fp: 21.0000 - tn: 808.0000 - fn: 24.0000 - accuracy: 0.9476 - precision: 0.1923 - recall: 0.1724 - auc: 0.8551 - prc: 0.2119 - val_loss: 0.1004 - val_tp: 1.0000 - val_fp: 5.0000 - val_tn: 216.0000 - val_fn: 4.0000 - val_accuracy: 0.9602 - val_precision: 0.1667 - val_recall: 0.2000 - val_auc: 0.8864 - val_prc: 0.2762\n",
            "Epoch 2/200\n",
            "40/40 [==============================] - 0s 5ms/step - loss: 0.1482 - tp: 5.0000 - fp: 8.0000 - tn: 600.0000 - fn: 19.0000 - accuracy: 0.9573 - precision: 0.3846 - recall: 0.2083 - auc: 0.8114 - prc: 0.2171 - val_loss: 0.1020 - val_tp: 1.0000 - val_fp: 2.0000 - val_tn: 219.0000 - val_fn: 4.0000 - val_accuracy: 0.9735 - val_precision: 0.3333 - val_recall: 0.2000 - val_auc: 0.8747 - val_prc: 0.2656\n",
            "Epoch 3/200\n",
            "40/40 [==============================] - 0s 5ms/step - loss: 0.1233 - tp: 6.0000 - fp: 10.0000 - tn: 598.0000 - fn: 18.0000 - accuracy: 0.9557 - precision: 0.3750 - recall: 0.2500 - auc: 0.8593 - prc: 0.3520 - val_loss: 0.0922 - val_tp: 1.0000 - val_fp: 1.0000 - val_tn: 220.0000 - val_fn: 4.0000 - val_accuracy: 0.9779 - val_precision: 0.5000 - val_recall: 0.2000 - val_auc: 0.8882 - val_prc: 0.3222\n",
            "Epoch 4/200\n",
            "40/40 [==============================] - 0s 6ms/step - loss: 0.0980 - tp: 7.0000 - fp: 9.0000 - tn: 599.0000 - fn: 17.0000 - accuracy: 0.9589 - precision: 0.4375 - recall: 0.2917 - auc: 0.9539 - prc: 0.4090 - val_loss: 0.1116 - val_tp: 1.0000 - val_fp: 6.0000 - val_tn: 215.0000 - val_fn: 4.0000 - val_accuracy: 0.9558 - val_precision: 0.1429 - val_recall: 0.2000 - val_auc: 0.8674 - val_prc: 0.2741\n",
            "Epoch 5/200\n",
            "40/40 [==============================] - 0s 5ms/step - loss: 0.1289 - tp: 3.0000 - fp: 10.0000 - tn: 598.0000 - fn: 21.0000 - accuracy: 0.9509 - precision: 0.2308 - recall: 0.1250 - auc: 0.8960 - prc: 0.2100 - val_loss: 0.0910 - val_tp: 1.0000 - val_fp: 2.0000 - val_tn: 219.0000 - val_fn: 4.0000 - val_accuracy: 0.9735 - val_precision: 0.3333 - val_recall: 0.2000 - val_auc: 0.8688 - val_prc: 0.2929\n",
            "Epoch 6/200\n",
            "40/40 [==============================] - 0s 4ms/step - loss: 0.1049 - tp: 7.0000 - fp: 10.0000 - tn: 598.0000 - fn: 17.0000 - accuracy: 0.9573 - precision: 0.4118 - recall: 0.2917 - auc: 0.9376 - prc: 0.4033 - val_loss: 0.0975 - val_tp: 1.0000 - val_fp: 4.0000 - val_tn: 217.0000 - val_fn: 4.0000 - val_accuracy: 0.9646 - val_precision: 0.2000 - val_recall: 0.2000 - val_auc: 0.8778 - val_prc: 0.2821\n",
            "Epoch 7/200\n",
            "40/40 [==============================] - 0s 5ms/step - loss: 0.0820 - tp: 7.0000 - fp: 5.0000 - tn: 603.0000 - fn: 17.0000 - accuracy: 0.9652 - precision: 0.5833 - recall: 0.2917 - auc: 0.9583 - prc: 0.5930 - val_loss: 0.1018 - val_tp: 1.0000 - val_fp: 3.0000 - val_tn: 218.0000 - val_fn: 4.0000 - val_accuracy: 0.9690 - val_precision: 0.2500 - val_recall: 0.2000 - val_auc: 0.8837 - val_prc: 0.2869\n",
            "Epoch 8/200\n",
            "40/40 [==============================] - 0s 6ms/step - loss: 0.0947 - tp: 7.0000 - fp: 6.0000 - tn: 602.0000 - fn: 17.0000 - accuracy: 0.9636 - precision: 0.5385 - recall: 0.2917 - auc: 0.9517 - prc: 0.4302 - val_loss: 0.1264 - val_tp: 1.0000 - val_fp: 8.0000 - val_tn: 213.0000 - val_fn: 4.0000 - val_accuracy: 0.9469 - val_precision: 0.1111 - val_recall: 0.2000 - val_auc: 0.8679 - val_prc: 0.2872\n"
          ]
        }
      ]
    },
    {
      "cell_type": "code",
      "source": [
        "def plot_metrics(history):\n",
        "  metrics = ['loss', 'prc', 'precision', 'recall']\n",
        "  for n, metric in enumerate(metrics):\n",
        "    name = metric.replace(\"_\",\" \").capitalize()\n",
        "    plt.subplot(2,2,n+1)\n",
        "    plt.plot(history.epoch, history.history[metric], color=colors[0], label='Train')\n",
        "    plt.plot(history.epoch, history.history['val_'+metric],\n",
        "             color=colors[0], linestyle=\"--\", label='Val')\n",
        "    plt.xlabel('Epoch')\n",
        "    plt.ylabel(name)\n",
        "    if metric == 'loss':\n",
        "      plt.ylim([0, plt.ylim()[1]])\n",
        "    elif metric == 'auc':\n",
        "      plt.ylim([0.8,1])\n",
        "    else:\n",
        "      plt.ylim([0,1])\n",
        "\n",
        "    plt.legend();"
      ],
      "metadata": {
        "id": "cYlo_GoD-tnK"
      },
      "execution_count": 55,
      "outputs": []
    },
    {
      "cell_type": "code",
      "source": [
        "plot_metrics(baseline_history)"
      ],
      "metadata": {
        "colab": {
          "base_uri": "https://localhost:8080/",
          "height": 283
        },
        "id": "CQ7oaeRr-vFn",
        "outputId": "69a565fe-d1d1-407e-98e0-1f7b46d50f97"
      },
      "execution_count": 56,
      "outputs": [
        {
          "output_type": "display_data",
          "data": {
            "text/plain": [
              "<Figure size 432x288 with 4 Axes>"
            ],
            "image/png": "[encoded data removed]"
          },
          "metadata": {
            "needs_background": "light"
          }
        }
      ]
    },
    {
      "cell_type": "code",
      "source": [
        "train_predictions_baseline = model.predict(X_train, batch_size=BATCH_SIZE)\n",
        "test_predictions_baseline = model.predict(X_val, batch_size=BATCH_SIZE)"
      ],
      "metadata": {
        "id": "EZDhRpZt-3gM"
      },
      "execution_count": 57,
      "outputs": []
    },
    {
      "cell_type": "code",
      "source": [
        "import seaborn as sns\n",
        "from sklearn.metrics import confusion_matrix"
      ],
      "metadata": {
        "id": "ztDOwwzm-7-m"
      },
      "execution_count": 63,
      "outputs": []
    },
    {
      "cell_type": "code",
      "source": [
        "def plot_cm(labels, predictions, p=0.5):\n",
        "  cm = confusion_matrix(labels, predictions > p)\n",
        "  plt.figure(figsize=(5,5))\n",
        "  sns.heatmap(cm, annot=True, fmt=\"d\")\n",
        "  plt.title('Confusion matrix @{:.2f}'.format(p))\n",
        "  plt.ylabel('Actual label')\n",
        "  plt.xlabel('Predicted label')\n",
        "\n",
        "  print('Legitimate Transactions Detected (True Negatives): ', cm[0][0])\n",
        "  print('Legitimate Transactions Incorrectly Detected (False Positives): ', cm[0][1])\n",
        "  print('Fraudulent Transactions Missed (False Negatives): ', cm[1][0])\n",
        "  print('Fraudulent Transactions Detected (True Positives): ', cm[1][1])\n",
        "  print('Total Fraudulent Transactions: ', np.sum(cm[1]))"
      ],
      "metadata": {
        "id": "ausxDFN9-4Pl"
      },
      "execution_count": 64,
      "outputs": []
    },
    {
      "cell_type": "code",
      "source": [
        "baseline_results = model.evaluate(X_val, y_val,\n",
        "                                  batch_size=BATCH_SIZE, verbose=0)\n",
        "for name, value in zip(model.metrics_names, baseline_results):\n",
        "  print(name, ': ', value)\n",
        "print()\n",
        "\n",
        "plot_cm(y_val, test_predictions_baseline)"
      ],
      "metadata": {
        "colab": {
          "base_uri": "https://localhost:8080/",
          "height": 636
        },
        "id": "mCpxP5_S_A-v",
        "outputId": "0d0c4592-f72f-4183-871d-aeaa19adbdea"
      },
      "execution_count": 65,
      "outputs": [
        {
          "output_type": "stream",
          "name": "stdout",
          "text": [
            "loss :  0.09223031252622604\n",
            "tp :  1.0\n",
            "fp :  1.0\n",
            "tn :  220.0\n",
            "fn :  4.0\n",
            "accuracy :  0.9778761267662048\n",
            "precision :  0.5\n",
            "recall :  0.20000000298023224\n",
            "auc :  0.8882352709770203\n",
            "prc :  0.32219281792640686\n",
            "\n",
            "Legitimate Transactions Detected (True Negatives):  220\n",
            "Legitimate Transactions Incorrectly Detected (False Positives):  1\n",
            "Fraudulent Transactions Missed (False Negatives):  4\n",
            "Fraudulent Transactions Detected (True Positives):  1\n",
            "Total Fraudulent Transactions:  5\n"
          ]
        },
        {
          "output_type": "display_data",
          "data": {
            "text/plain": [
              "<Figure size 360x360 with 2 Axes>"
            ],
            "image/png": "[encoded data removed]"
          },
          "metadata": {
            "needs_background": "light"
          }
        }
      ]
    },
    {
      "cell_type": "code",
      "source": [
        "import sklearn"
      ],
      "metadata": {
        "id": "Y73dBHdW_jbm"
      },
      "execution_count": 66,
      "outputs": []
    },
    {
      "cell_type": "code",
      "source": [
        "def plot_roc(name, labels, predictions, **kwargs):\n",
        "  fp, tp, _ = sklearn.metrics.roc_curve(labels, predictions)\n",
        "\n",
        "  plt.plot(100*fp, 100*tp, label=name, linewidth=2, **kwargs)\n",
        "  plt.xlabel('False positives [%]')\n",
        "  plt.ylabel('True positives [%]')\n",
        "  plt.xlim([-0.5,20])\n",
        "  plt.ylim([50,100.5])\n",
        "  plt.grid(True)\n",
        "  ax = plt.gca()\n",
        "  #ax.set_aspect('equal')"
      ],
      "metadata": {
        "id": "x19Hg8bT_fr_"
      },
      "execution_count": 77,
      "outputs": []
    },
    {
      "cell_type": "code",
      "source": [
        "plot_roc(\"Train Baseline\", y_train, train_predictions_baseline, color=colors[0])\n",
        "plot_roc(\"Test Baseline\", y_val, test_predictions_baseline, color=colors[0], linestyle='--')\n",
        "plt.legend(loc='center right');"
      ],
      "metadata": {
        "colab": {
          "base_uri": "https://localhost:8080/",
          "height": 281
        },
        "id": "f4w15Kx6_hAJ",
        "outputId": "29944a45-4026-4991-99d4-658bc771cfb1"
      },
      "execution_count": 78,
      "outputs": [
        {
          "output_type": "display_data",
          "data": {
            "text/plain": [
              "<Figure size 432x288 with 1 Axes>"
            ],
            "image/png": "[encoded data removed]"
          },
          "metadata": {
            "needs_background": "light"
          }
        }
      ]
    },
    {
      "cell_type": "code",
      "source": [
        "def plot_prc(name, labels, predictions, **kwargs):\n",
        "    precision, recall, _ = sklearn.metrics.precision_recall_curve(labels, predictions)\n",
        "\n",
        "    plt.plot(precision, recall, label=name, linewidth=2, **kwargs)\n",
        "    plt.xlabel('Precision')\n",
        "    plt.ylabel('Recall')\n",
        "    plt.grid(True)\n",
        "    ax = plt.gca()\n",
        "    ax.set_aspect('equal')"
      ],
      "metadata": {
        "id": "CnzPmgNJ_88I"
      },
      "execution_count": 81,
      "outputs": []
    },
    {
      "cell_type": "code",
      "source": [
        "plot_prc(\"Train Baseline\", y_train, train_predictions_baseline, color=colors[0])\n",
        "plot_prc(\"Test Baseline\", y_val, test_predictions_baseline, color=colors[0], linestyle='--')\n",
        "plt.legend(loc='lower right');"
      ],
      "metadata": {
        "colab": {
          "base_uri": "https://localhost:8080/",
          "height": 279
        },
        "id": "Ice6Qcll_-Ni",
        "outputId": "7bd42f6a-7300-4035-a53c-945e6921bedd"
      },
      "execution_count": 82,
      "outputs": [
        {
          "output_type": "display_data",
          "data": {
            "text/plain": [
              "<Figure size 432x288 with 1 Axes>"
            ],
            "image/png": "[encoded data removed]"
          },
          "metadata": {
            "needs_background": "light"
          }
        }
      ]
    },
    {
      "cell_type": "markdown",
      "source": [
        "## Class weights"
      ],
      "metadata": {
        "id": "NU9okwJmANIp"
      }
    },
    {
      "cell_type": "code",
      "source": [
        "weight_for_0 = (1 / neg) * (total / 2.0)\n",
        "weight_for_1 = (1 / pos) * (total / 2.0)\n",
        "\n",
        "class_weight = {0: weight_for_0, 1: weight_for_1}\n",
        "\n",
        "print('Weight for class 0: {:.2f}'.format(weight_for_0))\n",
        "print('Weight for class 1: {:.2f}'.format(weight_for_1))"
      ],
      "metadata": {
        "colab": {
          "base_uri": "https://localhost:8080/"
        },
        "id": "hZUHayf1ALTf",
        "outputId": "f337fb4c-00e2-45e7-929a-0808ad86df6a"
      },
      "execution_count": 83,
      "outputs": [
        {
          "output_type": "stream",
          "name": "stdout",
          "text": [
            "Weight for class 0: 0.52\n",
            "Weight for class 1: 14.56\n"
          ]
        }
      ]
    },
    {
      "cell_type": "code",
      "source": [
        "weighted_model = create_model()\n",
        "weighted_model.load_weights(initial_weights)\n",
        "\n",
        "weighted_history = weighted_model.fit(\n",
        "    X_train,\n",
        "    y_train,\n",
        "    batch_size=BATCH_SIZE,\n",
        "    epochs=EPOCHS,\n",
        "    callbacks=[earlystopping],\n",
        "    validation_data=val_data,\n",
        "    # The class weights go here\n",
        "    class_weight=class_weight)"
      ],
      "metadata": {
        "colab": {
          "base_uri": "https://localhost:8080/"
        },
        "id": "Gy8fZ8IxARcX",
        "outputId": "b881b692-b5b8-43a2-dbf1-7f8fb167fa1e"
      },
      "execution_count": 85,
      "outputs": [
        {
          "output_type": "stream",
          "name": "stdout",
          "text": [
            "Epoch 1/200\n",
            "40/40 [==============================] - 6s 30ms/step - loss: 0.5016 - tp: 19.0000 - fp: 81.0000 - tn: 748.0000 - fn: 10.0000 - accuracy: 0.8939 - precision: 0.1900 - recall: 0.6552 - auc: 0.8972 - prc: 0.2430 - val_loss: 0.4081 - val_tp: 4.0000 - val_fp: 43.0000 - val_tn: 178.0000 - val_fn: 1.0000 - val_accuracy: 0.8053 - val_precision: 0.0851 - val_recall: 0.8000 - val_auc: 0.9086 - val_prc: 0.2250\n",
            "Epoch 2/200\n",
            "40/40 [==============================] - 0s 6ms/step - loss: 0.7027 - tp: 18.0000 - fp: 100.0000 - tn: 508.0000 - fn: 6.0000 - accuracy: 0.8323 - precision: 0.1525 - recall: 0.7500 - auc: 0.8630 - prc: 0.2658 - val_loss: 0.5776 - val_tp: 3.0000 - val_fp: 44.0000 - val_tn: 177.0000 - val_fn: 2.0000 - val_accuracy: 0.7965 - val_precision: 0.0638 - val_recall: 0.6000 - val_auc: 0.8652 - val_prc: 0.0925\n",
            "Epoch 3/200\n",
            "40/40 [==============================] - 0s 4ms/step - loss: 0.3805 - tp: 22.0000 - fp: 104.0000 - tn: 504.0000 - fn: 2.0000 - accuracy: 0.8323 - precision: 0.1746 - recall: 0.9167 - auc: 0.9393 - prc: 0.3664 - val_loss: 0.4545 - val_tp: 4.0000 - val_fp: 38.0000 - val_tn: 183.0000 - val_fn: 1.0000 - val_accuracy: 0.8274 - val_precision: 0.0952 - val_recall: 0.8000 - val_auc: 0.8575 - val_prc: 0.1123\n",
            "Epoch 4/200\n",
            "40/40 [==============================] - 0s 5ms/step - loss: 0.2482 - tp: 23.0000 - fp: 81.0000 - tn: 527.0000 - fn: 1.0000 - accuracy: 0.8703 - precision: 0.2212 - recall: 0.9583 - auc: 0.9612 - prc: 0.4106 - val_loss: 0.4662 - val_tp: 4.0000 - val_fp: 42.0000 - val_tn: 179.0000 - val_fn: 1.0000 - val_accuracy: 0.8097 - val_precision: 0.0870 - val_recall: 0.8000 - val_auc: 0.8805 - val_prc: 0.1493\n",
            "Epoch 5/200\n",
            "40/40 [==============================] - 0s 5ms/step - loss: 0.3156 - tp: 23.0000 - fp: 86.0000 - tn: 522.0000 - fn: 1.0000 - accuracy: 0.8623 - precision: 0.2110 - recall: 0.9583 - auc: 0.9357 - prc: 0.2311 - val_loss: 0.5655 - val_tp: 4.0000 - val_fp: 50.0000 - val_tn: 171.0000 - val_fn: 1.0000 - val_accuracy: 0.7743 - val_precision: 0.0741 - val_recall: 0.8000 - val_auc: 0.8842 - val_prc: 0.2160\n",
            "Epoch 6/200\n",
            "40/40 [==============================] - 0s 5ms/step - loss: 0.3104 - tp: 23.0000 - fp: 82.0000 - tn: 526.0000 - fn: 1.0000 - accuracy: 0.8687 - precision: 0.2190 - recall: 0.9583 - auc: 0.9491 - prc: 0.3929 - val_loss: 0.4674 - val_tp: 4.0000 - val_fp: 39.0000 - val_tn: 182.0000 - val_fn: 1.0000 - val_accuracy: 0.8230 - val_precision: 0.0930 - val_recall: 0.8000 - val_auc: 0.8715 - val_prc: 0.1256\n"
          ]
        }
      ]
    },
    {
      "cell_type": "code",
      "source": [
        "plot_metrics(weighted_history)"
      ],
      "metadata": {
        "colab": {
          "base_uri": "https://localhost:8080/",
          "height": 283
        },
        "id": "k6awC7LbAetK",
        "outputId": "c16b23ac-cacf-4618-8150-4ce11558330e"
      },
      "execution_count": 86,
      "outputs": [
        {
          "output_type": "display_data",
          "data": {
            "text/plain": [
              "<Figure size 432x288 with 4 Axes>"
            ],
            "image/png": "[encoded data removed]"
          },
          "metadata": {
            "needs_background": "light"
          }
        }
      ]
    },
    {
      "cell_type": "code",
      "source": [
        "train_predictions_weighted = weighted_model.predict(X_train, batch_size=BATCH_SIZE)\n",
        "test_predictions_weighted = weighted_model.predict(X_val, batch_size=BATCH_SIZE)"
      ],
      "metadata": {
        "id": "U_oV5gxvAi-Z"
      },
      "execution_count": 88,
      "outputs": []
    },
    {
      "cell_type": "code",
      "source": [
        "weighted_results = weighted_model.evaluate(X_val, y_val,\n",
        "                                           batch_size=BATCH_SIZE, verbose=0)\n",
        "for name, value in zip(weighted_model.metrics_names, weighted_results):\n",
        "  print(name, ': ', value)\n",
        "print()\n",
        "\n",
        "plot_cm(y_val, test_predictions_weighted)"
      ],
      "metadata": {
        "colab": {
          "base_uri": "https://localhost:8080/",
          "height": 636
        },
        "id": "Ne3zRAqMAlTZ",
        "outputId": "600ec08d-37e2-484e-fb82-2f9ffd471a51"
      },
      "execution_count": 89,
      "outputs": [
        {
          "output_type": "stream",
          "name": "stdout",
          "text": [
            "loss :  0.40811657905578613\n",
            "tp :  4.0\n",
            "fp :  43.0\n",
            "tn :  178.0\n",
            "fn :  1.0\n",
            "accuracy :  0.8053097128868103\n",
            "precision :  0.08510638028383255\n",
            "recall :  0.800000011920929\n",
            "auc :  0.9085972309112549\n",
            "prc :  0.2249782532453537\n",
            "\n",
            "Legitimate Transactions Detected (True Negatives):  178\n",
            "Legitimate Transactions Incorrectly Detected (False Positives):  43\n",
            "Fraudulent Transactions Missed (False Negatives):  1\n",
            "Fraudulent Transactions Detected (True Positives):  4\n",
            "Total Fraudulent Transactions:  5\n"
          ]
        },
        {
          "output_type": "display_data",
          "data": {
            "text/plain": [
              "<Figure size 360x360 with 2 Axes>"
            ],
            "image/png": "[encoded data removed]"
          },
          "metadata": {
            "needs_background": "light"
          }
        }
      ]
    },
    {
      "cell_type": "code",
      "source": [
        "plot_roc(\"Train Baseline\", y_train, train_predictions_baseline, color=colors[0])\n",
        "plot_roc(\"Test Baseline\", y_val, test_predictions_baseline, color=colors[0], linestyle='--')\n",
        "\n",
        "plot_roc(\"Train Weighted\", y_train, train_predictions_weighted, color=colors[1])\n",
        "plot_roc(\"Test Weighted\", y_val, test_predictions_weighted, color=colors[1], linestyle='--')\n",
        "\n",
        "\n",
        "plt.legend(loc='lower right');"
      ],
      "metadata": {
        "colab": {
          "base_uri": "https://localhost:8080/",
          "height": 281
        },
        "id": "_83Dh1N1BCZV",
        "outputId": "785c0147-b6e9-417f-b746-1efae5dea031"
      },
      "execution_count": 90,
      "outputs": [
        {
          "output_type": "display_data",
          "data": {
            "text/plain": [
              "<Figure size 432x288 with 1 Axes>"
            ],
            "image/png": "[encoded data removed]"
          },
          "metadata": {
            "needs_background": "light"
          }
        }
      ]
    },
    {
      "cell_type": "code",
      "source": [
        "plot_prc(\"Train Baseline\", y_train, train_predictions_baseline, color=colors[0])\n",
        "plot_prc(\"Test Baseline\", y_val, test_predictions_baseline, color=colors[0], linestyle='--')\n",
        "\n",
        "plot_prc(\"Train Weighted\", y_train, train_predictions_weighted, color=colors[1])\n",
        "plot_prc(\"Test Weighted\", y_val, test_predictions_weighted, color=colors[1], linestyle='--')\n",
        "\n",
        "\n",
        "plt.legend(loc='lower right');"
      ],
      "metadata": {
        "colab": {
          "base_uri": "https://localhost:8080/",
          "height": 279
        },
        "id": "bzaxZ8t5BMi6",
        "outputId": "205004ff-647e-4993-a036-1e1f8b31f01e"
      },
      "execution_count": 91,
      "outputs": [
        {
          "output_type": "display_data",
          "data": {
            "text/plain": [
              "<Figure size 432x288 with 1 Axes>"
            ],
            "image/png": "[encoded data removed]"
          },
          "metadata": {
            "needs_background": "light"
          }
        }
      ]
    },
    {
      "cell_type": "code",
      "source": [
        "bool_train_labels = y_train != 0"
      ],
      "metadata": {
        "id": "h2DXkr5TBZQn"
      },
      "execution_count": 94,
      "outputs": []
    },
    {
      "cell_type": "code",
      "source": [
        "pos_X_train = X_train[bool_train_labels]\n",
        "neg_X_train = X_train[~bool_train_labels]\n",
        "\n",
        "pos_y_train = y_train[bool_train_labels]\n",
        "neg_y_train = y_train[~bool_train_labels]"
      ],
      "metadata": {
        "id": "g0qCpwCGBSu5"
      },
      "execution_count": 95,
      "outputs": []
    },
    {
      "cell_type": "code",
      "source": [
        "ids = np.arange(len(pos_X_train))\n",
        "choices = np.random.choice(ids, len(neg_X_train))\n",
        "\n",
        "res_pos_X_train = pos_X_train[choices]\n",
        "res_pos_y_train = pos_y_train[choices]\n",
        "\n",
        "res_pos_X_train.shape"
      ],
      "metadata": {
        "colab": {
          "base_uri": "https://localhost:8080/"
        },
        "id": "NFj96fe7BuXl",
        "outputId": "98f08af3-4bd5-4887-dcf4-023b93bf7cad"
      },
      "execution_count": 97,
      "outputs": [
        {
          "output_type": "execute_result",
          "data": {
            "text/plain": [
              "(608, 29)"
            ]
          },
          "metadata": {},
          "execution_count": 97
        }
      ]
    },
    {
      "cell_type": "code",
      "source": [
        "resampled_features = np.concatenate([res_pos_X_train, neg_X_train], axis=0)\n",
        "resampled_labels = np.concatenate([res_pos_y_train, neg_y_train], axis=0)\n",
        "\n",
        "order = np.arange(len(resampled_labels))\n",
        "np.random.shuffle(order)\n",
        "resampled_features = resampled_features[order]\n",
        "resampled_labels = resampled_labels[order]\n",
        "\n",
        "resampled_features.shape"
      ],
      "metadata": {
        "colab": {
          "base_uri": "https://localhost:8080/"
        },
        "id": "ShAWa5pNCAvM",
        "outputId": "439932fa-28ba-4a79-df88-0aea6808f8cb"
      },
      "execution_count": 98,
      "outputs": [
        {
          "output_type": "execute_result",
          "data": {
            "text/plain": [
              "(1216, 29)"
            ]
          },
          "metadata": {},
          "execution_count": 98
        }
      ]
    },
    {
      "cell_type": "code",
      "source": [
        "resampled_model = create_model()\n",
        "resampled_model.load_weights(initial_weights)"
      ],
      "metadata": {
        "colab": {
          "base_uri": "https://localhost:8080/"
        },
        "id": "kN5StVpKCuSN",
        "outputId": "db4a88fb-0efa-449d-d1cf-8cb5bb58da4f"
      },
      "execution_count": 99,
      "outputs": [
        {
          "output_type": "execute_result",
          "data": {
            "text/plain": [
              "<tensorflow.python.training.tracking.util.CheckpointLoadStatus at 0x7f7b01d31cd0>"
            ]
          },
          "metadata": {},
          "execution_count": 99
        }
      ]
    },
    {
      "cell_type": "code",
      "source": [
        "# Reset the bias to zero, since this dataset is balanced.\n",
        "output_layer = resampled_model.layers[-1] \n",
        "output_layer.bias.assign([0])"
      ],
      "metadata": {
        "colab": {
          "base_uri": "https://localhost:8080/"
        },
        "id": "9AsPKSS6CxBz",
        "outputId": "10cc76b8-579a-4103-93fe-31fc99eb6c00"
      },
      "execution_count": 100,
      "outputs": [
        {
          "output_type": "execute_result",
          "data": {
            "text/plain": [
              "<tf.Variable 'UnreadVariable' shape=(1,) dtype=float32, numpy=array([0.], dtype=float32)>"
            ]
          },
          "metadata": {},
          "execution_count": 100
        }
      ]
    },
    {
      "cell_type": "code",
      "source": [
        "val_ds = tf.data.Dataset.from_tensor_slices(val_data).cache()\n",
        "val_ds = val_ds.batch(BATCH_SIZE).prefetch(2) "
      ],
      "metadata": {
        "id": "iZtvyezpC1-7"
      },
      "execution_count": 101,
      "outputs": []
    },
    {
      "cell_type": "code",
      "source": [
        "resampled_steps_per_epoch = np.ceil(2.0*neg/BATCH_SIZE)"
      ],
      "metadata": {
        "id": "e4EEFbnUDJ1m"
      },
      "execution_count": 102,
      "outputs": []
    },
    {
      "cell_type": "code",
      "source": [
        "resampled_history = resampled_model.fit(\n",
        "    resampled_features,\n",
        "    resampled_labels,\n",
        "    epochs=EPOCHS,\n",
        "    steps_per_epoch=resampled_steps_per_epoch,\n",
        "    callbacks=[earlystopping],\n",
        "    validation_data=val_ds)"
      ],
      "metadata": {
        "colab": {
          "base_uri": "https://localhost:8080/"
        },
        "id": "U0291djiC7Qq",
        "outputId": "da706364-6807-4d13-a64a-aa83cb0d6c19"
      },
      "execution_count": 103,
      "outputs": [
        {
          "output_type": "stream",
          "name": "stdout",
          "text": [
            "Epoch 1/200\n",
            "109/109 [==============================] - 4s 12ms/step - loss: 0.3667 - tp: 577.0000 - fp: 151.0000 - tn: 722.0000 - fn: 76.0000 - accuracy: 0.8512 - precision: 0.7926 - recall: 0.8836 - auc: 0.9268 - prc: 0.8844 - val_loss: 0.7270 - val_tp: 4.0000 - val_fp: 51.0000 - val_tn: 170.0000 - val_fn: 1.0000 - val_accuracy: 0.7699 - val_precision: 0.0727 - val_recall: 0.8000 - val_auc: 0.8864 - val_prc: 0.1481\n",
            "Epoch 2/200\n",
            "109/109 [==============================] - 0s 3ms/step - loss: 0.1980 - tp: 626.0000 - fp: 54.0000 - tn: 584.0000 - fn: 36.0000 - accuracy: 0.9308 - precision: 0.9206 - recall: 0.9456 - auc: 0.9725 - prc: 0.9576 - val_loss: 0.4349 - val_tp: 4.0000 - val_fp: 34.0000 - val_tn: 187.0000 - val_fn: 1.0000 - val_accuracy: 0.8451 - val_precision: 0.1053 - val_recall: 0.8000 - val_auc: 0.8760 - val_prc: 0.3795\n",
            "Epoch 3/200\n",
            "109/109 [==============================] - 0s 4ms/step - loss: 0.1921 - tp: 613.0000 - fp: 54.0000 - tn: 613.0000 - fn: 20.0000 - accuracy: 0.9431 - precision: 0.9190 - recall: 0.9684 - auc: 0.9705 - prc: 0.9476 - val_loss: 0.3595 - val_tp: 3.0000 - val_fp: 27.0000 - val_tn: 194.0000 - val_fn: 2.0000 - val_accuracy: 0.8717 - val_precision: 0.1000 - val_recall: 0.6000 - val_auc: 0.8679 - val_prc: 0.2186\n",
            "Epoch 4/200\n",
            "109/109 [==============================] - 0s 4ms/step - loss: 0.1466 - tp: 652.0000 - fp: 46.0000 - tn: 581.0000 - fn: 21.0000 - accuracy: 0.9485 - precision: 0.9341 - recall: 0.9688 - auc: 0.9831 - prc: 0.9779 - val_loss: 0.3013 - val_tp: 3.0000 - val_fp: 26.0000 - val_tn: 195.0000 - val_fn: 2.0000 - val_accuracy: 0.8761 - val_precision: 0.1034 - val_recall: 0.6000 - val_auc: 0.9050 - val_prc: 0.4141\n",
            "Epoch 5/200\n",
            "109/109 [==============================] - 0s 4ms/step - loss: 0.1550 - tp: 609.0000 - fp: 52.0000 - tn: 618.0000 - fn: 21.0000 - accuracy: 0.9438 - precision: 0.9213 - recall: 0.9667 - auc: 0.9822 - prc: 0.9731 - val_loss: 0.3112 - val_tp: 2.0000 - val_fp: 24.0000 - val_tn: 197.0000 - val_fn: 3.0000 - val_accuracy: 0.8805 - val_precision: 0.0769 - val_recall: 0.4000 - val_auc: 0.8756 - val_prc: 0.3702\n",
            "Epoch 6/200\n",
            "109/109 [==============================] - 0s 3ms/step - loss: 0.1431 - tp: 644.0000 - fp: 39.0000 - tn: 600.0000 - fn: 17.0000 - accuracy: 0.9569 - precision: 0.9429 - recall: 0.9743 - auc: 0.9822 - prc: 0.9709 - val_loss: 0.2917 - val_tp: 3.0000 - val_fp: 24.0000 - val_tn: 197.0000 - val_fn: 2.0000 - val_accuracy: 0.8850 - val_precision: 0.1111 - val_recall: 0.6000 - val_auc: 0.8914 - val_prc: 0.4538\n",
            "Epoch 7/200\n",
            "109/109 [==============================] - 0s 3ms/step - loss: 0.1511 - tp: 622.0000 - fp: 42.0000 - tn: 615.0000 - fn: 21.0000 - accuracy: 0.9515 - precision: 0.9367 - recall: 0.9673 - auc: 0.9826 - prc: 0.9748 - val_loss: 0.3138 - val_tp: 3.0000 - val_fp: 23.0000 - val_tn: 198.0000 - val_fn: 2.0000 - val_accuracy: 0.8894 - val_precision: 0.1154 - val_recall: 0.6000 - val_auc: 0.8973 - val_prc: 0.4093\n",
            "Epoch 8/200\n",
            "109/109 [==============================] - 0s 3ms/step - loss: 0.1445 - tp: 612.0000 - fp: 39.0000 - tn: 630.0000 - fn: 19.0000 - accuracy: 0.9554 - precision: 0.9401 - recall: 0.9699 - auc: 0.9846 - prc: 0.9777 - val_loss: 0.2761 - val_tp: 2.0000 - val_fp: 21.0000 - val_tn: 200.0000 - val_fn: 3.0000 - val_accuracy: 0.8938 - val_precision: 0.0870 - val_recall: 0.4000 - val_auc: 0.8489 - val_prc: 0.4494\n",
            "Epoch 9/200\n",
            "109/109 [==============================] - 0s 3ms/step - loss: 0.1383 - tp: 639.0000 - fp: 31.0000 - tn: 601.0000 - fn: 29.0000 - accuracy: 0.9538 - precision: 0.9537 - recall: 0.9566 - auc: 0.9861 - prc: 0.9795 - val_loss: 0.3706 - val_tp: 3.0000 - val_fp: 26.0000 - val_tn: 195.0000 - val_fn: 2.0000 - val_accuracy: 0.8761 - val_precision: 0.1034 - val_recall: 0.6000 - val_auc: 0.8941 - val_prc: 0.2529\n",
            "Epoch 10/200\n",
            "109/109 [==============================] - 0s 4ms/step - loss: 0.1525 - tp: 625.0000 - fp: 43.0000 - tn: 607.0000 - fn: 25.0000 - accuracy: 0.9477 - precision: 0.9356 - recall: 0.9615 - auc: 0.9822 - prc: 0.9694 - val_loss: 0.2330 - val_tp: 2.0000 - val_fp: 17.0000 - val_tn: 204.0000 - val_fn: 3.0000 - val_accuracy: 0.9115 - val_precision: 0.1053 - val_recall: 0.4000 - val_auc: 0.7968 - val_prc: 0.2910\n",
            "Epoch 11/200\n",
            "109/109 [==============================] - 0s 3ms/step - loss: 0.1063 - tp: 648.0000 - fp: 29.0000 - tn: 613.0000 - fn: 10.0000 - accuracy: 0.9700 - precision: 0.9572 - recall: 0.9848 - auc: 0.9908 - prc: 0.9872 - val_loss: 0.2667 - val_tp: 3.0000 - val_fp: 22.0000 - val_tn: 199.0000 - val_fn: 2.0000 - val_accuracy: 0.8938 - val_precision: 0.1200 - val_recall: 0.6000 - val_auc: 0.8932 - val_prc: 0.3765\n"
          ]
        }
      ]
    },
    {
      "cell_type": "code",
      "source": [
        "plot_metrics(resampled_history)"
      ],
      "metadata": {
        "colab": {
          "base_uri": "https://localhost:8080/",
          "height": 283
        },
        "id": "4My-OE4IDhzd",
        "outputId": "6cc362ea-2a8c-415a-b26d-d2890ce4e60a"
      },
      "execution_count": 104,
      "outputs": [
        {
          "output_type": "display_data",
          "data": {
            "text/plain": [
              "<Figure size 432x288 with 4 Axes>"
            ],
            "image/png": "[encoded data removed]"
          },
          "metadata": {
            "needs_background": "light"
          }
        }
      ]
    },
    {
      "cell_type": "code",
      "source": [
        "resampled_history = resampled_model.fit(\n",
        "    resampled_features,\n",
        "    resampled_labels,    \n",
        "    steps_per_epoch=20,# These are not real epochs\n",
        "    epochs=10*EPOCHS,\n",
        "    callbacks=[earlystopping],\n",
        "    validation_data=(val_ds))"
      ],
      "metadata": {
        "colab": {
          "base_uri": "https://localhost:8080/"
        },
        "id": "ULTa3SisDo4-",
        "outputId": "5a2a6c1f-e572-4289-8e79-3237101ecc81"
      },
      "execution_count": 105,
      "outputs": [
        {
          "output_type": "stream",
          "name": "stdout",
          "text": [
            "Epoch 1/2000\n",
            "20/20 [==============================] - 0s 10ms/step - loss: 0.0977 - tp: 606.0000 - fp: 31.0000 - tn: 577.0000 - fn: 2.0000 - accuracy: 0.9729 - precision: 0.9513 - recall: 0.9967 - auc: 0.9915 - prc: 0.9845 - val_loss: 0.2942 - val_tp: 3.0000 - val_fp: 24.0000 - val_tn: 197.0000 - val_fn: 2.0000 - val_accuracy: 0.8850 - val_precision: 0.1111 - val_recall: 0.6000 - val_auc: 0.8864 - val_prc: 0.3375\n",
            "Epoch 2/2000\n",
            "20/20 [==============================] - 0s 8ms/step - loss: 0.0887 - tp: 607.0000 - fp: 25.0000 - tn: 583.0000 - fn: 1.0000 - accuracy: 0.9786 - precision: 0.9604 - recall: 0.9984 - auc: 0.9902 - prc: 0.9843 - val_loss: 0.2987 - val_tp: 3.0000 - val_fp: 24.0000 - val_tn: 197.0000 - val_fn: 2.0000 - val_accuracy: 0.8850 - val_precision: 0.1111 - val_recall: 0.6000 - val_auc: 0.8878 - val_prc: 0.3521\n",
            "Epoch 3/2000\n",
            "20/20 [==============================] - 0s 11ms/step - loss: 0.0805 - tp: 605.0000 - fp: 29.0000 - tn: 579.0000 - fn: 3.0000 - accuracy: 0.9737 - precision: 0.9543 - recall: 0.9951 - auc: 0.9952 - prc: 0.9924 - val_loss: 0.2838 - val_tp: 2.0000 - val_fp: 22.0000 - val_tn: 199.0000 - val_fn: 3.0000 - val_accuracy: 0.8894 - val_precision: 0.0833 - val_recall: 0.4000 - val_auc: 0.8095 - val_prc: 0.3441\n",
            "Epoch 4/2000\n",
            "20/20 [==============================] - 0s 14ms/step - loss: 0.0645 - tp: 608.0000 - fp: 18.0000 - tn: 590.0000 - fn: 0.0000e+00 - accuracy: 0.9852 - precision: 0.9712 - recall: 1.0000 - auc: 0.9960 - prc: 0.9948 - val_loss: 0.2862 - val_tp: 2.0000 - val_fp: 23.0000 - val_tn: 198.0000 - val_fn: 3.0000 - val_accuracy: 0.8850 - val_precision: 0.0800 - val_recall: 0.4000 - val_auc: 0.8109 - val_prc: 0.3631\n",
            "Epoch 5/2000\n",
            "20/20 [==============================] - 0s 11ms/step - loss: 0.0760 - tp: 606.0000 - fp: 21.0000 - tn: 587.0000 - fn: 2.0000 - accuracy: 0.9811 - precision: 0.9665 - recall: 0.9967 - auc: 0.9919 - prc: 0.9839 - val_loss: 0.2892 - val_tp: 2.0000 - val_fp: 23.0000 - val_tn: 198.0000 - val_fn: 3.0000 - val_accuracy: 0.8850 - val_precision: 0.0800 - val_recall: 0.4000 - val_auc: 0.8127 - val_prc: 0.3635\n",
            "Epoch 6/2000\n",
            "20/20 [==============================] - 0s 12ms/step - loss: 0.0671 - tp: 607.0000 - fp: 18.0000 - tn: 590.0000 - fn: 1.0000 - accuracy: 0.9844 - precision: 0.9712 - recall: 0.9984 - auc: 0.9943 - prc: 0.9895 - val_loss: 0.2773 - val_tp: 2.0000 - val_fp: 22.0000 - val_tn: 199.0000 - val_fn: 3.0000 - val_accuracy: 0.8894 - val_precision: 0.0833 - val_recall: 0.4000 - val_auc: 0.8118 - val_prc: 0.3631\n",
            "Epoch 7/2000\n",
            "20/20 [==============================] - 0s 11ms/step - loss: 0.0760 - tp: 602.0000 - fp: 22.0000 - tn: 586.0000 - fn: 6.0000 - accuracy: 0.9770 - precision: 0.9647 - recall: 0.9901 - auc: 0.9949 - prc: 0.9937 - val_loss: 0.2870 - val_tp: 3.0000 - val_fp: 24.0000 - val_tn: 197.0000 - val_fn: 2.0000 - val_accuracy: 0.8850 - val_precision: 0.1111 - val_recall: 0.6000 - val_auc: 0.8149 - val_prc: 0.3640\n",
            "Epoch 8/2000\n",
            "20/20 [==============================] - 0s 10ms/step - loss: 0.0650 - tp: 608.0000 - fp: 17.0000 - tn: 591.0000 - fn: 0.0000e+00 - accuracy: 0.9860 - precision: 0.9728 - recall: 1.0000 - auc: 0.9950 - prc: 0.9920 - val_loss: 0.2925 - val_tp: 2.0000 - val_fp: 21.0000 - val_tn: 200.0000 - val_fn: 3.0000 - val_accuracy: 0.8938 - val_precision: 0.0870 - val_recall: 0.4000 - val_auc: 0.8158 - val_prc: 0.3639\n",
            "Epoch 9/2000\n",
            "20/20 [==============================] - 0s 11ms/step - loss: 0.0801 - tp: 606.0000 - fp: 25.0000 - tn: 583.0000 - fn: 2.0000 - accuracy: 0.9778 - precision: 0.9604 - recall: 0.9967 - auc: 0.9933 - prc: 0.9897 - val_loss: 0.2785 - val_tp: 2.0000 - val_fp: 21.0000 - val_tn: 200.0000 - val_fn: 3.0000 - val_accuracy: 0.8938 - val_precision: 0.0870 - val_recall: 0.4000 - val_auc: 0.8145 - val_prc: 0.3638\n",
            "Epoch 10/2000\n",
            "20/20 [==============================] - 0s 10ms/step - loss: 0.0601 - tp: 606.0000 - fp: 15.0000 - tn: 593.0000 - fn: 2.0000 - accuracy: 0.9860 - precision: 0.9758 - recall: 0.9967 - auc: 0.9965 - prc: 0.9957 - val_loss: 0.2825 - val_tp: 2.0000 - val_fp: 20.0000 - val_tn: 201.0000 - val_fn: 3.0000 - val_accuracy: 0.8982 - val_precision: 0.0909 - val_recall: 0.4000 - val_auc: 0.8163 - val_prc: 0.3639\n",
            "Epoch 11/2000\n",
            "20/20 [==============================] - 0s 11ms/step - loss: 0.0606 - tp: 605.0000 - fp: 17.0000 - tn: 591.0000 - fn: 3.0000 - accuracy: 0.9836 - precision: 0.9727 - recall: 0.9951 - auc: 0.9960 - prc: 0.9949 - val_loss: 0.2733 - val_tp: 2.0000 - val_fp: 20.0000 - val_tn: 201.0000 - val_fn: 3.0000 - val_accuracy: 0.8982 - val_precision: 0.0909 - val_recall: 0.4000 - val_auc: 0.8176 - val_prc: 0.3645\n",
            "Epoch 12/2000\n",
            "20/20 [==============================] - 0s 12ms/step - loss: 0.0655 - tp: 604.0000 - fp: 13.0000 - tn: 595.0000 - fn: 4.0000 - accuracy: 0.9860 - precision: 0.9789 - recall: 0.9934 - auc: 0.9933 - prc: 0.9880 - val_loss: 0.2784 - val_tp: 2.0000 - val_fp: 21.0000 - val_tn: 200.0000 - val_fn: 3.0000 - val_accuracy: 0.8938 - val_precision: 0.0870 - val_recall: 0.4000 - val_auc: 0.8213 - val_prc: 0.4463\n",
            "Epoch 13/2000\n",
            "20/20 [==============================] - 0s 9ms/step - loss: 0.0588 - tp: 608.0000 - fp: 19.0000 - tn: 589.0000 - fn: 0.0000e+00 - accuracy: 0.9844 - precision: 0.9697 - recall: 1.0000 - auc: 0.9954 - prc: 0.9927 - val_loss: 0.2692 - val_tp: 2.0000 - val_fp: 19.0000 - val_tn: 202.0000 - val_fn: 3.0000 - val_accuracy: 0.9027 - val_precision: 0.0952 - val_recall: 0.4000 - val_auc: 0.8172 - val_prc: 0.3738\n",
            "Epoch 14/2000\n",
            "20/20 [==============================] - 0s 11ms/step - loss: 0.0546 - tp: 608.0000 - fp: 18.0000 - tn: 590.0000 - fn: 0.0000e+00 - accuracy: 0.9852 - precision: 0.9712 - recall: 1.0000 - auc: 0.9966 - prc: 0.9955 - val_loss: 0.2642 - val_tp: 2.0000 - val_fp: 19.0000 - val_tn: 202.0000 - val_fn: 3.0000 - val_accuracy: 0.9027 - val_precision: 0.0952 - val_recall: 0.4000 - val_auc: 0.8190 - val_prc: 0.4456\n",
            "Epoch 15/2000\n",
            "20/20 [==============================] - 0s 11ms/step - loss: 0.0505 - tp: 607.0000 - fp: 14.0000 - tn: 594.0000 - fn: 1.0000 - accuracy: 0.9877 - precision: 0.9775 - recall: 0.9984 - auc: 0.9966 - prc: 0.9944 - val_loss: 0.2667 - val_tp: 2.0000 - val_fp: 20.0000 - val_tn: 201.0000 - val_fn: 3.0000 - val_accuracy: 0.8982 - val_precision: 0.0909 - val_recall: 0.4000 - val_auc: 0.8226 - val_prc: 0.4473\n",
            "Epoch 16/2000\n",
            "20/20 [==============================] - 0s 9ms/step - loss: 0.0602 - tp: 608.0000 - fp: 21.0000 - tn: 587.0000 - fn: 0.0000e+00 - accuracy: 0.9827 - precision: 0.9666 - recall: 1.0000 - auc: 0.9962 - prc: 0.9940 - val_loss: 0.2600 - val_tp: 2.0000 - val_fp: 19.0000 - val_tn: 202.0000 - val_fn: 3.0000 - val_accuracy: 0.9027 - val_precision: 0.0952 - val_recall: 0.4000 - val_auc: 0.8231 - val_prc: 0.4474\n",
            "Epoch 17/2000\n",
            "20/20 [==============================] - 0s 11ms/step - loss: 0.0602 - tp: 608.0000 - fp: 16.0000 - tn: 592.0000 - fn: 0.0000e+00 - accuracy: 0.9868 - precision: 0.9744 - recall: 1.0000 - auc: 0.9947 - prc: 0.9892 - val_loss: 0.2650 - val_tp: 2.0000 - val_fp: 19.0000 - val_tn: 202.0000 - val_fn: 3.0000 - val_accuracy: 0.9027 - val_precision: 0.0952 - val_recall: 0.4000 - val_auc: 0.8204 - val_prc: 0.4010\n",
            "Epoch 18/2000\n",
            "20/20 [==============================] - 0s 10ms/step - loss: 0.0471 - tp: 607.0000 - fp: 14.0000 - tn: 594.0000 - fn: 1.0000 - accuracy: 0.9877 - precision: 0.9775 - recall: 0.9984 - auc: 0.9981 - prc: 0.9979 - val_loss: 0.2562 - val_tp: 2.0000 - val_fp: 19.0000 - val_tn: 202.0000 - val_fn: 3.0000 - val_accuracy: 0.9027 - val_precision: 0.0952 - val_recall: 0.4000 - val_auc: 0.8204 - val_prc: 0.4015\n",
            "Epoch 19/2000\n",
            "20/20 [==============================] - 0s 10ms/step - loss: 0.0498 - tp: 607.0000 - fp: 20.0000 - tn: 588.0000 - fn: 1.0000 - accuracy: 0.9827 - precision: 0.9681 - recall: 0.9984 - auc: 0.9982 - prc: 0.9980 - val_loss: 0.2581 - val_tp: 2.0000 - val_fp: 19.0000 - val_tn: 202.0000 - val_fn: 3.0000 - val_accuracy: 0.9027 - val_precision: 0.0952 - val_recall: 0.4000 - val_auc: 0.8222 - val_prc: 0.4464\n",
            "Epoch 20/2000\n",
            "20/20 [==============================] - 0s 10ms/step - loss: 0.0472 - tp: 607.0000 - fp: 16.0000 - tn: 592.0000 - fn: 1.0000 - accuracy: 0.9860 - precision: 0.9743 - recall: 0.9984 - auc: 0.9981 - prc: 0.9979 - val_loss: 0.2636 - val_tp: 2.0000 - val_fp: 18.0000 - val_tn: 203.0000 - val_fn: 3.0000 - val_accuracy: 0.9071 - val_precision: 0.1000 - val_recall: 0.4000 - val_auc: 0.8258 - val_prc: 0.4478\n",
            "Epoch 21/2000\n",
            "20/20 [==============================] - 0s 10ms/step - loss: 0.0448 - tp: 607.0000 - fp: 13.0000 - tn: 595.0000 - fn: 1.0000 - accuracy: 0.9885 - precision: 0.9790 - recall: 0.9984 - auc: 0.9983 - prc: 0.9980 - val_loss: 0.2541 - val_tp: 2.0000 - val_fp: 19.0000 - val_tn: 202.0000 - val_fn: 3.0000 - val_accuracy: 0.9027 - val_precision: 0.0952 - val_recall: 0.4000 - val_auc: 0.8276 - val_prc: 0.4485\n",
            "Epoch 22/2000\n",
            "20/20 [==============================] - 0s 12ms/step - loss: 0.0482 - tp: 605.0000 - fp: 14.0000 - tn: 594.0000 - fn: 3.0000 - accuracy: 0.9860 - precision: 0.9774 - recall: 0.9951 - auc: 0.9976 - prc: 0.9972 - val_loss: 0.2497 - val_tp: 2.0000 - val_fp: 19.0000 - val_tn: 202.0000 - val_fn: 3.0000 - val_accuracy: 0.9027 - val_precision: 0.0952 - val_recall: 0.4000 - val_auc: 0.8303 - val_prc: 0.4497\n",
            "Epoch 23/2000\n",
            "20/20 [==============================] - 0s 11ms/step - loss: 0.0426 - tp: 608.0000 - fp: 9.0000 - tn: 599.0000 - fn: 0.0000e+00 - accuracy: 0.9926 - precision: 0.9854 - recall: 1.0000 - auc: 0.9975 - prc: 0.9956 - val_loss: 0.2462 - val_tp: 2.0000 - val_fp: 19.0000 - val_tn: 202.0000 - val_fn: 3.0000 - val_accuracy: 0.9027 - val_precision: 0.0952 - val_recall: 0.4000 - val_auc: 0.8308 - val_prc: 0.4056\n",
            "Epoch 24/2000\n",
            "20/20 [==============================] - 0s 10ms/step - loss: 0.0480 - tp: 607.0000 - fp: 14.0000 - tn: 594.0000 - fn: 1.0000 - accuracy: 0.9877 - precision: 0.9775 - recall: 0.9984 - auc: 0.9972 - prc: 0.9967 - val_loss: 0.2515 - val_tp: 2.0000 - val_fp: 19.0000 - val_tn: 202.0000 - val_fn: 3.0000 - val_accuracy: 0.9027 - val_precision: 0.0952 - val_recall: 0.4000 - val_auc: 0.8326 - val_prc: 0.4501\n",
            "Epoch 25/2000\n",
            "20/20 [==============================] - 0s 11ms/step - loss: 0.0519 - tp: 606.0000 - fp: 15.0000 - tn: 593.0000 - fn: 2.0000 - accuracy: 0.9860 - precision: 0.9758 - recall: 0.9967 - auc: 0.9964 - prc: 0.9955 - val_loss: 0.2489 - val_tp: 2.0000 - val_fp: 19.0000 - val_tn: 202.0000 - val_fn: 3.0000 - val_accuracy: 0.9027 - val_precision: 0.0952 - val_recall: 0.4000 - val_auc: 0.8330 - val_prc: 0.4502\n",
            "Epoch 26/2000\n",
            "20/20 [==============================] - 0s 10ms/step - loss: 0.0556 - tp: 606.0000 - fp: 16.0000 - tn: 592.0000 - fn: 2.0000 - accuracy: 0.9852 - precision: 0.9743 - recall: 0.9967 - auc: 0.9965 - prc: 0.9945 - val_loss: 0.2327 - val_tp: 2.0000 - val_fp: 19.0000 - val_tn: 202.0000 - val_fn: 3.0000 - val_accuracy: 0.9027 - val_precision: 0.0952 - val_recall: 0.4000 - val_auc: 0.8240 - val_prc: 0.4008\n",
            "Epoch 27/2000\n",
            "20/20 [==============================] - 0s 11ms/step - loss: 0.0567 - tp: 608.0000 - fp: 11.0000 - tn: 597.0000 - fn: 0.0000e+00 - accuracy: 0.9910 - precision: 0.9822 - recall: 1.0000 - auc: 0.9942 - prc: 0.9886 - val_loss: 0.2479 - val_tp: 2.0000 - val_fp: 17.0000 - val_tn: 204.0000 - val_fn: 3.0000 - val_accuracy: 0.9115 - val_precision: 0.1053 - val_recall: 0.4000 - val_auc: 0.8348 - val_prc: 0.4059\n",
            "Epoch 28/2000\n",
            "20/20 [==============================] - 0s 12ms/step - loss: 0.0604 - tp: 605.0000 - fp: 18.0000 - tn: 590.0000 - fn: 3.0000 - accuracy: 0.9827 - precision: 0.9711 - recall: 0.9951 - auc: 0.9952 - prc: 0.9919 - val_loss: 0.2367 - val_tp: 2.0000 - val_fp: 18.0000 - val_tn: 203.0000 - val_fn: 3.0000 - val_accuracy: 0.9071 - val_precision: 0.1000 - val_recall: 0.4000 - val_auc: 0.8299 - val_prc: 0.4033\n",
            "Epoch 29/2000\n",
            "20/20 [==============================] - 0s 10ms/step - loss: 0.0496 - tp: 606.0000 - fp: 12.0000 - tn: 596.0000 - fn: 2.0000 - accuracy: 0.9885 - precision: 0.9806 - recall: 0.9967 - auc: 0.9961 - prc: 0.9939 - val_loss: 0.2701 - val_tp: 2.0000 - val_fp: 18.0000 - val_tn: 203.0000 - val_fn: 3.0000 - val_accuracy: 0.9071 - val_precision: 0.1000 - val_recall: 0.4000 - val_auc: 0.8335 - val_prc: 0.4497\n",
            "Epoch 30/2000\n",
            "20/20 [==============================] - 0s 11ms/step - loss: 0.0347 - tp: 605.0000 - fp: 11.0000 - tn: 597.0000 - fn: 3.0000 - accuracy: 0.9885 - precision: 0.9821 - recall: 0.9951 - auc: 0.9990 - prc: 0.9989 - val_loss: 0.2704 - val_tp: 2.0000 - val_fp: 18.0000 - val_tn: 203.0000 - val_fn: 3.0000 - val_accuracy: 0.9071 - val_precision: 0.1000 - val_recall: 0.4000 - val_auc: 0.8312 - val_prc: 0.3152\n"
          ]
        }
      ]
    },
    {
      "cell_type": "code",
      "source": [
        "plot_metrics(resampled_history)\n"
      ],
      "metadata": {
        "colab": {
          "base_uri": "https://localhost:8080/",
          "height": 283
        },
        "id": "zVY9_t0nD6-N",
        "outputId": "68d7a44e-128b-46c3-ca9a-5842e8d4ad06"
      },
      "execution_count": 106,
      "outputs": [
        {
          "output_type": "display_data",
          "data": {
            "text/plain": [
              "<Figure size 432x288 with 4 Axes>"
            ],
            "image/png": "[encoded data removed]"
          },
          "metadata": {
            "needs_background": "light"
          }
        }
      ]
    },
    {
      "cell_type": "code",
      "source": [
        "train_predictions_resampled = resampled_model.predict(X_train, batch_size=BATCH_SIZE)\n",
        "test_predictions_resampled = resampled_model.predict(X_val, batch_size=BATCH_SIZE)"
      ],
      "metadata": {
        "id": "Gr85YxtXD-WP"
      },
      "execution_count": 108,
      "outputs": []
    },
    {
      "cell_type": "code",
      "source": [
        "resampled_results = resampled_model.evaluate(X_val, y_val,\n",
        "                                             batch_size=BATCH_SIZE, verbose=0)\n",
        "for name, value in zip(resampled_model.metrics_names, resampled_results):\n",
        "  print(name, ': ', value)\n",
        "print()\n",
        "\n",
        "plot_cm(y_val, test_predictions_resampled)"
      ],
      "metadata": {
        "colab": {
          "base_uri": "https://localhost:8080/",
          "height": 636
        },
        "id": "BwxEehGMEDQP",
        "outputId": "9d5fadcf-473c-492f-cc1e-19537bcf17c9"
      },
      "execution_count": 109,
      "outputs": [
        {
          "output_type": "stream",
          "name": "stdout",
          "text": [
            "loss :  0.24885882437229156\n",
            "tp :  2.0\n",
            "fp :  19.0\n",
            "tn :  202.0\n",
            "fn :  3.0\n",
            "accuracy :  0.9026548862457275\n",
            "precision :  0.095238097012043\n",
            "recall :  0.4000000059604645\n",
            "auc :  0.8330317139625549\n",
            "prc :  0.4502110779285431\n",
            "\n",
            "Legitimate Transactions Detected (True Negatives):  202\n",
            "Legitimate Transactions Incorrectly Detected (False Positives):  19\n",
            "Fraudulent Transactions Missed (False Negatives):  3\n",
            "Fraudulent Transactions Detected (True Positives):  2\n",
            "Total Fraudulent Transactions:  5\n"
          ]
        },
        {
          "output_type": "display_data",
          "data": {
            "text/plain": [
              "<Figure size 360x360 with 2 Axes>"
            ],
            "image/png": "[encoded data removed]"
          },
          "metadata": {
            "needs_background": "light"
          }
        }
      ]
    },
    {
      "cell_type": "code",
      "source": [
        "\n",
        "plot_roc(\"Train Baseline\", y_train, train_predictions_baseline, color=colors[0])\n",
        "plot_roc(\"Test Baseline\", y_val, test_predictions_baseline, color=colors[0], linestyle='--')\n",
        "\n",
        "plot_roc(\"Train Weighted\", y_train, train_predictions_weighted, color=colors[1])\n",
        "plot_roc(\"Test Weighted\", y_val, test_predictions_weighted, color=colors[1], linestyle='--')\n",
        "\n",
        "plot_roc(\"Train Resampled\", y_train, train_predictions_resampled, color=colors[2])\n",
        "plot_roc(\"Test Resampled\", y_val, test_predictions_resampled, color=colors[2], linestyle='--')\n",
        "plt.legend(loc='lower right');"
      ],
      "metadata": {
        "colab": {
          "base_uri": "https://localhost:8080/",
          "height": 281
        },
        "id": "9MW8wZPKEJvG",
        "outputId": "f197d96d-8a95-49e2-a54e-17a846c611cb"
      },
      "execution_count": 110,
      "outputs": [
        {
          "output_type": "display_data",
          "data": {
            "text/plain": [
              "<Figure size 432x288 with 1 Axes>"
            ],
            "image/png": "[encoded data removed]"
          },
          "metadata": {
            "needs_background": "light"
          }
        }
      ]
    },
    {
      "cell_type": "code",
      "source": [
        "plot_prc(\"Train Baseline\", y_train, train_predictions_baseline, color=colors[0])\n",
        "plot_prc(\"Test Baseline\", y_val, test_predictions_baseline, color=colors[0], linestyle='--')\n",
        "\n",
        "plot_prc(\"Train Weighted\", y_train, train_predictions_weighted, color=colors[1])\n",
        "plot_prc(\"Test Weighted\", y_val, test_predictions_weighted, color=colors[1], linestyle='--')\n",
        "\n",
        "plot_prc(\"Train Resampled\", y_train, train_predictions_resampled, color=colors[2])\n",
        "plot_prc(\"Test Resampled\", y_val, test_predictions_resampled, color=colors[2], linestyle='--')\n",
        "plt.legend(loc='lower right');"
      ],
      "metadata": {
        "colab": {
          "base_uri": "https://localhost:8080/",
          "height": 279
        },
        "id": "r2b8ImYkESSL",
        "outputId": "44b82c92-4544-4ebf-fb2e-e0869cde3f4c"
      },
      "execution_count": 111,
      "outputs": [
        {
          "output_type": "display_data",
          "data": {
            "text/plain": [
              "<Figure size 432x288 with 1 Axes>"
            ],
            "image/png": "[encoded data removed]"
          },
          "metadata": {
            "needs_background": "light"
          }
        }
      ]
    },
    {
      "cell_type": "code",
      "metadata": {
        "id": "nIyEeQdRZwgs"
      },
      "source": [
        "y_pred = resampled_model.predict(sc.transform(X))\n",
        "test_output = np.column_stack([dataset[\"Year\"], dataset[\"Team\"], y_pred.flatten(), y])"
      ],
      "execution_count": 125,
      "outputs": []
    },
    {
      "cell_type": "code",
      "source": [
        "test_df = pd.DataFrame(test_output, columns = ['Year', 'Team', 'Prediction', 'True'])"
      ],
      "metadata": {
        "id": "eh-n95bP-N19"
      },
      "execution_count": 126,
      "outputs": []
    },
    {
      "cell_type": "code",
      "source": [
        "test_df[test_df[\"True\"] == 1]"
      ],
      "metadata": {
        "colab": {
          "base_uri": "https://localhost:8080/",
          "height": 1000
        },
        "id": "qG5Zfy8uFfr_",
        "outputId": "bb420954-c1c5-4580-ae7f-346ffbe72a41"
      },
      "execution_count": 130,
      "outputs": [
        {
          "output_type": "execute_result",
          "data": {
            "text/plain": [
              "       Year                   Team Prediction True\n",
              "7    1990.0        Detroit Pistons   0.994917    1\n",
              "30   1991.0          Chicago Bulls   0.997226    1\n",
              "57   1992.0          Chicago Bulls   0.999743    1\n",
              "84   1993.0          Chicago Bulls   0.997227    1\n",
              "117  1994.0        Houston Rockets   0.994435    1\n",
              "144  1995.0        Houston Rockets   0.996245    1\n",
              "165  1996.0          Chicago Bulls    0.99951    1\n",
              "194  1997.0          Chicago Bulls   0.999777    1\n",
              "223  1998.0          Chicago Bulls   0.993178    1\n",
              "272  1999.0      San Antonio Spurs   0.998932    1\n",
              "290  2000.0     Los Angeles Lakers   0.054258    1\n",
              "319  2001.0     Los Angeles Lakers   0.990336    1\n",
              "348  2002.0     Los Angeles Lakers   0.986188    1\n",
              "389  2003.0      San Antonio Spurs    0.32695    1\n",
              "400  2004.0        Detroit Pistons   0.996865    1\n",
              "448  2005.0      San Antonio Spurs   0.992635    1\n",
              "467  2006.0             Miami Heat   0.000892    1\n",
              "508  2007.0      San Antonio Spurs   0.989396    1\n",
              "514  2008.0         Boston Celtics   0.994943    1\n",
              "555  2009.0     Los Angeles Lakers   0.987838    1\n",
              "585  2010.0     Los Angeles Lakers   0.979075    1\n",
              "608  2011.0       Dallas Mavericks   0.991762    1\n",
              "647  2012.0             Miami Heat   0.995151    1\n",
              "678  2013.0             Miami Heat   0.992841    1\n",
              "719  2014.0      San Antonio Spurs    0.99158    1\n",
              "732  2015.0  Golden State Warriors   0.997324    1\n",
              "758  2016.0    Cleveland Cavaliers   0.993487    1\n",
              "792  2017.0  Golden State Warriors   0.998052    1\n",
              "822  2018.0  Golden State Warriors   0.978009    1\n",
              "870  2019.0        Toronto Raptors   0.994711    1\n",
              "886  2020.0     Los Angeles Lakers   0.015149    1"
            ],
            "text/html": [
              "\n",
              "  <div id=\"df-c766b60e-ff7d-4b3f-ad92-b1d3acde6eff\">\n",
              "    <div class=\"colab-df-container\">\n",
              "      <div>\n",
              "<style scoped>\n",
              "    .dataframe tbody tr th:only-of-type {\n",
              "        vertical-align: middle;\n",
              "    }\n",
              "\n",
              "    .dataframe tbody tr th {\n",
              "        vertical-align: top;\n",
              "    }\n",
              "\n",
              "    .dataframe thead th {\n",
              "        text-align: right;\n",
              "    }\n",
              "</style>\n",
              "<table border=\"1\" class=\"dataframe\">\n",
              "  <thead>\n",
              "    <tr style=\"text-align: right;\">\n",
              "      <th></th>\n",
              "      <th>Year</th>\n",
              "      <th>Team</th>\n",
              "      <th>Prediction</th>\n",
              "      <th>True</th>\n",
              "    </tr>\n",
              "  </thead>\n",
              "  <tbody>\n",
              "    <tr>\n",
              "      <th>7</th>\n",
              "      <td>1990.0</td>\n",
              "      <td>Detroit Pistons</td>\n",
              "      <td>0.994917</td>\n",
              "      <td>1</td>\n",
              "    </tr>\n",
              "    <tr>\n",
              "      <th>30</th>\n",
              "      <td>1991.0</td>\n",
              "      <td>Chicago Bulls</td>\n",
              "      <td>0.997226</td>\n",
              "      <td>1</td>\n",
              "    </tr>\n",
              "    <tr>\n",
              "      <th>57</th>\n",
              "      <td>1992.0</td>\n",
              "      <td>Chicago Bulls</td>\n",
              "      <td>0.999743</td>\n",
              "      <td>1</td>\n",
              "    </tr>\n",
              "    <tr>\n",
              "      <th>84</th>\n",
              "      <td>1993.0</td>\n",
              "      <td>Chicago Bulls</td>\n",
              "      <td>0.997227</td>\n",
              "      <td>1</td>\n",
              "    </tr>\n",
              "    <tr>\n",
              "      <th>117</th>\n",
              "      <td>1994.0</td>\n",
              "      <td>Houston Rockets</td>\n",
              "      <td>0.994435</td>\n",
              "      <td>1</td>\n",
              "    </tr>\n",
              "    <tr>\n",
              "      <th>144</th>\n",
              "      <td>1995.0</td>\n",
              "      <td>Houston Rockets</td>\n",
              "      <td>0.996245</td>\n",
              "      <td>1</td>\n",
              "    </tr>\n",
              "    <tr>\n",
              "      <th>165</th>\n",
              "      <td>1996.0</td>\n",
              "      <td>Chicago Bulls</td>\n",
              "      <td>0.99951</td>\n",
              "      <td>1</td>\n",
              "    </tr>\n",
              "    <tr>\n",
              "      <th>194</th>\n",
              "      <td>1997.0</td>\n",
              "      <td>Chicago Bulls</td>\n",
              "      <td>0.999777</td>\n",
              "      <td>1</td>\n",
              "    </tr>\n",
              "    <tr>\n",
              "      <th>223</th>\n",
              "      <td>1998.0</td>\n",
              "      <td>Chicago Bulls</td>\n",
              "      <td>0.993178</td>\n",
              "      <td>1</td>\n",
              "    </tr>\n",
              "    <tr>\n",
              "      <th>272</th>\n",
              "      <td>1999.0</td>\n",
              "      <td>San Antonio Spurs</td>\n",
              "      <td>0.998932</td>\n",
              "      <td>1</td>\n",
              "    </tr>\n",
              "    <tr>\n",
              "      <th>290</th>\n",
              "      <td>2000.0</td>\n",
              "      <td>Los Angeles Lakers</td>\n",
              "      <td>0.054258</td>\n",
              "      <td>1</td>\n",
              "    </tr>\n",
              "    <tr>\n",
              "      <th>319</th>\n",
              "      <td>2001.0</td>\n",
              "      <td>Los Angeles Lakers</td>\n",
              "      <td>0.990336</td>\n",
              "      <td>1</td>\n",
              "    </tr>\n",
              "    <tr>\n",
              "      <th>348</th>\n",
              "      <td>2002.0</td>\n",
              "      <td>Los Angeles Lakers</td>\n",
              "      <td>0.986188</td>\n",
              "      <td>1</td>\n",
              "    </tr>\n",
              "    <tr>\n",
              "      <th>389</th>\n",
              "      <td>2003.0</td>\n",
              "      <td>San Antonio Spurs</td>\n",
              "      <td>0.32695</td>\n",
              "      <td>1</td>\n",
              "    </tr>\n",
              "    <tr>\n",
              "      <th>400</th>\n",
              "      <td>2004.0</td>\n",
              "      <td>Detroit Pistons</td>\n",
              "      <td>0.996865</td>\n",
              "      <td>1</td>\n",
              "    </tr>\n",
              "    <tr>\n",
              "      <th>448</th>\n",
              "      <td>2005.0</td>\n",
              "      <td>San Antonio Spurs</td>\n",
              "      <td>0.992635</td>\n",
              "      <td>1</td>\n",
              "    </tr>\n",
              "    <tr>\n",
              "      <th>467</th>\n",
              "      <td>2006.0</td>\n",
              "      <td>Miami Heat</td>\n",
              "      <td>0.000892</td>\n",
              "      <td>1</td>\n",
              "    </tr>\n",
              "    <tr>\n",
              "      <th>508</th>\n",
              "      <td>2007.0</td>\n",
              "      <td>San Antonio Spurs</td>\n",
              "      <td>0.989396</td>\n",
              "      <td>1</td>\n",
              "    </tr>\n",
              "    <tr>\n",
              "      <th>514</th>\n",
              "      <td>2008.0</td>\n",
              "      <td>Boston Celtics</td>\n",
              "      <td>0.994943</td>\n",
              "      <td>1</td>\n",
              "    </tr>\n",
              "    <tr>\n",
              "      <th>555</th>\n",
              "      <td>2009.0</td>\n",
              "      <td>Los Angeles Lakers</td>\n",
              "      <td>0.987838</td>\n",
              "      <td>1</td>\n",
              "    </tr>\n",
              "    <tr>\n",
              "      <th>585</th>\n",
              "      <td>2010.0</td>\n",
              "      <td>Los Angeles Lakers</td>\n",
              "      <td>0.979075</td>\n",
              "      <td>1</td>\n",
              "    </tr>\n",
              "    <tr>\n",
              "      <th>608</th>\n",
              "      <td>2011.0</td>\n",
              "      <td>Dallas Mavericks</td>\n",
              "      <td>0.991762</td>\n",
              "      <td>1</td>\n",
              "    </tr>\n",
              "    <tr>\n",
              "      <th>647</th>\n",
              "      <td>2012.0</td>\n",
              "      <td>Miami Heat</td>\n",
              "      <td>0.995151</td>\n",
              "      <td>1</td>\n",
              "    </tr>\n",
              "    <tr>\n",
              "      <th>678</th>\n",
              "      <td>2013.0</td>\n",
              "      <td>Miami Heat</td>\n",
              "      <td>0.992841</td>\n",
              "      <td>1</td>\n",
              "    </tr>\n",
              "    <tr>\n",
              "      <th>719</th>\n",
              "      <td>2014.0</td>\n",
              "      <td>San Antonio Spurs</td>\n",
              "      <td>0.99158</td>\n",
              "      <td>1</td>\n",
              "    </tr>\n",
              "    <tr>\n",
              "      <th>732</th>\n",
              "      <td>2015.0</td>\n",
              "      <td>Golden State Warriors</td>\n",
              "      <td>0.997324</td>\n",
              "      <td>1</td>\n",
              "    </tr>\n",
              "    <tr>\n",
              "      <th>758</th>\n",
              "      <td>2016.0</td>\n",
              "      <td>Cleveland Cavaliers</td>\n",
              "      <td>0.993487</td>\n",
              "      <td>1</td>\n",
              "    </tr>\n",
              "    <tr>\n",
              "      <th>792</th>\n",
              "      <td>2017.0</td>\n",
              "      <td>Golden State Warriors</td>\n",
              "      <td>0.998052</td>\n",
              "      <td>1</td>\n",
              "    </tr>\n",
              "    <tr>\n",
              "      <th>822</th>\n",
              "      <td>2018.0</td>\n",
              "      <td>Golden State Warriors</td>\n",
              "      <td>0.978009</td>\n",
              "      <td>1</td>\n",
              "    </tr>\n",
              "    <tr>\n",
              "      <th>870</th>\n",
              "      <td>2019.0</td>\n",
              "      <td>Toronto Raptors</td>\n",
              "      <td>0.994711</td>\n",
              "      <td>1</td>\n",
              "    </tr>\n",
              "    <tr>\n",
              "      <th>886</th>\n",
              "      <td>2020.0</td>\n",
              "      <td>Los Angeles Lakers</td>\n",
              "      <td>0.015149</td>\n",
              "      <td>1</td>\n",
              "    </tr>\n",
              "  </tbody>\n",
              "</table>\n",
              "</div>\n",
              "      <button class=\"colab-df-convert\" onclick=\"convertToInteractive('df-c766b60e-ff7d-4b3f-ad92-b1d3acde6eff')\"\n",
              "              title=\"Convert this dataframe to an interactive table.\"\n",
              "              style=\"display:none;\">\n",
              "        \n",
              "  <svg xmlns=\"http://www.w3.org/2000/svg\" height=\"24px\"viewBox=\"0 0 24 24\"\n",
              "       width=\"24px\">\n",
              "    <path d=\"M0 0h24v24H0V0z\" fill=\"none\"/>\n",
              "    <path d=\"M18.56 5.44l.94 2.06.94-2.06 2.06-.94-2.06-.94-.94-2.06-.94 2.06-2.06.94zm-11 1L8.5 8.5l.94-2.06 2.06-.94-2.06-.94L8.5 2.5l-.94 2.06-2.06.94zm10 10l.94 2.06.94-2.06 2.06-.94-2.06-.94-.94-2.06-.94 2.06-2.06.94z\"/><path d=\"M17.41 7.96l-1.37-1.37c-.4-.4-.92-.59-1.43-.59-.52 0-1.04.2-1.43.59L10.3 9.45l-7.72 7.72c-.78.78-.78 2.05 0 2.83L4 21.41c.39.39.9.59 1.41.59.51 0 1.02-.2 1.41-.59l7.78-7.78 2.81-2.81c.8-.78.8-2.07 0-2.86zM5.41 20L4 18.59l7.72-7.72 1.47 1.35L5.41 20z\"/>\n",
              "  </svg>\n",
              "      </button>\n",
              "      \n",
              "  <style>\n",
              "    .colab-df-container {\n",
              "      display:flex;\n",
              "      flex-wrap:wrap;\n",
              "      gap: 12px;\n",
              "    }\n",
              "\n",
              "    .colab-df-convert {\n",
              "      background-color: #E8F0FE;\n",
              "      border: none;\n",
              "      border-radius: 50%;\n",
              "      cursor: pointer;\n",
              "      display: none;\n",
              "      fill: #1967D2;\n",
              "      height: 32px;\n",
              "      padding: 0 0 0 0;\n",
              "      width: 32px;\n",
              "    }\n",
              "\n",
              "    .colab-df-convert:hover {\n",
              "      background-color: #E2EBFA;\n",
              "      box-shadow: 0px 1px 2px rgba(60, 64, 67, 0.3), 0px 1px 3px 1px rgba(60, 64, 67, 0.15);\n",
              "      fill: #174EA6;\n",
              "    }\n",
              "\n",
              "    [theme=dark] .colab-df-convert {\n",
              "      background-color: #3B4455;\n",
              "      fill: #D2E3FC;\n",
              "    }\n",
              "\n",
              "    [theme=dark] .colab-df-convert:hover {\n",
              "      background-color: #434B5C;\n",
              "      box-shadow: 0px 1px 3px 1px rgba(0, 0, 0, 0.15);\n",
              "      filter: drop-shadow(0px 1px 2px rgba(0, 0, 0, 0.3));\n",
              "      fill: #FFFFFF;\n",
              "    }\n",
              "  </style>\n",
              "\n",
              "      <script>\n",
              "        const buttonEl =\n",
              "          document.querySelector('#df-c766b60e-ff7d-4b3f-ad92-b1d3acde6eff button.colab-df-convert');\n",
              "        buttonEl.style.display =\n",
              "          google.colab.kernel.accessAllowed ? 'block' : 'none';\n",
              "\n",
              "        async function convertToInteractive(key) {\n",
              "          const element = document.querySelector('#df-c766b60e-ff7d-4b3f-ad92-b1d3acde6eff');\n",
              "          const dataTable =\n",
              "            await google.colab.kernel.invokeFunction('convertToInteractive',\n",
              "                                                     [key], {});\n",
              "          if (!dataTable) return;\n",
              "\n",
              "          const docLinkHtml = 'Like what you see? Visit the ' +\n",
              "            '<a target=\"_blank\" href=https://colab.research.google.com/notebooks/data_table.ipynb>data table notebook</a>'\n",
              "            + ' to learn more about interactive tables.';\n",
              "          element.innerHTML = '';\n",
              "          dataTable['output_type'] = 'display_data';\n",
              "          await google.colab.output.renderOutput(dataTable, element);\n",
              "          const docLink = document.createElement('div');\n",
              "          docLink.innerHTML = docLinkHtml;\n",
              "          element.appendChild(docLink);\n",
              "        }\n",
              "      </script>\n",
              "    </div>\n",
              "  </div>\n",
              "  "
            ]
          },
          "metadata": {},
          "execution_count": 130
        }
      ]
    },
    {
      "cell_type": "code",
      "source": [
        "test_df[test_df[\"Prediction\"] > 0.5]"
      ],
      "metadata": {
        "colab": {
          "base_uri": "https://localhost:8080/",
          "height": 1000
        },
        "id": "XdzXnyp9F7ev",
        "outputId": "252faf06-a141-4d58-abbf-c629477246a3"
      },
      "execution_count": 135,
      "outputs": [
        {
          "output_type": "execute_result",
          "data": {
            "text/plain": [
              "       Year                    Team Prediction True\n",
              "7    1990.0         Detroit Pistons   0.994917    1\n",
              "30   1991.0           Chicago Bulls   0.997226    1\n",
              "34   1991.0         Detroit Pistons   0.964528    0\n",
              "57   1992.0           Chicago Bulls   0.999743    1\n",
              "84   1993.0           Chicago Bulls   0.997227    1\n",
              "117  1994.0         Houston Rockets   0.994435    1\n",
              "144  1995.0         Houston Rockets   0.996245    1\n",
              "165  1996.0           Chicago Bulls    0.99951    1\n",
              "171  1996.0         Houston Rockets   0.979409    0\n",
              "194  1997.0           Chicago Bulls   0.999777    1\n",
              "223  1998.0           Chicago Bulls   0.993178    1\n",
              "270  1999.0  Portland Trail Blazers   0.507635    0\n",
              "272  1999.0       San Antonio Spurs   0.998932    1\n",
              "299  2000.0  Portland Trail Blazers   0.679446    0\n",
              "301  2000.0       San Antonio Spurs   0.918306    0\n",
              "319  2001.0      Los Angeles Lakers   0.990336    1\n",
              "326  2001.0      Philadelphia 76ers   0.952973    0\n",
              "330  2001.0       San Antonio Spurs    0.66791    0\n",
              "348  2002.0      Los Angeles Lakers   0.986188    1\n",
              "360  2002.0       San Antonio Spurs   0.604188    0\n",
              "376  2003.0      Los Angeles Lakers   0.916924    0\n",
              "400  2004.0         Detroit Pistons   0.996865    1\n",
              "418  2004.0       San Antonio Spurs   0.583392    0\n",
              "448  2005.0       San Antonio Spurs   0.992635    1\n",
              "478  2006.0       San Antonio Spurs   0.868842    0\n",
              "505  2007.0            Phoenix Suns   0.785122    0\n",
              "508  2007.0       San Antonio Spurs   0.989396    1\n",
              "514  2008.0          Boston Celtics   0.994943    1\n",
              "538  2008.0       San Antonio Spurs   0.675507    0\n",
              "544  2009.0          Boston Celtics   0.982235    0\n",
              "555  2009.0      Los Angeles Lakers   0.987838    1\n",
              "585  2010.0      Los Angeles Lakers   0.979075    1\n",
              "606  2011.0           Chicago Bulls   0.663657    0\n",
              "608  2011.0        Dallas Mavericks   0.991762    1\n",
              "615  2011.0      Los Angeles Lakers   0.995191    0\n",
              "647  2012.0              Miami Heat   0.995151    1\n",
              "675  2013.0    Los Angeles Clippers   0.883657    0\n",
              "678  2013.0              Miami Heat   0.992841    1\n",
              "689  2013.0       San Antonio Spurs    0.98988    0\n",
              "708  2014.0              Miami Heat   0.641872    0\n",
              "719  2014.0       San Antonio Spurs    0.99158    1\n",
              "723  2015.0           Atlanta Hawks   0.930892    0\n",
              "728  2015.0     Cleveland Cavaliers   0.618783    0\n",
              "732  2015.0   Golden State Warriors   0.997324    1\n",
              "749  2015.0       San Antonio Spurs   0.822876    0\n",
              "758  2016.0     Cleveland Cavaliers   0.993487    1\n",
              "762  2016.0   Golden State Warriors    0.99165    0\n",
              "779  2016.0       San Antonio Spurs   0.639589    0\n",
              "788  2017.0     Cleveland Cavaliers   0.906275    0\n",
              "792  2017.0   Golden State Warriors   0.998052    1\n",
              "822  2018.0   Golden State Warriors   0.978009    1\n",
              "835  2018.0      Philadelphia 76ers   0.889494    0\n",
              "840  2018.0         Toronto Raptors   0.930146    0\n",
              "852  2019.0   Golden State Warriors   0.857569    0\n",
              "859  2019.0         Milwaukee Bucks   0.745789    0\n",
              "870  2019.0         Toronto Raptors   0.994711    1\n",
              "900  2020.0         Toronto Raptors   0.822011    0"
            ],
            "text/html": [
              "\n",
              "  <div id=\"df-0e023e4e-c7cb-4c45-a67f-4bccb810fa0c\">\n",
              "    <div class=\"colab-df-container\">\n",
              "      <div>\n",
              "<style scoped>\n",
              "    .dataframe tbody tr th:only-of-type {\n",
              "        vertical-align: middle;\n",
              "    }\n",
              "\n",
              "    .dataframe tbody tr th {\n",
              "        vertical-align: top;\n",
              "    }\n",
              "\n",
              "    .dataframe thead th {\n",
              "        text-align: right;\n",
              "    }\n",
              "</style>\n",
              "<table border=\"1\" class=\"dataframe\">\n",
              "  <thead>\n",
              "    <tr style=\"text-align: right;\">\n",
              "      <th></th>\n",
              "      <th>Year</th>\n",
              "      <th>Team</th>\n",
              "      <th>Prediction</th>\n",
              "      <th>True</th>\n",
              "    </tr>\n",
              "  </thead>\n",
              "  <tbody>\n",
              "    <tr>\n",
              "      <th>7</th>\n",
              "      <td>1990.0</td>\n",
              "      <td>Detroit Pistons</td>\n",
              "      <td>0.994917</td>\n",
              "      <td>1</td>\n",
              "    </tr>\n",
              "    <tr>\n",
              "      <th>30</th>\n",
              "      <td>1991.0</td>\n",
              "      <td>Chicago Bulls</td>\n",
              "      <td>0.997226</td>\n",
              "      <td>1</td>\n",
              "    </tr>\n",
              "    <tr>\n",
              "      <th>34</th>\n",
              "      <td>1991.0</td>\n",
              "      <td>Detroit Pistons</td>\n",
              "      <td>0.964528</td>\n",
              "      <td>0</td>\n",
              "    </tr>\n",
              "    <tr>\n",
              "      <th>57</th>\n",
              "      <td>1992.0</td>\n",
              "      <td>Chicago Bulls</td>\n",
              "      <td>0.999743</td>\n",
              "      <td>1</td>\n",
              "    </tr>\n",
              "    <tr>\n",
              "      <th>84</th>\n",
              "      <td>1993.0</td>\n",
              "      <td>Chicago Bulls</td>\n",
              "      <td>0.997227</td>\n",
              "      <td>1</td>\n",
              "    </tr>\n",
              "    <tr>\n",
              "      <th>117</th>\n",
              "      <td>1994.0</td>\n",
              "      <td>Houston Rockets</td>\n",
              "      <td>0.994435</td>\n",
              "      <td>1</td>\n",
              "    </tr>\n",
              "    <tr>\n",
              "      <th>144</th>\n",
              "      <td>1995.0</td>\n",
              "      <td>Houston Rockets</td>\n",
              "      <td>0.996245</td>\n",
              "      <td>1</td>\n",
              "    </tr>\n",
              "    <tr>\n",
              "      <th>165</th>\n",
              "      <td>1996.0</td>\n",
              "      <td>Chicago Bulls</td>\n",
              "      <td>0.99951</td>\n",
              "      <td>1</td>\n",
              "    </tr>\n",
              "    <tr>\n",
              "      <th>171</th>\n",
              "      <td>1996.0</td>\n",
              "      <td>Houston Rockets</td>\n",
              "      <td>0.979409</td>\n",
              "      <td>0</td>\n",
              "    </tr>\n",
              "    <tr>\n",
              "      <th>194</th>\n",
              "      <td>1997.0</td>\n",
              "      <td>Chicago Bulls</td>\n",
              "      <td>0.999777</td>\n",
              "      <td>1</td>\n",
              "    </tr>\n",
              "    <tr>\n",
              "      <th>223</th>\n",
              "      <td>1998.0</td>\n",
              "      <td>Chicago Bulls</td>\n",
              "      <td>0.993178</td>\n",
              "      <td>1</td>\n",
              "    </tr>\n",
              "    <tr>\n",
              "      <th>270</th>\n",
              "      <td>1999.0</td>\n",
              "      <td>Portland Trail Blazers</td>\n",
              "      <td>0.507635</td>\n",
              "      <td>0</td>\n",
              "    </tr>\n",
              "    <tr>\n",
              "      <th>272</th>\n",
              "      <td>1999.0</td>\n",
              "      <td>San Antonio Spurs</td>\n",
              "      <td>0.998932</td>\n",
              "      <td>1</td>\n",
              "    </tr>\n",
              "    <tr>\n",
              "      <th>299</th>\n",
              "      <td>2000.0</td>\n",
              "      <td>Portland Trail Blazers</td>\n",
              "      <td>0.679446</td>\n",
              "      <td>0</td>\n",
              "    </tr>\n",
              "    <tr>\n",
              "      <th>301</th>\n",
              "      <td>2000.0</td>\n",
              "      <td>San Antonio Spurs</td>\n",
              "      <td>0.918306</td>\n",
              "      <td>0</td>\n",
              "    </tr>\n",
              "    <tr>\n",
              "      <th>319</th>\n",
              "      <td>2001.0</td>\n",
              "      <td>Los Angeles Lakers</td>\n",
              "      <td>0.990336</td>\n",
              "      <td>1</td>\n",
              "    </tr>\n",
              "    <tr>\n",
              "      <th>326</th>\n",
              "      <td>2001.0</td>\n",
              "      <td>Philadelphia 76ers</td>\n",
              "      <td>0.952973</td>\n",
              "      <td>0</td>\n",
              "    </tr>\n",
              "    <tr>\n",
              "      <th>330</th>\n",
              "      <td>2001.0</td>\n",
              "      <td>San Antonio Spurs</td>\n",
              "      <td>0.66791</td>\n",
              "      <td>0</td>\n",
              "    </tr>\n",
              "    <tr>\n",
              "      <th>348</th>\n",
              "      <td>2002.0</td>\n",
              "      <td>Los Angeles Lakers</td>\n",
              "      <td>0.986188</td>\n",
              "      <td>1</td>\n",
              "    </tr>\n",
              "    <tr>\n",
              "      <th>360</th>\n",
              "      <td>2002.0</td>\n",
              "      <td>San Antonio Spurs</td>\n",
              "      <td>0.604188</td>\n",
              "      <td>0</td>\n",
              "    </tr>\n",
              "    <tr>\n",
              "      <th>376</th>\n",
              "      <td>2003.0</td>\n",
              "      <td>Los Angeles Lakers</td>\n",
              "      <td>0.916924</td>\n",
              "      <td>0</td>\n",
              "    </tr>\n",
              "    <tr>\n",
              "      <th>400</th>\n",
              "      <td>2004.0</td>\n",
              "      <td>Detroit Pistons</td>\n",
              "      <td>0.996865</td>\n",
              "      <td>1</td>\n",
              "    </tr>\n",
              "    <tr>\n",
              "      <th>418</th>\n",
              "      <td>2004.0</td>\n",
              "      <td>San Antonio Spurs</td>\n",
              "      <td>0.583392</td>\n",
              "      <td>0</td>\n",
              "    </tr>\n",
              "    <tr>\n",
              "      <th>448</th>\n",
              "      <td>2005.0</td>\n",
              "      <td>San Antonio Spurs</td>\n",
              "      <td>0.992635</td>\n",
              "      <td>1</td>\n",
              "    </tr>\n",
              "    <tr>\n",
              "      <th>478</th>\n",
              "      <td>2006.0</td>\n",
              "      <td>San Antonio Spurs</td>\n",
              "      <td>0.868842</td>\n",
              "      <td>0</td>\n",
              "    </tr>\n",
              "    <tr>\n",
              "      <th>505</th>\n",
              "      <td>2007.0</td>\n",
              "      <td>Phoenix Suns</td>\n",
              "      <td>0.785122</td>\n",
              "      <td>0</td>\n",
              "    </tr>\n",
              "    <tr>\n",
              "      <th>508</th>\n",
              "      <td>2007.0</td>\n",
              "      <td>San Antonio Spurs</td>\n",
              "      <td>0.989396</td>\n",
              "      <td>1</td>\n",
              "    </tr>\n",
              "    <tr>\n",
              "      <th>514</th>\n",
              "      <td>2008.0</td>\n",
              "      <td>Boston Celtics</td>\n",
              "      <td>0.994943</td>\n",
              "      <td>1</td>\n",
              "    </tr>\n",
              "    <tr>\n",
              "      <th>538</th>\n",
              "      <td>2008.0</td>\n",
              "      <td>San Antonio Spurs</td>\n",
              "      <td>0.675507</td>\n",
              "      <td>0</td>\n",
              "    </tr>\n",
              "    <tr>\n",
              "      <th>544</th>\n",
              "      <td>2009.0</td>\n",
              "      <td>Boston Celtics</td>\n",
              "      <td>0.982235</td>\n",
              "      <td>0</td>\n",
              "    </tr>\n",
              "    <tr>\n",
              "      <th>555</th>\n",
              "      <td>2009.0</td>\n",
              "      <td>Los Angeles Lakers</td>\n",
              "      <td>0.987838</td>\n",
              "      <td>1</td>\n",
              "    </tr>\n",
              "    <tr>\n",
              "      <th>585</th>\n",
              "      <td>2010.0</td>\n",
              "      <td>Los Angeles Lakers</td>\n",
              "      <td>0.979075</td>\n",
              "      <td>1</td>\n",
              "    </tr>\n",
              "    <tr>\n",
              "      <th>606</th>\n",
              "      <td>2011.0</td>\n",
              "      <td>Chicago Bulls</td>\n",
              "      <td>0.663657</td>\n",
              "      <td>0</td>\n",
              "    </tr>\n",
              "    <tr>\n",
              "      <th>608</th>\n",
              "      <td>2011.0</td>\n",
              "      <td>Dallas Mavericks</td>\n",
              "      <td>0.991762</td>\n",
              "      <td>1</td>\n",
              "    </tr>\n",
              "    <tr>\n",
              "      <th>615</th>\n",
              "      <td>2011.0</td>\n",
              "      <td>Los Angeles Lakers</td>\n",
              "      <td>0.995191</td>\n",
              "      <td>0</td>\n",
              "    </tr>\n",
              "    <tr>\n",
              "      <th>647</th>\n",
              "      <td>2012.0</td>\n",
              "      <td>Miami Heat</td>\n",
              "      <td>0.995151</td>\n",
              "      <td>1</td>\n",
              "    </tr>\n",
              "    <tr>\n",
              "      <th>675</th>\n",
              "      <td>2013.0</td>\n",
              "      <td>Los Angeles Clippers</td>\n",
              "      <td>0.883657</td>\n",
              "      <td>0</td>\n",
              "    </tr>\n",
              "    <tr>\n",
              "      <th>678</th>\n",
              "      <td>2013.0</td>\n",
              "      <td>Miami Heat</td>\n",
              "      <td>0.992841</td>\n",
              "      <td>1</td>\n",
              "    </tr>\n",
              "    <tr>\n",
              "      <th>689</th>\n",
              "      <td>2013.0</td>\n",
              "      <td>San Antonio Spurs</td>\n",
              "      <td>0.98988</td>\n",
              "      <td>0</td>\n",
              "    </tr>\n",
              "    <tr>\n",
              "      <th>708</th>\n",
              "      <td>2014.0</td>\n",
              "      <td>Miami Heat</td>\n",
              "      <td>0.641872</td>\n",
              "      <td>0</td>\n",
              "    </tr>\n",
              "    <tr>\n",
              "      <th>719</th>\n",
              "      <td>2014.0</td>\n",
              "      <td>San Antonio Spurs</td>\n",
              "      <td>0.99158</td>\n",
              "      <td>1</td>\n",
              "    </tr>\n",
              "    <tr>\n",
              "      <th>723</th>\n",
              "      <td>2015.0</td>\n",
              "      <td>Atlanta Hawks</td>\n",
              "      <td>0.930892</td>\n",
              "      <td>0</td>\n",
              "    </tr>\n",
              "    <tr>\n",
              "      <th>728</th>\n",
              "      <td>2015.0</td>\n",
              "      <td>Cleveland Cavaliers</td>\n",
              "      <td>0.618783</td>\n",
              "      <td>0</td>\n",
              "    </tr>\n",
              "    <tr>\n",
              "      <th>732</th>\n",
              "      <td>2015.0</td>\n",
              "      <td>Golden State Warriors</td>\n",
              "      <td>0.997324</td>\n",
              "      <td>1</td>\n",
              "    </tr>\n",
              "    <tr>\n",
              "      <th>749</th>\n",
              "      <td>2015.0</td>\n",
              "      <td>San Antonio Spurs</td>\n",
              "      <td>0.822876</td>\n",
              "      <td>0</td>\n",
              "    </tr>\n",
              "    <tr>\n",
              "      <th>758</th>\n",
              "      <td>2016.0</td>\n",
              "      <td>Cleveland Cavaliers</td>\n",
              "      <td>0.993487</td>\n",
              "      <td>1</td>\n",
              "    </tr>\n",
              "    <tr>\n",
              "      <th>762</th>\n",
              "      <td>2016.0</td>\n",
              "      <td>Golden State Warriors</td>\n",
              "      <td>0.99165</td>\n",
              "      <td>0</td>\n",
              "    </tr>\n",
              "    <tr>\n",
              "      <th>779</th>\n",
              "      <td>2016.0</td>\n",
              "      <td>San Antonio Spurs</td>\n",
              "      <td>0.639589</td>\n",
              "      <td>0</td>\n",
              "    </tr>\n",
              "    <tr>\n",
              "      <th>788</th>\n",
              "      <td>2017.0</td>\n",
              "      <td>Cleveland Cavaliers</td>\n",
              "      <td>0.906275</td>\n",
              "      <td>0</td>\n",
              "    </tr>\n",
              "    <tr>\n",
              "      <th>792</th>\n",
              "      <td>2017.0</td>\n",
              "      <td>Golden State Warriors</td>\n",
              "      <td>0.998052</td>\n",
              "      <td>1</td>\n",
              "    </tr>\n",
              "    <tr>\n",
              "      <th>822</th>\n",
              "      <td>2018.0</td>\n",
              "      <td>Golden State Warriors</td>\n",
              "      <td>0.978009</td>\n",
              "      <td>1</td>\n",
              "    </tr>\n",
              "    <tr>\n",
              "      <th>835</th>\n",
              "      <td>2018.0</td>\n",
              "      <td>Philadelphia 76ers</td>\n",
              "      <td>0.889494</td>\n",
              "      <td>0</td>\n",
              "    </tr>\n",
              "    <tr>\n",
              "      <th>840</th>\n",
              "      <td>2018.0</td>\n",
              "      <td>Toronto Raptors</td>\n",
              "      <td>0.930146</td>\n",
              "      <td>0</td>\n",
              "    </tr>\n",
              "    <tr>\n",
              "      <th>852</th>\n",
              "      <td>2019.0</td>\n",
              "      <td>Golden State Warriors</td>\n",
              "      <td>0.857569</td>\n",
              "      <td>0</td>\n",
              "    </tr>\n",
              "    <tr>\n",
              "      <th>859</th>\n",
              "      <td>2019.0</td>\n",
              "      <td>Milwaukee Bucks</td>\n",
              "      <td>0.745789</td>\n",
              "      <td>0</td>\n",
              "    </tr>\n",
              "    <tr>\n",
              "      <th>870</th>\n",
              "      <td>2019.0</td>\n",
              "      <td>Toronto Raptors</td>\n",
              "      <td>0.994711</td>\n",
              "      <td>1</td>\n",
              "    </tr>\n",
              "    <tr>\n",
              "      <th>900</th>\n",
              "      <td>2020.0</td>\n",
              "      <td>Toronto Raptors</td>\n",
              "      <td>0.822011</td>\n",
              "      <td>0</td>\n",
              "    </tr>\n",
              "  </tbody>\n",
              "</table>\n",
              "</div>\n",
              "      <button class=\"colab-df-convert\" onclick=\"convertToInteractive('df-0e023e4e-c7cb-4c45-a67f-4bccb810fa0c')\"\n",
              "              title=\"Convert this dataframe to an interactive table.\"\n",
              "              style=\"display:none;\">\n",
              "        \n",
              "  <svg xmlns=\"http://www.w3.org/2000/svg\" height=\"24px\"viewBox=\"0 0 24 24\"\n",
              "       width=\"24px\">\n",
              "    <path d=\"M0 0h24v24H0V0z\" fill=\"none\"/>\n",
              "    <path d=\"M18.56 5.44l.94 2.06.94-2.06 2.06-.94-2.06-.94-.94-2.06-.94 2.06-2.06.94zm-11 1L8.5 8.5l.94-2.06 2.06-.94-2.06-.94L8.5 2.5l-.94 2.06-2.06.94zm10 10l.94 2.06.94-2.06 2.06-.94-2.06-.94-.94-2.06-.94 2.06-2.06.94z\"/><path d=\"M17.41 7.96l-1.37-1.37c-.4-.4-.92-.59-1.43-.59-.52 0-1.04.2-1.43.59L10.3 9.45l-7.72 7.72c-.78.78-.78 2.05 0 2.83L4 21.41c.39.39.9.59 1.41.59.51 0 1.02-.2 1.41-.59l7.78-7.78 2.81-2.81c.8-.78.8-2.07 0-2.86zM5.41 20L4 18.59l7.72-7.72 1.47 1.35L5.41 20z\"/>\n",
              "  </svg>\n",
              "      </button>\n",
              "      \n",
              "  <style>\n",
              "    .colab-df-container {\n",
              "      display:flex;\n",
              "      flex-wrap:wrap;\n",
              "      gap: 12px;\n",
              "    }\n",
              "\n",
              "    .colab-df-convert {\n",
              "      background-color: #E8F0FE;\n",
              "      border: none;\n",
              "      border-radius: 50%;\n",
              "      cursor: pointer;\n",
              "      display: none;\n",
              "      fill: #1967D2;\n",
              "      height: 32px;\n",
              "      padding: 0 0 0 0;\n",
              "      width: 32px;\n",
              "    }\n",
              "\n",
              "    .colab-df-convert:hover {\n",
              "      background-color: #E2EBFA;\n",
              "      box-shadow: 0px 1px 2px rgba(60, 64, 67, 0.3), 0px 1px 3px 1px rgba(60, 64, 67, 0.15);\n",
              "      fill: #174EA6;\n",
              "    }\n",
              "\n",
              "    [theme=dark] .colab-df-convert {\n",
              "      background-color: #3B4455;\n",
              "      fill: #D2E3FC;\n",
              "    }\n",
              "\n",
              "    [theme=dark] .colab-df-convert:hover {\n",
              "      background-color: #434B5C;\n",
              "      box-shadow: 0px 1px 3px 1px rgba(0, 0, 0, 0.15);\n",
              "      filter: drop-shadow(0px 1px 2px rgba(0, 0, 0, 0.3));\n",
              "      fill: #FFFFFF;\n",
              "    }\n",
              "  </style>\n",
              "\n",
              "      <script>\n",
              "        const buttonEl =\n",
              "          document.querySelector('#df-0e023e4e-c7cb-4c45-a67f-4bccb810fa0c button.colab-df-convert');\n",
              "        buttonEl.style.display =\n",
              "          google.colab.kernel.accessAllowed ? 'block' : 'none';\n",
              "\n",
              "        async function convertToInteractive(key) {\n",
              "          const element = document.querySelector('#df-0e023e4e-c7cb-4c45-a67f-4bccb810fa0c');\n",
              "          const dataTable =\n",
              "            await google.colab.kernel.invokeFunction('convertToInteractive',\n",
              "                                                     [key], {});\n",
              "          if (!dataTable) return;\n",
              "\n",
              "          const docLinkHtml = 'Like what you see? Visit the ' +\n",
              "            '<a target=\"_blank\" href=https://colab.research.google.com/notebooks/data_table.ipynb>data table notebook</a>'\n",
              "            + ' to learn more about interactive tables.';\n",
              "          element.innerHTML = '';\n",
              "          dataTable['output_type'] = 'display_data';\n",
              "          await google.colab.output.renderOutput(dataTable, element);\n",
              "          const docLink = document.createElement('div');\n",
              "          docLink.innerHTML = docLinkHtml;\n",
              "          element.appendChild(docLink);\n",
              "        }\n",
              "      </script>\n",
              "    </div>\n",
              "  </div>\n",
              "  "
            ]
          },
          "metadata": {},
          "execution_count": 135
        }
      ]
    },
    {
      "cell_type": "code",
      "source": [
        "years = np.arange(1990.0,2020.0)\n",
        "\n",
        "row_list = []\n",
        "\n",
        "for year in years:\n",
        "\n",
        "  year_df = test_df[test_df[\"Year\"] == year]\n",
        "  year_df.reset_index()\n",
        "  max_idx = pd.to_numeric(year_df[\"Prediction\"]).idxmax()\n",
        "  row_list.append(dict(test_df.iloc[max_idx]))\n",
        "\n",
        "max_year_df = pd.DataFrame(row_list, columns = ['Year', 'Team', 'Prediction', 'True'])\n"
      ],
      "metadata": {
        "id": "1AMqQBAWGUtE"
      },
      "execution_count": 175,
      "outputs": []
    },
    {
      "cell_type": "code",
      "source": [
        "max_year_df"
      ],
      "metadata": {
        "colab": {
          "base_uri": "https://localhost:8080/",
          "height": 990
        },
        "id": "np4hwgfoJXwq",
        "outputId": "7e6b2347-95da-4e44-9d5d-de0fd1fb809b"
      },
      "execution_count": 176,
      "outputs": [
        {
          "output_type": "execute_result",
          "data": {
            "text/plain": [
              "      Year                   Team  Prediction  True\n",
              "0   1990.0        Detroit Pistons    0.994917     1\n",
              "1   1991.0          Chicago Bulls    0.997226     1\n",
              "2   1992.0          Chicago Bulls    0.999743     1\n",
              "3   1993.0          Chicago Bulls    0.997227     1\n",
              "4   1994.0        Houston Rockets    0.994435     1\n",
              "5   1995.0        Houston Rockets    0.996245     1\n",
              "6   1996.0          Chicago Bulls    0.999510     1\n",
              "7   1997.0          Chicago Bulls    0.999777     1\n",
              "8   1998.0          Chicago Bulls    0.993178     1\n",
              "9   1999.0      San Antonio Spurs    0.998932     1\n",
              "10  2000.0      San Antonio Spurs    0.918306     0\n",
              "11  2001.0     Los Angeles Lakers    0.990336     1\n",
              "12  2002.0     Los Angeles Lakers    0.986188     1\n",
              "13  2003.0     Los Angeles Lakers    0.916924     0\n",
              "14  2004.0        Detroit Pistons    0.996865     1\n",
              "15  2005.0      San Antonio Spurs    0.992635     1\n",
              "16  2006.0      San Antonio Spurs    0.868842     0\n",
              "17  2007.0      San Antonio Spurs    0.989396     1\n",
              "18  2008.0         Boston Celtics    0.994943     1\n",
              "19  2009.0     Los Angeles Lakers    0.987838     1\n",
              "20  2010.0     Los Angeles Lakers    0.979075     1\n",
              "21  2011.0     Los Angeles Lakers    0.995191     0\n",
              "22  2012.0             Miami Heat    0.995151     1\n",
              "23  2013.0             Miami Heat    0.992841     1\n",
              "24  2014.0      San Antonio Spurs    0.991580     1\n",
              "25  2015.0  Golden State Warriors    0.997324     1\n",
              "26  2016.0    Cleveland Cavaliers    0.993487     1\n",
              "27  2017.0  Golden State Warriors    0.998052     1\n",
              "28  2018.0  Golden State Warriors    0.978009     1\n",
              "29  2019.0        Toronto Raptors    0.994711     1"
            ],
            "text/html": [
              "\n",
              "  <div id=\"df-f5ef241d-268e-454d-82f8-1f0d84b026b9\">\n",
              "    <div class=\"colab-df-container\">\n",
              "      <div>\n",
              "<style scoped>\n",
              "    .dataframe tbody tr th:only-of-type {\n",
              "        vertical-align: middle;\n",
              "    }\n",
              "\n",
              "    .dataframe tbody tr th {\n",
              "        vertical-align: top;\n",
              "    }\n",
              "\n",
              "    .dataframe thead th {\n",
              "        text-align: right;\n",
              "    }\n",
              "</style>\n",
              "<table border=\"1\" class=\"dataframe\">\n",
              "  <thead>\n",
              "    <tr style=\"text-align: right;\">\n",
              "      <th></th>\n",
              "      <th>Year</th>\n",
              "      <th>Team</th>\n",
              "      <th>Prediction</th>\n",
              "      <th>True</th>\n",
              "    </tr>\n",
              "  </thead>\n",
              "  <tbody>\n",
              "    <tr>\n",
              "      <th>0</th>\n",
              "      <td>1990.0</td>\n",
              "      <td>Detroit Pistons</td>\n",
              "      <td>0.994917</td>\n",
              "      <td>1</td>\n",
              "    </tr>\n",
              "    <tr>\n",
              "      <th>1</th>\n",
              "      <td>1991.0</td>\n",
              "      <td>Chicago Bulls</td>\n",
              "      <td>0.997226</td>\n",
              "      <td>1</td>\n",
              "    </tr>\n",
              "    <tr>\n",
              "      <th>2</th>\n",
              "      <td>1992.0</td>\n",
              "      <td>Chicago Bulls</td>\n",
              "      <td>0.999743</td>\n",
              "      <td>1</td>\n",
              "    </tr>\n",
              "    <tr>\n",
              "      <th>3</th>\n",
              "      <td>1993.0</td>\n",
              "      <td>Chicago Bulls</td>\n",
              "      <td>0.997227</td>\n",
              "      <td>1</td>\n",
              "    </tr>\n",
              "    <tr>\n",
              "      <th>4</th>\n",
              "      <td>1994.0</td>\n",
              "      <td>Houston Rockets</td>\n",
              "      <td>0.994435</td>\n",
              "      <td>1</td>\n",
              "    </tr>\n",
              "    <tr>\n",
              "      <th>5</th>\n",
              "      <td>1995.0</td>\n",
              "      <td>Houston Rockets</td>\n",
              "      <td>0.996245</td>\n",
              "      <td>1</td>\n",
              "    </tr>\n",
              "    <tr>\n",
              "      <th>6</th>\n",
              "      <td>1996.0</td>\n",
              "      <td>Chicago Bulls</td>\n",
              "      <td>0.999510</td>\n",
              "      <td>1</td>\n",
              "    </tr>\n",
              "    <tr>\n",
              "      <th>7</th>\n",
              "      <td>1997.0</td>\n",
              "      <td>Chicago Bulls</td>\n",
              "      <td>0.999777</td>\n",
              "      <td>1</td>\n",
              "    </tr>\n",
              "    <tr>\n",
              "      <th>8</th>\n",
              "      <td>1998.0</td>\n",
              "      <td>Chicago Bulls</td>\n",
              "      <td>0.993178</td>\n",
              "      <td>1</td>\n",
              "    </tr>\n",
              "    <tr>\n",
              "      <th>9</th>\n",
              "      <td>1999.0</td>\n",
              "      <td>San Antonio Spurs</td>\n",
              "      <td>0.998932</td>\n",
              "      <td>1</td>\n",
              "    </tr>\n",
              "    <tr>\n",
              "      <th>10</th>\n",
              "      <td>2000.0</td>\n",
              "      <td>San Antonio Spurs</td>\n",
              "      <td>0.918306</td>\n",
              "      <td>0</td>\n",
              "    </tr>\n",
              "    <tr>\n",
              "      <th>11</th>\n",
              "      <td>2001.0</td>\n",
              "      <td>Los Angeles Lakers</td>\n",
              "      <td>0.990336</td>\n",
              "      <td>1</td>\n",
              "    </tr>\n",
              "    <tr>\n",
              "      <th>12</th>\n",
              "      <td>2002.0</td>\n",
              "      <td>Los Angeles Lakers</td>\n",
              "      <td>0.986188</td>\n",
              "      <td>1</td>\n",
              "    </tr>\n",
              "    <tr>\n",
              "      <th>13</th>\n",
              "      <td>2003.0</td>\n",
              "      <td>Los Angeles Lakers</td>\n",
              "      <td>0.916924</td>\n",
              "      <td>0</td>\n",
              "    </tr>\n",
              "    <tr>\n",
              "      <th>14</th>\n",
              "      <td>2004.0</td>\n",
              "      <td>Detroit Pistons</td>\n",
              "      <td>0.996865</td>\n",
              "      <td>1</td>\n",
              "    </tr>\n",
              "    <tr>\n",
              "      <th>15</th>\n",
              "      <td>2005.0</td>\n",
              "      <td>San Antonio Spurs</td>\n",
              "      <td>0.992635</td>\n",
              "      <td>1</td>\n",
              "    </tr>\n",
              "    <tr>\n",
              "      <th>16</th>\n",
              "      <td>2006.0</td>\n",
              "      <td>San Antonio Spurs</td>\n",
              "      <td>0.868842</td>\n",
              "      <td>0</td>\n",
              "    </tr>\n",
              "    <tr>\n",
              "      <th>17</th>\n",
              "      <td>2007.0</td>\n",
              "      <td>San Antonio Spurs</td>\n",
              "      <td>0.989396</td>\n",
              "      <td>1</td>\n",
              "    </tr>\n",
              "    <tr>\n",
              "      <th>18</th>\n",
              "      <td>2008.0</td>\n",
              "      <td>Boston Celtics</td>\n",
              "      <td>0.994943</td>\n",
              "      <td>1</td>\n",
              "    </tr>\n",
              "    <tr>\n",
              "      <th>19</th>\n",
              "      <td>2009.0</td>\n",
              "      <td>Los Angeles Lakers</td>\n",
              "      <td>0.987838</td>\n",
              "      <td>1</td>\n",
              "    </tr>\n",
              "    <tr>\n",
              "      <th>20</th>\n",
              "      <td>2010.0</td>\n",
              "      <td>Los Angeles Lakers</td>\n",
              "      <td>0.979075</td>\n",
              "      <td>1</td>\n",
              "    </tr>\n",
              "    <tr>\n",
              "      <th>21</th>\n",
              "      <td>2011.0</td>\n",
              "      <td>Los Angeles Lakers</td>\n",
              "      <td>0.995191</td>\n",
              "      <td>0</td>\n",
              "    </tr>\n",
              "    <tr>\n",
              "      <th>22</th>\n",
              "      <td>2012.0</td>\n",
              "      <td>Miami Heat</td>\n",
              "      <td>0.995151</td>\n",
              "      <td>1</td>\n",
              "    </tr>\n",
              "    <tr>\n",
              "      <th>23</th>\n",
              "      <td>2013.0</td>\n",
              "      <td>Miami Heat</td>\n",
              "      <td>0.992841</td>\n",
              "      <td>1</td>\n",
              "    </tr>\n",
              "    <tr>\n",
              "      <th>24</th>\n",
              "      <td>2014.0</td>\n",
              "      <td>San Antonio Spurs</td>\n",
              "      <td>0.991580</td>\n",
              "      <td>1</td>\n",
              "    </tr>\n",
              "    <tr>\n",
              "      <th>25</th>\n",
              "      <td>2015.0</td>\n",
              "      <td>Golden State Warriors</td>\n",
              "      <td>0.997324</td>\n",
              "      <td>1</td>\n",
              "    </tr>\n",
              "    <tr>\n",
              "      <th>26</th>\n",
              "      <td>2016.0</td>\n",
              "      <td>Cleveland Cavaliers</td>\n",
              "      <td>0.993487</td>\n",
              "      <td>1</td>\n",
              "    </tr>\n",
              "    <tr>\n",
              "      <th>27</th>\n",
              "      <td>2017.0</td>\n",
              "      <td>Golden State Warriors</td>\n",
              "      <td>0.998052</td>\n",
              "      <td>1</td>\n",
              "    </tr>\n",
              "    <tr>\n",
              "      <th>28</th>\n",
              "      <td>2018.0</td>\n",
              "      <td>Golden State Warriors</td>\n",
              "      <td>0.978009</td>\n",
              "      <td>1</td>\n",
              "    </tr>\n",
              "    <tr>\n",
              "      <th>29</th>\n",
              "      <td>2019.0</td>\n",
              "      <td>Toronto Raptors</td>\n",
              "      <td>0.994711</td>\n",
              "      <td>1</td>\n",
              "    </tr>\n",
              "  </tbody>\n",
              "</table>\n",
              "</div>\n",
              "      <button class=\"colab-df-convert\" onclick=\"convertToInteractive('df-f5ef241d-268e-454d-82f8-1f0d84b026b9')\"\n",
              "              title=\"Convert this dataframe to an interactive table.\"\n",
              "              style=\"display:none;\">\n",
              "        \n",
              "  <svg xmlns=\"http://www.w3.org/2000/svg\" height=\"24px\"viewBox=\"0 0 24 24\"\n",
              "       width=\"24px\">\n",
              "    <path d=\"M0 0h24v24H0V0z\" fill=\"none\"/>\n",
              "    <path d=\"M18.56 5.44l.94 2.06.94-2.06 2.06-.94-2.06-.94-.94-2.06-.94 2.06-2.06.94zm-11 1L8.5 8.5l.94-2.06 2.06-.94-2.06-.94L8.5 2.5l-.94 2.06-2.06.94zm10 10l.94 2.06.94-2.06 2.06-.94-2.06-.94-.94-2.06-.94 2.06-2.06.94z\"/><path d=\"M17.41 7.96l-1.37-1.37c-.4-.4-.92-.59-1.43-.59-.52 0-1.04.2-1.43.59L10.3 9.45l-7.72 7.72c-.78.78-.78 2.05 0 2.83L4 21.41c.39.39.9.59 1.41.59.51 0 1.02-.2 1.41-.59l7.78-7.78 2.81-2.81c.8-.78.8-2.07 0-2.86zM5.41 20L4 18.59l7.72-7.72 1.47 1.35L5.41 20z\"/>\n",
              "  </svg>\n",
              "      </button>\n",
              "      \n",
              "  <style>\n",
              "    .colab-df-container {\n",
              "      display:flex;\n",
              "      flex-wrap:wrap;\n",
              "      gap: 12px;\n",
              "    }\n",
              "\n",
              "    .colab-df-convert {\n",
              "      background-color: #E8F0FE;\n",
              "      border: none;\n",
              "      border-radius: 50%;\n",
              "      cursor: pointer;\n",
              "      display: none;\n",
              "      fill: #1967D2;\n",
              "      height: 32px;\n",
              "      padding: 0 0 0 0;\n",
              "      width: 32px;\n",
              "    }\n",
              "\n",
              "    .colab-df-convert:hover {\n",
              "      background-color: #E2EBFA;\n",
              "      box-shadow: 0px 1px 2px rgba(60, 64, 67, 0.3), 0px 1px 3px 1px rgba(60, 64, 67, 0.15);\n",
              "      fill: #174EA6;\n",
              "    }\n",
              "\n",
              "    [theme=dark] .colab-df-convert {\n",
              "      background-color: #3B4455;\n",
              "      fill: #D2E3FC;\n",
              "    }\n",
              "\n",
              "    [theme=dark] .colab-df-convert:hover {\n",
              "      background-color: #434B5C;\n",
              "      box-shadow: 0px 1px 3px 1px rgba(0, 0, 0, 0.15);\n",
              "      filter: drop-shadow(0px 1px 2px rgba(0, 0, 0, 0.3));\n",
              "      fill: #FFFFFF;\n",
              "    }\n",
              "  </style>\n",
              "\n",
              "      <script>\n",
              "        const buttonEl =\n",
              "          document.querySelector('#df-f5ef241d-268e-454d-82f8-1f0d84b026b9 button.colab-df-convert');\n",
              "        buttonEl.style.display =\n",
              "          google.colab.kernel.accessAllowed ? 'block' : 'none';\n",
              "\n",
              "        async function convertToInteractive(key) {\n",
              "          const element = document.querySelector('#df-f5ef241d-268e-454d-82f8-1f0d84b026b9');\n",
              "          const dataTable =\n",
              "            await google.colab.kernel.invokeFunction('convertToInteractive',\n",
              "                                                     [key], {});\n",
              "          if (!dataTable) return;\n",
              "\n",
              "          const docLinkHtml = 'Like what you see? Visit the ' +\n",
              "            '<a target=\"_blank\" href=https://colab.research.google.com/notebooks/data_table.ipynb>data table notebook</a>'\n",
              "            + ' to learn more about interactive tables.';\n",
              "          element.innerHTML = '';\n",
              "          dataTable['output_type'] = 'display_data';\n",
              "          await google.colab.output.renderOutput(dataTable, element);\n",
              "          const docLink = document.createElement('div');\n",
              "          docLink.innerHTML = docLinkHtml;\n",
              "          element.appendChild(docLink);\n",
              "        }\n",
              "      </script>\n",
              "    </div>\n",
              "  </div>\n",
              "  "
            ]
          },
          "metadata": {},
          "execution_count": 176
        }
      ]
    },
    {
      "cell_type": "code",
      "source": [
        ""
      ],
      "metadata": {
        "id": "GrOuGqadKtef"
      },
      "execution_count": null,
      "outputs": []
    },
    {
      "cell_type": "markdown",
      "source": [
        "### Loading in Test Data"
      ],
      "metadata": {
        "id": "ZB03OGXeK-sG"
      }
    },
    {
      "cell_type": "code",
      "source": [
        "test_data = pd.read_csv('nba_team_advanced_data.csv')"
      ],
      "metadata": {
        "id": "TIe2b2rILuXb"
      },
      "execution_count": null,
      "outputs": []
    },
    {
      "cell_type": "code",
      "source": [
        "test_data = test_data.drop(columns=['Playoffs', 'Losing_season', 'Arena'])"
      ],
      "metadata": {
        "id": "OVGubmcwL1EX"
      },
      "execution_count": null,
      "outputs": []
    }
  ]
}