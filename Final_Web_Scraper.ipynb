{
  "nbformat": 4,
  "nbformat_minor": 0,
  "metadata": {
    "colab": {
      "name": "Final Web Scraper (Playoffs)",
      "provenance": [],
      "authorship_tag": "ABX9TyOfJZgc8Ilzdgojeq6VFcO/",
      "include_colab_link": true
    },
    "kernelspec": {
      "name": "python3",
      "display_name": "Python 3"
    },
    "language_info": {
      "name": "python"
    }
  },
  "cells": [
    {
      "cell_type": "markdown",
      "metadata": {
        "id": "view-in-github",
        "colab_type": "text"
      },
      "source": [
        "<a href=\"https://colab.research.google.com/github/frankwillard/NBA-Web-Scraper-And-ANN/blob/main/Final_Web_Scraper.ipynb\" target=\"_parent\"><img src=\"https://colab.research.google.com/assets/colab-badge.svg\" alt=\"Open In Colab\"/></a>"
      ]
    },
    {
      "cell_type": "code",
      "execution_count": 1,
      "metadata": {
        "id": "pL67RYudI43o"
      },
      "outputs": [],
      "source": [
        "# import needed libraries\n",
        "from urllib.request import urlopen\n",
        "from bs4 import BeautifulSoup\n",
        "import pandas as pd\n",
        "import re\n",
        "import numpy as np"
      ]
    },
    {
      "cell_type": "code",
      "source": [
        "def remove_items(test_list, item):\n",
        "      \n",
        "    # using list comprehension to perform the task\n",
        "    res = [i for i in test_list if i != item]\n",
        "  \n",
        "    return res"
      ],
      "metadata": {
        "id": "q6AgcG13JJQL"
      },
      "execution_count": 2,
      "outputs": []
    },
    {
      "cell_type": "code",
      "source": [
        "def multiple_replace(string, rep_dict):\n",
        "    pattern = re.compile(\"|\".join([re.escape(k) for k in sorted(rep_dict,key=len,reverse=True)]), flags=re.DOTALL)\n",
        "    return pattern.sub(lambda x: rep_dict[x.group(0)], string)"
      ],
      "metadata": {
        "id": "CvlWKWItNXJq"
      },
      "execution_count": 3,
      "outputs": []
    },
    {
      "cell_type": "code",
      "source": [
        "# create a function to scrape team performance for multiple years\n",
        "def scrape_NBA_team_data(years = [2017, 2018]):\n",
        "\n",
        "    final_df = pd.DataFrame(columns = ['Year', 'Team', 'Age', 'W', 'L', 'PW', 'PL', 'MOV', 'SOS', 'SRS',\n",
        "       'ORtg', 'DRtg', 'NRtg', 'Pace', 'FTr', '3PAr', 'TS%', 'OeFG%', 'OTOV%',\n",
        "       'ORB%', 'OFT/FGA', 'DeFG%', 'DTOV%', 'DRB%', 'DFT/FGA', 'Arena', 'Attend.',\n",
        "       'Playoffs', 'W/L%', 'Losing_season'])\n",
        "\n",
        "    # loop through each year\n",
        "    for y in years:\n",
        "        # NBA season to scrape\n",
        "        year = y\n",
        "        \n",
        "        # URL to scrape, notice f string:\n",
        "        url = f\"https://www.basketball-reference.com/leagues/NBA_{year}.html\"\n",
        "        \n",
        "        # collect HTML data\n",
        "        html = urlopen(url)\n",
        "        \n",
        "        # create beautiful soup object from HTML\n",
        "        soup = BeautifulSoup(html, features=\"lxml\")\n",
        "\n",
        "        league_champ_txt = soup.findAll(\"strong\")[1]\n",
        "\n",
        "        league_champ = league_champ_txt.find_next_sibling(\"a\").getText()\n",
        "\n",
        "\n",
        "        #rows = adv_table.tbody.find_all('tr')\n",
        "        \n",
        "        adv_table = soup.find(id='advanced-team')\n",
        "\n",
        "        adv_cols = [th.getText() for th in adv_table.findAll('tr', limit=2)[1].findAll('th')]\n",
        "        adv_cols = remove_items(adv_cols, '\\xa0')\n",
        "        adv_cols.remove('Attend./G')\n",
        "\n",
        "        for i in [17,18,20]:\n",
        "          adv_cols[i]=\"O\"+adv_cols[i]\n",
        "        \n",
        "        for i in [21,22,24]:\n",
        "          adv_cols[i]=\"D\"+adv_cols[i]\n",
        "\n",
        "        #df = pd.DataFrame(columns=[\"Year\"].extend(adv_cols))\n",
        "\n",
        "        reg_dict = {\n",
        "            \"+\":\"\",\n",
        "            \",\":\"\"\n",
        "        }\n",
        "        \n",
        "        team_stats = []\n",
        "        j = 0\n",
        "\n",
        "        rows = adv_table.tbody.find_all('tr')\n",
        "        for row in rows:\n",
        "          columns = row.find_all('td')\n",
        "          team_stats.append([multiple_replace(columns[i].getText(), reg_dict) for i in range(len(columns)-1) if columns[i].getText() != ''])\n",
        "          # remove empty elements\n",
        "          #team_stats = [e for e in team_stats if e != []]\n",
        "          \n",
        "          # add team name to each row in team_stats\n",
        "        for i in range(0, len(team_stats)):\n",
        "            team_stats[i].insert(0, year)\n",
        "        \n",
        "        # add team, year columns to headers\n",
        "        adv_cols.insert(0, \"Year\")\n",
        "\n",
        "        adv_cols.remove(\"Rk\")\n",
        "        \n",
        "        # create a dataframe with all aquired info\n",
        "        year_standings = pd.DataFrame(team_stats, columns = adv_cols)        \n",
        "       \n",
        "        # add a column to dataframe to indicate playoff appearance\n",
        "        year_standings[\"Playoffs\"] = [\"Y\" if \"*\" in ele else \"N\" for ele in year_standings[\"Team\"]]\n",
        "\n",
        "        # remove * from team names\n",
        "        year_standings[\"Team\"] = [ele.replace('*', '') for ele in year_standings[\"Team\"]]\n",
        "\n",
        "        for col in year_standings.columns:\n",
        "          if col not in [\"Team\", \"Arena\", \"Playoffs\"]:\n",
        "            year_standings[col] = year_standings[col].astype(float)\n",
        "        # add losing season indicator (win % < .5)\n",
        "\n",
        "        year_standings[\"W/L%\"] = year_standings[\"W\"] / (year_standings[\"W\"] + year_standings[\"L\"])\n",
        "\n",
        "        year_standings[\"Losing_season\"] = [\"Y\" if float(ele) < .5 else \"N\" for ele in year_standings[\"W/L%\"]]\n",
        "\n",
        "        year_standings[\"Champion\"] = [\"Y\" if name == league_champ else \"N\" for name in year_standings[\"Team\"]]\n",
        "        \n",
        "        #for i in [17,18,20]:\n",
        "        #  year_standings = year_standings.rename(columns={year_standings.columns[i]: 'O'+year_standings.columns[i]})\n",
        "        \n",
        "        #for i in [21,22,25]:\n",
        "        #  year_standings = year_standings.rename(columns={year_standings.columns[i]: 'D'+year_standings.columns[i]})\n",
        "\n",
        "        #print(year_standings.columns)\n",
        "\n",
        "        # append new dataframe to final_df\n",
        "        final_df = final_df.append(year_standings)\n",
        "    \n",
        "    final_df = final_df.sort_values(by=['Team', 'Year'])\n",
        "\n",
        "    lag_1 = final_df['Champion'].shift(1)\n",
        "\n",
        "    final_df['won_last'] = lag_1  # add to DataFrame\n",
        "\n",
        "    concat = final_df['Champion'].shift(1) + final_df['Champion'].shift(2) + final_df['Champion'].shift(3)\n",
        "\n",
        "    lag_3 = concat.str.contains(\"Y\")\n",
        "\n",
        "    pd.set_option('display.max_rows', 20)\n",
        "    \n",
        "    #print(lag_3)\n",
        "\n",
        "    final_df['won_last_3'] = [\"Y\" if lagger else \"N\" for lagger in lag_3]  # add to DataFrame\n",
        "    \n",
        "    final_df = final_df[final_df.Year > 1989.0]\n",
        "\n",
        "    final_df = final_df.sort_values(by=['Year', 'Team'])\n",
        "\n",
        "    # print final_df\n",
        "    print(final_df.info)\n",
        "    # export to csv\n",
        "    final_df.to_csv(\"nba_team_advanced_data.csv\", index=False)"
      ],
      "metadata": {
        "id": "TKsLs_uiI5yV"
      },
      "execution_count": 4,
      "outputs": []
    },
    {
      "cell_type": "code",
      "source": [
        "#scrape_NBA_team_data(years = [1987, 1988, 1989, 1990, 1991, 1992])"
      ],
      "metadata": {
        "id": "Bf2kw_E6UiXZ"
      },
      "execution_count": 5,
      "outputs": []
    },
    {
      "cell_type": "code",
      "source": [
        "scrape_NBA_team_data(years = [1987, 1988, 1989, 1990, 1991, 1992, 1993, 1994,\n",
        "                              1995, 1996, 1997, 1998, 1999,\n",
        "                              2000, 2001, 2002, 2003, 2004,\n",
        "                              2005, 2006, 2007, 2008, 2009,\n",
        "                              2010, 2011, 2012, 2013, 2014,\n",
        "                              2015, 2016, 2017, 2018, 2019,\n",
        "                              2020])"
      ],
      "metadata": {
        "colab": {
          "base_uri": "https://localhost:8080/"
        },
        "id": "LNg8Y-nRI7gh",
        "outputId": "68975323-c19b-413f-db1f-c34699b0f084"
      },
      "execution_count": 6,
      "outputs": [
        {
          "output_type": "stream",
          "name": "stdout",
          "text": [
            "<bound method DataFrame.info of       Year                 Team   Age     W     L    PW    PL   MOV   SOS  \\\n",
            "13  1990.0        Atlanta Hawks  28.6  41.0  41.0  44.0  38.0  1.02 -0.39   \n",
            "6   1990.0       Boston Celtics  30.2  52.0  30.0  51.0  31.0  3.99 -0.76   \n",
            "24  1990.0    Charlotte Hornets  25.6  19.0  63.0  21.0  61.0 -7.82  0.81   \n",
            "8   1990.0        Chicago Bulls  26.1  55.0  27.0  50.0  32.0  3.26 -0.51   \n",
            "16  1990.0  Cleveland Cavaliers  26.1  42.0  40.0  40.0  42.0 -0.30 -0.31   \n",
            "..     ...                  ...   ...   ...   ...   ...   ...   ...   ...   \n",
            "20  2020.0     Sacramento Kings  27.0  31.0  41.0  31.0  41.0 -2.04  0.46   \n",
            "16  2020.0    San Antonio Spurs  27.6  32.0  39.0  33.0  38.0 -1.11  0.46   \n",
            "3   2020.0      Toronto Raptors  26.6  53.0  19.0  50.0  22.0  6.24 -0.26   \n",
            "8   2020.0            Utah Jazz  27.3  44.0  28.0  42.0  30.0  2.47  0.05   \n",
            "24  2020.0   Washington Wizards  25.1  25.0  47.0  26.0  46.0 -4.67 -0.57   \n",
            "\n",
            "     SRS  ...  DRB%  DFT/FGA                    Arena   Attend.  Playoffs  \\\n",
            "13  0.64  ...  65.5    0.254            Omni Coliseum  573711.0         N   \n",
            "6   3.23  ...  72.1    0.223            Boston Garden  611537.0         Y   \n",
            "24 -7.00  ...  67.5    0.269       Charlotte Coliseum  979941.0         N   \n",
            "8   2.74  ...  68.1    0.262          Chicago Stadium  752564.0         Y   \n",
            "16 -0.62  ...  67.7    0.202    Coliseum at Richfield  695710.0         Y   \n",
            "..   ...  ...   ...      ...                      ...       ...       ...   \n",
            "20 -1.59  ...  78.4    0.225          Golden 1 Center  520663.0         N   \n",
            "16 -0.65  ...  79.2    0.193              AT&T Center  550515.0         N   \n",
            "3   5.97  ...  76.7    0.202         Scotiabank Arena  633456.0         Y   \n",
            "8   2.52  ...  78.9    0.185  Vivint Smart Home Arena  567486.0         Y   \n",
            "24 -5.24  ...  75.3    0.231        Capital One Arena  532702.0         N   \n",
            "\n",
            "        W/L%  Losing_season  Champion  won_last  won_last_3  \n",
            "13  0.500000              N         N         N           N  \n",
            "6   0.634146              N         N         N           N  \n",
            "24  0.231707              Y         N         N           N  \n",
            "8   0.670732              N         N         N           N  \n",
            "16  0.512195              N         N         N           N  \n",
            "..       ...            ...       ...       ...         ...  \n",
            "20  0.430556              Y         N         N           N  \n",
            "16  0.450704              Y         N         N           N  \n",
            "3   0.736111              N         N         Y           Y  \n",
            "8   0.611111              N         N         N           N  \n",
            "24  0.347222              Y         N         N           N  \n",
            "\n",
            "[903 rows x 33 columns]>\n"
          ]
        }
      ]
    }
  ]
}